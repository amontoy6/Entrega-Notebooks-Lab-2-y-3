{
  "cells": [
    {
      "cell_type": "markdown",
      "metadata": {
        "id": "view-in-github",
        "colab_type": "text"
      },
      "source": [
        "<a href=\"https://colab.research.google.com/github/amontoy6/Entrega-Notebooks-Lab-2-y-3/blob/main/AMM_lab2_nltk_google_colab.ipynb\" target=\"_parent\"><img src=\"https://colab.research.google.com/assets/colab-badge.svg\" alt=\"Open In Colab\"/></a>"
      ]
    },
    {
      "cell_type": "code",
      "execution_count": null,
      "metadata": {
        "id": "sSUoHE5d2X2T"
      },
      "outputs": [],
      "source": [
        "#\n",
        "# Ana Maria Montoya\n",
        "# Universidad EAFIT \n",
        "# 2023-1\n",
        "#"
      ]
    },
    {
      "cell_type": "code",
      "execution_count": null,
      "metadata": {
        "colab": {
          "base_uri": "https://localhost:8080/"
        },
        "id": "LWBFHbzS20OQ",
        "outputId": "a90595a1-e4ed-42a3-edde-4a8c73f85cff"
      },
      "outputs": [
        {
          "output_type": "stream",
          "name": "stdout",
          "text": [
            "Mounted at /content/gdrive\n"
          ]
        }
      ],
      "source": [
        "#configuración en google colab de spark y pyspark\n",
        "from google.colab import drive\n",
        "drive.mount('/content/gdrive')"
      ]
    },
    {
      "cell_type": "code",
      "execution_count": null,
      "metadata": {
        "id": "jSuD9g4H2X2Y"
      },
      "outputs": [],
      "source": [
        "# cargar las librerias necesarias\n",
        "## 1. nltk para 'procesamiento natural del lenguaje'\n",
        "## 2. pandas para procesamiento de dataframes, muy usado en preparación de datos\n",
        "## 3. re - expresiones regulares\n",
        "## 4. numpy, codecs, etc - otraas"
      ]
    },
    {
      "cell_type": "code",
      "execution_count": null,
      "metadata": {
        "colab": {
          "base_uri": "https://localhost:8080/"
        },
        "id": "ztaFc9Rk3xx3",
        "outputId": "7b706f5d-6fe4-4b54-e0fd-11e0987c27c8"
      },
      "outputs": [
        {
          "output_type": "stream",
          "name": "stdout",
          "text": [
            "Looking in indexes: https://pypi.org/simple, https://us-python.pkg.dev/colab-wheels/public/simple/\n",
            "Requirement already satisfied: nltk in /usr/local/lib/python3.8/dist-packages (3.7)\n",
            "Requirement already satisfied: tqdm in /usr/local/lib/python3.8/dist-packages (from nltk) (4.64.1)\n",
            "Requirement already satisfied: regex>=2021.8.3 in /usr/local/lib/python3.8/dist-packages (from nltk) (2022.6.2)\n",
            "Requirement already satisfied: joblib in /usr/local/lib/python3.8/dist-packages (from nltk) (1.2.0)\n",
            "Requirement already satisfied: click in /usr/local/lib/python3.8/dist-packages (from nltk) (8.1.3)\n",
            "Looking in indexes: https://pypi.org/simple, https://us-python.pkg.dev/colab-wheels/public/simple/\n",
            "Requirement already satisfied: pandas in /usr/local/lib/python3.8/dist-packages (1.3.5)\n",
            "Requirement already satisfied: numpy>=1.17.3 in /usr/local/lib/python3.8/dist-packages (from pandas) (1.22.4)\n",
            "Requirement already satisfied: python-dateutil>=2.7.3 in /usr/local/lib/python3.8/dist-packages (from pandas) (2.8.2)\n",
            "Requirement already satisfied: pytz>=2017.3 in /usr/local/lib/python3.8/dist-packages (from pandas) (2022.7.1)\n",
            "Requirement already satisfied: six>=1.5 in /usr/local/lib/python3.8/dist-packages (from python-dateutil>=2.7.3->pandas) (1.15.0)\n"
          ]
        }
      ],
      "source": [
        "!pip3 install nltk\n",
        "!pip3 install pandas"
      ]
    },
    {
      "cell_type": "code",
      "execution_count": null,
      "metadata": {
        "id": "OGC8GjQF2X2c"
      },
      "outputs": [],
      "source": [
        "import nltk\n",
        "import pandas as pd\n",
        "import numpy as np\n",
        "import re\n",
        "import codecs\n",
        "import matplotlib.pyplot as plt"
      ]
    },
    {
      "cell_type": "code",
      "execution_count": null,
      "metadata": {
        "colab": {
          "base_uri": "https://localhost:8080/"
        },
        "id": "UCczY-GZ4hLN",
        "outputId": "3c2da8c9-9f24-433a-b009-4c77d8c835f8"
      },
      "outputs": [
        {
          "output_type": "stream",
          "name": "stdout",
          "text": [
            "48903-0.txt  58221-0.txt  pg45438.txt  pg47631.txt\n",
            "57654-0.txt  pg2000.txt   pg47287.txt  pg62627.txt\n"
          ]
        }
      ],
      "source": [
        "!ls 'gdrive/MyDrive/Maestria/st1800-231/datasets/gutenberg-es/'"
      ]
    },
    {
      "cell_type": "code",
      "execution_count": null,
      "metadata": {
        "id": "k3mMCS952X2g"
      },
      "outputs": [],
      "source": [
        "# directorios (path) de entrada y salida:\n",
        "# \n",
        "path_in=\"gdrive/MyDrive/Maestria/st1800-231/datasets/gutenberg-es/\"\n",
        "path_out=\"gdrive/MyDrive/Maestria/st1800-231/out/\"\n",
        "filenametxt='pg2000.txt'\n",
        "filenamecleantxt='pg2000_clean.txt'\n",
        "filenamecsv='pg2000.csv'"
      ]
    },
    {
      "cell_type": "code",
      "execution_count": null,
      "metadata": {
        "colab": {
          "base_uri": "https://localhost:8080/"
        },
        "id": "G2PK3gGK2X2j",
        "outputId": "f71a8758-d92a-4810-e830-cf50a2b7610f"
      },
      "outputs": [
        {
          "output_type": "stream",
          "name": "stderr",
          "text": [
            "[nltk_data] Downloading package punkt to /root/nltk_data...\n",
            "[nltk_data]   Package punkt is already up-to-date!\n",
            "[nltk_data] Downloading package stopwords to /root/nltk_data...\n",
            "[nltk_data]   Package stopwords is already up-to-date!\n",
            "[nltk_data] Downloading package words to /root/nltk_data...\n",
            "[nltk_data]   Package words is already up-to-date!\n",
            "[nltk_data] Downloading package wordnet to /root/nltk_data...\n",
            "[nltk_data]   Package wordnet is already up-to-date!\n",
            "[nltk_data] Downloading package omw-1.4 to /root/nltk_data...\n",
            "[nltk_data]   Package omw-1.4 is already up-to-date!\n"
          ]
        },
        {
          "output_type": "execute_result",
          "data": {
            "text/plain": [
              "True"
            ]
          },
          "metadata": {},
          "execution_count": 13
        }
      ],
      "source": [
        "# corpus de nltk para 'tokenizer' y 'stopwords'\n",
        "nltk.download('punkt')\n",
        "nltk.download('stopwords')\n",
        "nltk.download('words')\n",
        "nltk.download('wordnet')\n",
        "nltk.download('omw-1.4')"
      ]
    },
    {
      "cell_type": "code",
      "source": [
        "# ejemplo de como nltk tokeniza (esta del Lab 1):\n",
        "texto=\"texto libre que permite crear     hiso20091iras epor--4 no s#e preocupe \\n hola mundo cruel\"\n",
        "tokens = nltk.word_tokenize(texto)\n",
        "print(len(tokens))\n",
        "print(tokens)"
      ],
      "metadata": {
        "colab": {
          "base_uri": "https://localhost:8080/"
        },
        "id": "V631Zewuw0k4",
        "outputId": "3a383761-a789-46e9-dac0-3523dbbbba75"
      },
      "execution_count": null,
      "outputs": [
        {
          "output_type": "stream",
          "name": "stdout",
          "text": [
            "17\n",
            "['texto', 'libre', 'que', 'permite', 'crear', 'hiso20091iras', 'epor', '--', '4', 'no', 's', '#', 'e', 'preocupe', 'hola', 'mundo', 'cruel']\n"
          ]
        }
      ]
    },
    {
      "cell_type": "code",
      "execution_count": null,
      "metadata": {
        "id": "cJ-whL-nuWr_"
      },
      "outputs": [],
      "source": [
        "# las demás instrucciones del lab1-nltk-local.ipynb"
      ]
    },
    {
      "cell_type": "code",
      "source": [
        "# note la estrategia de tokenizar con sentencias simples de python, (es de phyton nativo funcion split)\n",
        "# ¿ cual le parece mejor?\n",
        "# y note la diferencia entre .split() y .split(' ')\n",
        "texto=\"texto libre que permite crear     hiso20091iras            epor--4 no s#e preocupe \\n hola mundo cruel\"\n",
        "tokens = texto.split()\n",
        "print(len(tokens))\n",
        "print(tokens)\n",
        "tokens = texto.split(' ')\n",
        "print(len(tokens))\n",
        "print(tokens)"
      ],
      "metadata": {
        "colab": {
          "base_uri": "https://localhost:8080/"
        },
        "id": "6o_dKO_-xPYH",
        "outputId": "3048085d-bc8b-4a21-9443-bb3a592f0a1c"
      },
      "execution_count": null,
      "outputs": [
        {
          "output_type": "stream",
          "name": "stdout",
          "text": [
            "13\n",
            "['texto', 'libre', 'que', 'permite', 'crear', 'hiso20091iras', 'epor--4', 'no', 's#e', 'preocupe', 'hola', 'mundo', 'cruel']\n",
            "29\n",
            "['texto', 'libre', 'que', 'permite', 'crear', '', '', '', '', 'hiso20091iras', '', '', '', '', '', '', '', '', '', '', '', 'epor--4', 'no', 's#e', 'preocupe', '\\n', 'hola', 'mundo', 'cruel']\n"
          ]
        }
      ]
    },
    {
      "cell_type": "code",
      "source": [
        "# stopwords en nltk (Ingles)\n",
        "from nltk.corpus import stopwords\n",
        " \n",
        "stop_words_nltk = set(stopwords.words('spanish'))\n",
        "stop_words_nltk_en = set(stopwords.words('english'))\n",
        "print(len(stop_words_nltk_en))\n",
        "print(stop_words_nltk_en)"
      ],
      "metadata": {
        "colab": {
          "base_uri": "https://localhost:8080/"
        },
        "id": "RtT5h_BAxxk7",
        "outputId": "a900b3d9-5d70-40de-dbc5-784450e8fa81"
      },
      "execution_count": null,
      "outputs": [
        {
          "output_type": "stream",
          "name": "stdout",
          "text": [
            "179\n",
            "{'because', 'further', 'hadn', 'during', 'ain', 'mightn', 'before', 'myself', 'yourselves', 'of', \"isn't\", 'there', 'own', 'what', 'his', 't', \"shouldn't\", 'for', 'you', 'into', 'where', 'other', 've', \"that'll\", 'himself', 'whom', 'd', 'we', 'are', 'only', 'after', \"hasn't\", 'herself', 'in', \"didn't\", 'do', 'if', \"haven't\", 'o', 'should', 'have', 'against', 'weren', 'not', 'below', 'an', \"needn't\", \"she's\", 'theirs', 'more', 'then', 'so', 'on', 'don', 'shan', 'some', 'being', \"you've\", 'those', 'ourselves', 'am', 're', 'didn', 'when', 'themselves', 'just', 'why', 'yours', 'once', 'all', \"won't\", 'nor', \"hadn't\", 'its', \"should've\", 'down', 'can', \"you'll\", 'it', 'a', 'her', 'but', 'this', 'their', 'they', 'as', 'our', 'is', \"aren't\", 'has', 'out', \"couldn't\", 'he', 'ma', 'that', 'isn', 'be', \"mightn't\", \"wasn't\", 'such', 'doesn', 'now', 'until', 'above', 'and', 'through', 'very', 'both', 'no', 'having', 'same', 'how', \"wouldn't\", 'aren', \"shan't\", 'most', 'i', 'doing', 'up', 'than', 's', 'by', 'she', 'my', 'while', 'haven', 'm', 'y', 'll', 'at', 'wasn', 'again', 'too', 'itself', 'been', 'under', 'these', 'will', \"doesn't\", \"don't\", 'about', 'wouldn', 'any', 'here', 'was', \"you're\", \"mustn't\", 'off', 'ours', \"you'd\", 'your', 'had', 'the', 'them', 'from', 'couldn', 'each', 'who', 'over', \"weren't\", 'hasn', 'mustn', \"it's\", 'few', 'him', 'were', 'with', 'needn', 'shouldn', 'does', 'between', 'which', 'did', 'yourself', 'won', 'to', 'me', 'or', 'hers'}\n"
          ]
        }
      ]
    },
    {
      "cell_type": "code",
      "source": [
        "# stopwords en nltk (Español)\n",
        "from nltk.corpus import stopwords\n",
        " \n",
        "stop_words_nltk = set(stopwords.words('spanish'))\n",
        "stop_words_nltk_en = set(stopwords.words('english'))\n",
        "print(len(stop_words_nltk))\n",
        "print(stop_words_nltk)"
      ],
      "metadata": {
        "colab": {
          "base_uri": "https://localhost:8080/"
        },
        "id": "32TvcvTfx_2a",
        "outputId": "b85eb2b2-793a-42ef-d9cd-1e700a86dbea"
      },
      "execution_count": null,
      "outputs": [
        {
          "output_type": "stream",
          "name": "stdout",
          "text": [
            "313\n",
            "{'otra', 'mí', 'también', 'le', 'estará', 'fueran', 'otros', 'uno', 'estén', 'hemos', 'fuésemos', 'hubimos', 'te', 'hubisteis', 'esos', 'tendrán', 'tuvieran', 'habrías', 'tuviese', 'ante', 'tuviésemos', 'habidos', 'estuvieras', 'nada', 'estuviera', 'tus', 'mías', 'él', 'habré', 'teniendo', 'éramos', 'tuvieses', 'tuviste', 'eran', 'a', 'hubieras', 'tenga', 'vuestra', 'estuvieran', 'seríais', 'hay', 'estaríamos', 'una', 'estuvierais', 'ni', 'hubieseis', 'yo', 'nuestra', 'estabas', 'tenidas', 'fuimos', 'habida', 'durante', 'tendréis', 'esas', 'estuviésemos', 'estuvieron', 'algo', 'vuestras', 'fuisteis', 'tuviéramos', 'mío', 'son', 'serás', 'esté', 'hubieron', 'habréis', 'hayáis', 'estados', 'tenida', 'muy', 'unos', 'estemos', 'es', 'serían', 'suya', 'tuvieron', 'tendría', 'estos', 'su', 'tú', 'habéis', 'siente', 'estuve', 'habido', 'algunos', 'habríamos', 'seríamos', 'eres', 'se', 'nosotras', 'hayamos', 'hubo', 'esto', 'estaba', 'hubiesen', 'hubiera', 'suyas', 'sentidos', 'estaríais', 'estás', 'fuese', 'nuestras', 'les', 'habrá', 'qué', 'tengamos', 'todo', 'serías', 'ella', 'estoy', 'otro', 'tendrían', 'seáis', 'al', 'tenían', 'mi', 'habíamos', 'estuviesen', 'tuyas', 'otras', 'cuando', 'estada', 'esta', 'mucho', 'estábamos', 'tengan', 'habrán', 'muchos', 'tendríamos', 'fueseis', 'tanto', 'cual', 'fuiste', 'soy', 'hubiste', 'ellos', 'fuesen', 'había', 'algunas', 'habidas', 'tuve', 'estés', 'míos', 'sin', 'será', 'os', 'todos', 'hubiese', 'que', 'estáis', 'vosotros', 'poco', 'tuyos', 'sentida', 'porque', 'suyos', 'tenido', 'fuéramos', 'tienen', 'estando', 'o', 'habíais', 'hubiésemos', 'estaban', 'estaría', 'suyo', 'tendrá', 'tuyo', 'habían', 'tuviera', 'e', 'vuestros', 'teníamos', 'estuviese', 'seré', 'nosotros', 'era', 'tiene', 'más', 'estuvisteis', 'de', 'tienes', 'estuvieses', 'hubieran', 'tuvieseis', 'están', 'serán', 'hayan', 'erais', 'seamos', 'sentido', 'han', 'este', 'no', 'estuviéramos', 'sus', 'estar', 'tuvieras', 'quienes', 'y', 'estarán', 'tenías', 'tenidos', 'tenéis', 'sean', 'fuerais', 'sobre', 'habremos', 'habría', 'estado', 'habías', 'un', 'estadas', 'tendrás', 'seas', 'estad', 'teníais', 'vuestro', 'me', 'tendríais', 'estuviste', 'tu', 'entre', 'estabais', 'fueras', 'estas', 'nuestros', 'tendrías', 'tuya', 'estarías', 'estuvo', 'sentidas', 'mis', 'tenía', 'estamos', 'tengáis', 'lo', 'nuestro', 'como', 'estaré', 'tenemos', 'tuvisteis', 'por', 'sea', 'eso', 'sentid', 'fueses', 'tengo', 'fuera', 'desde', 'sintiendo', 'la', 'habrás', 'tendremos', 'estaréis', 'para', 'vosotras', 'hayas', 'seréis', 'con', 'del', 'has', 'sí', 'he', 'haya', 'quien', 'mía', 'tendré', 'ese', 'tuvimos', 'donde', 'tuvo', 'estuvieseis', 'estaremos', 'pero', 'habrían', 'las', 'estuvimos', 'fue', 'nos', 'los', 'hubieses', 'ellas', 'hube', 'habríais', 'sería', 'esa', 'el', 'estarían', 'seremos', 'tened', 'habiendo', 'ha', 'contra', 'ya', 'somos', 'estéis', 'hubierais', 'fui', 'está', 'ti', 'tuvierais', 'sois', 'hubiéramos', 'eras', 'tengas', 'antes', 'en', 'tuviesen', 'fueron', 'estarás', 'hasta'}\n"
          ]
        }
      ]
    },
    {
      "cell_type": "code",
      "source": [
        "# permite verificar en nltk si un token pertenece a diccionario de un idioma, en este caso a 'english'\n",
        "from nltk.corpus import words as voc_en\n",
        "\n",
        "x = len(voc_en.words())\n",
        "print('tamaño del diccionario en inglés del nltk: ',x)\n",
        "\n",
        "# verifica si una palabra pertenece al diccionario, en este caso house y pepito\n",
        "w = \"house\"\n",
        "if (len(w) >1) and w.isalpha() and (w in voc_en.words()) and (w not in stop_words_nltk_en):\n",
        "    print(w,\" true\")\n",
        "else:\n",
        "    print(w,\" false\")\n",
        "    \n",
        "w = \"pepito\"\n",
        "if (len(w) >1) and w.isalpha() and (w in voc_en.words()) and (w not in stop_words_nltk_en):\n",
        "    print(w,\" true\")\n",
        "else:\n",
        "    print(w,\" false\")    "
      ],
      "metadata": {
        "colab": {
          "base_uri": "https://localhost:8080/"
        },
        "id": "azTIKhGFynTE",
        "outputId": "bfcb6946-6c00-436d-e87c-43dbf0e807ce"
      },
      "execution_count": null,
      "outputs": [
        {
          "output_type": "stream",
          "name": "stdout",
          "text": [
            "tamaño del diccionario en inglés del nltk:  236736\n",
            "house  true\n",
            "pepito  false\n"
          ]
        }
      ]
    },
    {
      "cell_type": "code",
      "source": [
        "# leer un archivo de ejemplo en .txt\n",
        "input_file = open(path_in+filenametxt, \"r\", encoding='iso-8859-1')\n",
        "filedata = input_file.read()"
      ],
      "metadata": {
        "id": "GE9uf9UI0Qzt"
      },
      "execution_count": null,
      "outputs": []
    },
    {
      "cell_type": "code",
      "source": [
        "# opción 1:\n",
        "# TOKENIZAR con .split(), \n",
        "# ELIMINAR tokens de long = 1\n",
        "# ELIMINAR caracteres que no sean alfanumericos y pasar todo a minuscula\n",
        "# REMOVER stop words con nltk\n",
        "# graficar los 20 términos más frecuentes:\n",
        "\n",
        "tokens = filedata.split()\n",
        "tokens = [re.sub(r'[^A-Za-z0-9]+','',w) for w in tokens]\n",
        "# tokens=[word for word in tokens if word.isalpha()] si en vez de re.sub(r'[^A-Za-z0-9]+','',w) hace esto, que pasa?\n",
        "tokens = [w.lower() for w in tokens if len(w)>1]\n",
        "tokens = [w for w in tokens if w not in stop_words_nltk]\n",
        "\n",
        "fdist = nltk.FreqDist(tokens)\n",
        "print('numero de palabras finales = ',len(fdist))\n",
        "topwords = fdist.most_common(20)\n",
        "print (topwords)\n",
        "x,y = zip(*topwords)\n",
        "plt.figure(figsize=(15,10))\n",
        "plt.bar(x,y)\n",
        "plt.xticks(rotation=90)\n",
        "plt.show()"
      ],
      "metadata": {
        "colab": {
          "base_uri": "https://localhost:8080/",
          "height": 682
        },
        "id": "d7ZrS_Zs0Y2G",
        "outputId": "1f28e805-0a33-4229-bb79-910799a4c92b"
      },
      "execution_count": null,
      "outputs": [
        {
          "output_type": "stream",
          "name": "stdout",
          "text": [
            "numero de palabras finales =  22840\n",
            "[('don', 2652), ('quijote', 2180), ('sancho', 2148), ('ms', 2044), ('si', 1966), ('dijo', 1808), ('ser', 1293), ('tan', 1243), ('as', 1075), ('seor', 1063), ('respondi', 1063), ('bien', 1050), ('haba', 1034), ('merced', 900), ('pues', 865), ('qu', 849), ('sino', 694), ('dos', 684), ('caballero', 661), ('decir', 578)]\n"
          ]
        },
        {
          "output_type": "display_data",
          "data": {
            "text/plain": [
              "<Figure size 1080x720 with 1 Axes>"
            ],
            "image/png": "[encoded data removed]"
          },
          "metadata": {
            "needs_background": "light"
          }
        }
      ]
    },
    {
      "cell_type": "code",
      "source": [
        "# Stemming con NLTK\n",
        "\n",
        "from nltk.stem import PorterStemmer\n",
        "from nltk.stem import LancasterStemmer\n",
        "\n",
        "porter = PorterStemmer()\n",
        "lancaster = LancasterStemmer()\n",
        "# probar cada una de las siguientes opciones: porter y lancaster.\n",
        "#tokens = [porter.stem(w) for w in tokens]\n",
        "tokens = [lancaster.stem(w) for w in tokens]\n",
        "\n",
        "fdist = nltk.FreqDist(tokens)\n",
        "topwords = fdist.most_common(20)\n",
        "print('numero de palabras finales = ',len(fdist))\n",
        "x,y = zip(*topwords)\n",
        "plt.figure(figsize=(15,10))\n",
        "plt.bar(x,y)\n",
        "plt.xticks(rotation=90)\n",
        "plt.show()"
      ],
      "metadata": {
        "colab": {
          "base_uri": "https://localhost:8080/",
          "height": 644
        },
        "id": "N_EhR_Dh3h8e",
        "outputId": "551c9a26-00a5-4d38-dc05-e2f2a443f3cb"
      },
      "execution_count": null,
      "outputs": [
        {
          "output_type": "stream",
          "name": "stdout",
          "text": [
            "numero de palabras finales =  17401\n"
          ]
        },
        {
          "output_type": "display_data",
          "data": {
            "text/plain": [
              "<Figure size 1080x720 with 1 Axes>"
            ],
            "image/png": "[encoded data removed]"
          },
          "metadata": {
            "needs_background": "light"
          }
        }
      ]
    },
    {
      "cell_type": "code",
      "source": [
        "# Lemmatization con NLTK\n",
        "\n",
        "from nltk.stem import WordNetLemmatizer\n",
        "\n",
        "wordnet_lemmatizer = WordNetLemmatizer()\n",
        "\n",
        "# probar cada una de las siguientes opciones: \n",
        "#tokens = [wordnet_lemmatizer.lemmatize(w, pos=\"v\") for w in tokens ]\n",
        "tokens = [wordnet_lemmatizer.lemmatize(w) for w in tokens ]\n",
        "\n",
        "fdist = nltk.FreqDist(tokens)\n",
        "topwords = fdist.most_common(20)\n",
        "print('numero de palabras finales = ',len(fdist))\n",
        "x,y = zip(*topwords)\n",
        "plt.figure(figsize=(15,10))\n",
        "plt.bar(x,y)\n",
        "plt.xticks(rotation=90)\n",
        "plt.show()"
      ],
      "metadata": {
        "colab": {
          "base_uri": "https://localhost:8080/",
          "height": 644
        },
        "id": "FDJvqCjs3mdf",
        "outputId": "a968d57d-1685-494c-f4fc-f903d0393d6e"
      },
      "execution_count": null,
      "outputs": [
        {
          "output_type": "stream",
          "name": "stdout",
          "text": [
            "numero de palabras finales =  17334\n"
          ]
        },
        {
          "output_type": "display_data",
          "data": {
            "text/plain": [
              "<Figure size 1080x720 with 1 Axes>"
            ],
            "image/png": "[encoded data removed]"
          },
          "metadata": {
            "needs_background": "light"
          }
        }
      ]
    }
  ],
  "metadata": {
    "colab": {
      "provenance": [],
      "include_colab_link": true
    },
    "kernelspec": {
      "display_name": "Python 3.10.6 64-bit",
      "language": "python",
      "name": "python3"
    },
    "language_info": {
      "codemirror_mode": {
        "name": "ipython",
        "version": 3
      },
      "file_extension": ".py",
      "mimetype": "text/x-python",
      "name": "python",
      "nbconvert_exporter": "python",
      "pygments_lexer": "ipython3",
      "version": "3.10.6"
    },
    "vscode": {
      "interpreter": {
        "hash": "aee8b7b246df8f9039afb4144a1f6fd8d2ca17a180786b69acc140d282b71a49"
      }
    }
  },
  "nbformat": 4,
  "nbformat_minor": 0
}