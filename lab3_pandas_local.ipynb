{
  "cells": [
    {
      "cell_type": "markdown",
      "metadata": {
        "id": "view-in-github",
        "colab_type": "text"
      },
      "source": [
        "<a href=\"https://colab.research.google.com/github/amontoy6/Entrega-Notebooks-Lab-2-y-3/blob/main/lab3_pandas_local.ipynb\" target=\"_parent\"><img src=\"https://colab.research.google.com/assets/colab-badge.svg\" alt=\"Open In Colab\"/></a>"
      ]
    },
    {
      "cell_type": "code",
      "execution_count": 2,
      "metadata": {
        "id": "j5MKl7Lh6Tzk"
      },
      "outputs": [],
      "source": [
        "#\n",
        "# Ana Maria Montoya\n",
        "# Universidad EAFIT \n",
        "# 2023-1\n",
        "#"
      ]
    },
    {
      "cell_type": "code",
      "source": [
        "#configuración en google colab de spark y pyspark\n",
        "from google.colab import drive\n",
        "drive.mount('/content/gdrive')"
      ],
      "metadata": {
        "id": "k4BXdnrov-zN",
        "colab": {
          "base_uri": "https://localhost:8080/"
        },
        "outputId": "a82a0567-f502-4ee1-a1b4-67da4aefa7da"
      },
      "execution_count": 1,
      "outputs": [
        {
          "output_type": "stream",
          "name": "stdout",
          "text": [
            "Mounted at /content/gdrive\n"
          ]
        }
      ]
    },
    {
      "cell_type": "code",
      "execution_count": 3,
      "metadata": {
        "id": "HxooeUUb6Tzm",
        "colab": {
          "base_uri": "https://localhost:8080/"
        },
        "outputId": "f66de56b-d536-4c01-f35e-011d327e5869"
      },
      "outputs": [
        {
          "output_type": "stream",
          "name": "stdout",
          "text": [
            "Looking in indexes: https://pypi.org/simple, https://us-python.pkg.dev/colab-wheels/public/simple/\n",
            "Requirement already satisfied: nltk in /usr/local/lib/python3.9/dist-packages (3.8.1)\n",
            "Requirement already satisfied: joblib in /usr/local/lib/python3.9/dist-packages (from nltk) (1.1.1)\n",
            "Requirement already satisfied: tqdm in /usr/local/lib/python3.9/dist-packages (from nltk) (4.65.0)\n",
            "Requirement already satisfied: click in /usr/local/lib/python3.9/dist-packages (from nltk) (8.1.3)\n",
            "Requirement already satisfied: regex>=2021.8.3 in /usr/local/lib/python3.9/dist-packages (from nltk) (2022.10.31)\n",
            "Looking in indexes: https://pypi.org/simple, https://us-python.pkg.dev/colab-wheels/public/simple/\n",
            "Requirement already satisfied: pandas in /usr/local/lib/python3.9/dist-packages (1.4.4)\n",
            "Requirement already satisfied: pytz>=2020.1 in /usr/local/lib/python3.9/dist-packages (from pandas) (2022.7.1)\n",
            "Requirement already satisfied: python-dateutil>=2.8.1 in /usr/local/lib/python3.9/dist-packages (from pandas) (2.8.2)\n",
            "Requirement already satisfied: numpy>=1.18.5 in /usr/local/lib/python3.9/dist-packages (from pandas) (1.22.4)\n",
            "Requirement already satisfied: six>=1.5 in /usr/local/lib/python3.9/dist-packages (from python-dateutil>=2.8.1->pandas) (1.15.0)\n",
            "Looking in indexes: https://pypi.org/simple, https://us-python.pkg.dev/colab-wheels/public/simple/\n",
            "Requirement already satisfied: matplotlib in /usr/local/lib/python3.9/dist-packages (3.7.1)\n",
            "Requirement already satisfied: fonttools>=4.22.0 in /usr/local/lib/python3.9/dist-packages (from matplotlib) (4.39.0)\n",
            "Requirement already satisfied: numpy>=1.20 in /usr/local/lib/python3.9/dist-packages (from matplotlib) (1.22.4)\n",
            "Requirement already satisfied: importlib-resources>=3.2.0 in /usr/local/lib/python3.9/dist-packages (from matplotlib) (5.12.0)\n",
            "Requirement already satisfied: contourpy>=1.0.1 in /usr/local/lib/python3.9/dist-packages (from matplotlib) (1.0.7)\n",
            "Requirement already satisfied: python-dateutil>=2.7 in /usr/local/lib/python3.9/dist-packages (from matplotlib) (2.8.2)\n",
            "Requirement already satisfied: packaging>=20.0 in /usr/local/lib/python3.9/dist-packages (from matplotlib) (23.0)\n",
            "Requirement already satisfied: cycler>=0.10 in /usr/local/lib/python3.9/dist-packages (from matplotlib) (0.11.0)\n",
            "Requirement already satisfied: pillow>=6.2.0 in /usr/local/lib/python3.9/dist-packages (from matplotlib) (8.4.0)\n",
            "Requirement already satisfied: pyparsing>=2.3.1 in /usr/local/lib/python3.9/dist-packages (from matplotlib) (3.0.9)\n",
            "Requirement already satisfied: kiwisolver>=1.0.1 in /usr/local/lib/python3.9/dist-packages (from matplotlib) (1.4.4)\n",
            "Requirement already satisfied: zipp>=3.1.0 in /usr/local/lib/python3.9/dist-packages (from importlib-resources>=3.2.0->matplotlib) (3.15.0)\n",
            "Requirement already satisfied: six>=1.5 in /usr/local/lib/python3.9/dist-packages (from python-dateutil>=2.7->matplotlib) (1.15.0)\n"
          ]
        }
      ],
      "source": [
        "# dependencias que eventualmente requerirá instalar:\n",
        "!pip3 install nltk\n",
        "!pip3 install pandas\n",
        "!pip3 install matplotlib"
      ]
    },
    {
      "cell_type": "code",
      "execution_count": 4,
      "metadata": {
        "id": "zHKx895D6Tzn"
      },
      "outputs": [],
      "source": [
        "# cargar las librerias necesarias\n",
        "## 1. nltk para 'procesamiento natural del lenguaje'\n",
        "## 2. pandas para procesamiento de dataframes, muy usado en preparación de datos\n",
        "## 3. re - expresiones regulares\n",
        "## 4. numpy, codecs, etc - otras"
      ]
    },
    {
      "cell_type": "code",
      "execution_count": 5,
      "metadata": {
        "id": "PWU7mT2S6Tzn"
      },
      "outputs": [],
      "source": [
        "import nltk\n",
        "import pandas as pd\n",
        "import numpy as np\n",
        "import re\n",
        "import codecs\n",
        "import matplotlib.pyplot as plt"
      ]
    },
    {
      "cell_type": "code",
      "execution_count": 6,
      "metadata": {
        "id": "DaIegdxR6Tzn"
      },
      "outputs": [],
      "source": [
        "# directorios (path) de entrada y salida:\n",
        "# \n",
        "path_in=\"gdrive/MyDrive/Maestria/st1800-231/datasets/doaj_1.csv.zip/\"\n",
        "path_out=\"gdrive/MyDrive/Maestria/st1800-231/out/\"\n",
        "filename='doaj_1.csv.zip'"
      ]
    },
    {
      "cell_type": "code",
      "execution_count": 7,
      "metadata": {
        "id": "weJ1cA4n6Tzo",
        "colab": {
          "base_uri": "https://localhost:8080/"
        },
        "outputId": "c85d4188-7252-4402-822b-710f0361e59d"
      },
      "outputs": [
        {
          "output_type": "stream",
          "name": "stderr",
          "text": [
            "[nltk_data] Downloading package punkt to /root/nltk_data...\n",
            "[nltk_data]   Unzipping tokenizers/punkt.zip.\n",
            "[nltk_data] Downloading package stopwords to /root/nltk_data...\n",
            "[nltk_data]   Unzipping corpora/stopwords.zip.\n"
          ]
        },
        {
          "output_type": "execute_result",
          "data": {
            "text/plain": [
              "True"
            ]
          },
          "metadata": {},
          "execution_count": 7
        }
      ],
      "source": [
        "# corpus de nltk para 'tokenizer' y 'stopwords'\n",
        "nltk.download('punkt')\n",
        "nltk.download('stopwords')"
      ]
    },
    {
      "cell_type": "code",
      "source": [
        "import pandas as pd"
      ],
      "metadata": {
        "id": "QjMYhH2g60q4"
      },
      "execution_count": 8,
      "outputs": []
    },
    {
      "cell_type": "code",
      "source": [
        "!pip install s3fs"
      ],
      "metadata": {
        "colab": {
          "base_uri": "https://localhost:8080/"
        },
        "id": "QT6dDwqAh6W7",
        "outputId": "b8defa7b-ac9e-4060-c2df-2882d6e1794c"
      },
      "execution_count": 9,
      "outputs": [
        {
          "output_type": "stream",
          "name": "stdout",
          "text": [
            "Looking in indexes: https://pypi.org/simple, https://us-python.pkg.dev/colab-wheels/public/simple/\n",
            "Collecting s3fs\n",
            "  Downloading s3fs-2023.3.0-py3-none-any.whl (27 kB)\n",
            "Requirement already satisfied: fsspec==2023.3.0 in /usr/local/lib/python3.9/dist-packages (from s3fs) (2023.3.0)\n",
            "Collecting aiohttp!=4.0.0a0,!=4.0.0a1\n",
            "  Downloading aiohttp-3.8.4-cp39-cp39-manylinux_2_17_x86_64.manylinux2014_x86_64.whl (1.0 MB)\n",
            "\u001b[2K     \u001b[90m━━━━━━━━━━━━━━━━━━━━━━━━━━━━━━━━━━━━━━━━\u001b[0m \u001b[32m1.0/1.0 MB\u001b[0m \u001b[31m17.9 MB/s\u001b[0m eta \u001b[36m0:00:00\u001b[0m\n",
            "\u001b[?25hCollecting aiobotocore~=2.4.2\n",
            "  Downloading aiobotocore-2.4.2-py3-none-any.whl (66 kB)\n",
            "\u001b[2K     \u001b[90m━━━━━━━━━━━━━━━━━━━━━━━━━━━━━━━━━━━━━━━━\u001b[0m \u001b[32m66.8/66.8 KB\u001b[0m \u001b[31m7.1 MB/s\u001b[0m eta \u001b[36m0:00:00\u001b[0m\n",
            "\u001b[?25hCollecting botocore<1.27.60,>=1.27.59\n",
            "  Downloading botocore-1.27.59-py3-none-any.whl (9.1 MB)\n",
            "\u001b[2K     \u001b[90m━━━━━━━━━━━━━━━━━━━━━━━━━━━━━━━━━━━━━━━━\u001b[0m \u001b[32m9.1/9.1 MB\u001b[0m \u001b[31m67.2 MB/s\u001b[0m eta \u001b[36m0:00:00\u001b[0m\n",
            "\u001b[?25hCollecting aioitertools>=0.5.1\n",
            "  Downloading aioitertools-0.11.0-py3-none-any.whl (23 kB)\n",
            "Requirement already satisfied: wrapt>=1.10.10 in /usr/local/lib/python3.9/dist-packages (from aiobotocore~=2.4.2->s3fs) (1.15.0)\n",
            "Requirement already satisfied: attrs>=17.3.0 in /usr/local/lib/python3.9/dist-packages (from aiohttp!=4.0.0a0,!=4.0.0a1->s3fs) (22.2.0)\n",
            "Collecting async-timeout<5.0,>=4.0.0a3\n",
            "  Downloading async_timeout-4.0.2-py3-none-any.whl (5.8 kB)\n",
            "Requirement already satisfied: charset-normalizer<4.0,>=2.0 in /usr/local/lib/python3.9/dist-packages (from aiohttp!=4.0.0a0,!=4.0.0a1->s3fs) (2.0.12)\n",
            "Collecting aiosignal>=1.1.2\n",
            "  Downloading aiosignal-1.3.1-py3-none-any.whl (7.6 kB)\n",
            "Collecting multidict<7.0,>=4.5\n",
            "  Downloading multidict-6.0.4-cp39-cp39-manylinux_2_17_x86_64.manylinux2014_x86_64.whl (114 kB)\n",
            "\u001b[2K     \u001b[90m━━━━━━━━━━━━━━━━━━━━━━━━━━━━━━━━━━━━━━\u001b[0m \u001b[32m114.2/114.2 KB\u001b[0m \u001b[31m10.9 MB/s\u001b[0m eta \u001b[36m0:00:00\u001b[0m\n",
            "\u001b[?25hCollecting frozenlist>=1.1.1\n",
            "  Downloading frozenlist-1.3.3-cp39-cp39-manylinux_2_5_x86_64.manylinux1_x86_64.manylinux_2_17_x86_64.manylinux2014_x86_64.whl (158 kB)\n",
            "\u001b[2K     \u001b[90m━━━━━━━━━━━━━━━━━━━━━━━━━━━━━━━━━━━━━━\u001b[0m \u001b[32m158.8/158.8 KB\u001b[0m \u001b[31m14.6 MB/s\u001b[0m eta \u001b[36m0:00:00\u001b[0m\n",
            "\u001b[?25hCollecting yarl<2.0,>=1.0\n",
            "  Downloading yarl-1.8.2-cp39-cp39-manylinux_2_17_x86_64.manylinux2014_x86_64.whl (264 kB)\n",
            "\u001b[2K     \u001b[90m━━━━━━━━━━━━━━━━━━━━━━━━━━━━━━━━━━━━━━\u001b[0m \u001b[32m264.6/264.6 KB\u001b[0m \u001b[31m20.1 MB/s\u001b[0m eta \u001b[36m0:00:00\u001b[0m\n",
            "\u001b[?25hRequirement already satisfied: typing_extensions>=4.0 in /usr/local/lib/python3.9/dist-packages (from aioitertools>=0.5.1->aiobotocore~=2.4.2->s3fs) (4.5.0)\n",
            "Requirement already satisfied: urllib3<1.27,>=1.25.4 in /usr/local/lib/python3.9/dist-packages (from botocore<1.27.60,>=1.27.59->aiobotocore~=2.4.2->s3fs) (1.26.15)\n",
            "Collecting jmespath<2.0.0,>=0.7.1\n",
            "  Downloading jmespath-1.0.1-py3-none-any.whl (20 kB)\n",
            "Requirement already satisfied: python-dateutil<3.0.0,>=2.1 in /usr/local/lib/python3.9/dist-packages (from botocore<1.27.60,>=1.27.59->aiobotocore~=2.4.2->s3fs) (2.8.2)\n",
            "Requirement already satisfied: idna>=2.0 in /usr/local/lib/python3.9/dist-packages (from yarl<2.0,>=1.0->aiohttp!=4.0.0a0,!=4.0.0a1->s3fs) (3.4)\n",
            "Requirement already satisfied: six>=1.5 in /usr/local/lib/python3.9/dist-packages (from python-dateutil<3.0.0,>=2.1->botocore<1.27.60,>=1.27.59->aiobotocore~=2.4.2->s3fs) (1.15.0)\n",
            "Installing collected packages: multidict, jmespath, frozenlist, async-timeout, aioitertools, yarl, botocore, aiosignal, aiohttp, aiobotocore, s3fs\n",
            "Successfully installed aiobotocore-2.4.2 aiohttp-3.8.4 aioitertools-0.11.0 aiosignal-1.3.1 async-timeout-4.0.2 botocore-1.27.59 frozenlist-1.3.3 jmespath-1.0.1 multidict-6.0.4 s3fs-2023.3.0 yarl-1.8.2\n"
          ]
        }
      ]
    },
    {
      "cell_type": "code",
      "source": [
        "#df \n",
        "df = pd.read_csv('gdrive/MyDrive/Maestria/st1800-231/datasets/doaj_1.csv',delimiter=',')\n",
        "df.head()"
      ],
      "metadata": {
        "colab": {
          "base_uri": "https://localhost:8080/",
          "height": 563
        },
        "id": "XWxQv7xTzO26",
        "outputId": "1714d172-d776-4144-8012-9f35c66e1c6c"
      },
      "execution_count": 10,
      "outputs": [
        {
          "output_type": "execute_result",
          "data": {
            "text/plain": [
              "                                               title  \\\n",
              "0  Crystal structure of apatite type Ca2.49Nd7.51...   \n",
              "1  Genetic Programming for Medicinal Plant Family...   \n",
              "2  Managing reality shock: Expectations versus ex...   \n",
              "3  A Review of Systems and Technologies for Smart...   \n",
              "4  Functional testing of the vestibular ocular re...   \n",
              "\n",
              "                                                 url                 path  \\\n",
              "0  http://scripts.iucr.org/cgi-bin/paper?S2056989...  article_batch_1.csv   \n",
              "1  http://journals.itb.ac.id/index.php/jictra/art...  article_batch_1.csv   \n",
              "2  https://sajip.co.za/index.php/sajip/article/vi...  article_batch_1.csv   \n",
              "3              http://www.mdpi.com/1996-1073/9/5/348  article_batch_1.csv   \n",
              "4  http://journal.frontiersin.org/Journal/10.3389...  article_batch_1.csv   \n",
              "\n",
              "                                            keywords  category source  \\\n",
              "0  crystal structure, apatite structure type, cal...  articles   doaj   \n",
              "1                                                NaN  articles   doaj   \n",
              "2         Managing reality shock, Graduate engineers  articles   doaj   \n",
              "3  smart home, smart grid, energy management syst...  articles   doaj   \n",
              "4  Semicircular Canals, Dynamic Visual Acuity, He...  articles   doaj   \n",
              "\n",
              "                                             content  \n",
              "0  The title compound, Ca2+xNd8–x(SiO4)6O2–0.5x (...  \n",
              "1  Information about medicinal plants that is ava...  \n",
              "2  The objective of the study is an analysis of t...  \n",
              "3  In the actual era of smart homes and smart gri...  \n",
              "4  The experimental assessment of the vestibulo-o...  "
            ],
            "text/html": [
              "\n",
              "  <div id=\"df-d980296d-4ea7-4263-9093-eb03e26dc924\">\n",
              "    <div class=\"colab-df-container\">\n",
              "      <div>\n",
              "<style scoped>\n",
              "    .dataframe tbody tr th:only-of-type {\n",
              "        vertical-align: middle;\n",
              "    }\n",
              "\n",
              "    .dataframe tbody tr th {\n",
              "        vertical-align: top;\n",
              "    }\n",
              "\n",
              "    .dataframe thead th {\n",
              "        text-align: right;\n",
              "    }\n",
              "</style>\n",
              "<table border=\"1\" class=\"dataframe\">\n",
              "  <thead>\n",
              "    <tr style=\"text-align: right;\">\n",
              "      <th></th>\n",
              "      <th>title</th>\n",
              "      <th>url</th>\n",
              "      <th>path</th>\n",
              "      <th>keywords</th>\n",
              "      <th>category</th>\n",
              "      <th>source</th>\n",
              "      <th>content</th>\n",
              "    </tr>\n",
              "  </thead>\n",
              "  <tbody>\n",
              "    <tr>\n",
              "      <th>0</th>\n",
              "      <td>Crystal structure of apatite type Ca2.49Nd7.51...</td>\n",
              "      <td>http://scripts.iucr.org/cgi-bin/paper?S2056989...</td>\n",
              "      <td>article_batch_1.csv</td>\n",
              "      <td>crystal structure, apatite structure type, cal...</td>\n",
              "      <td>articles</td>\n",
              "      <td>doaj</td>\n",
              "      <td>The title compound, Ca2+xNd8–x(SiO4)6O2–0.5x (...</td>\n",
              "    </tr>\n",
              "    <tr>\n",
              "      <th>1</th>\n",
              "      <td>Genetic Programming for Medicinal Plant Family...</td>\n",
              "      <td>http://journals.itb.ac.id/index.php/jictra/art...</td>\n",
              "      <td>article_batch_1.csv</td>\n",
              "      <td>NaN</td>\n",
              "      <td>articles</td>\n",
              "      <td>doaj</td>\n",
              "      <td>Information about medicinal plants that is ava...</td>\n",
              "    </tr>\n",
              "    <tr>\n",
              "      <th>2</th>\n",
              "      <td>Managing reality shock: Expectations versus ex...</td>\n",
              "      <td>https://sajip.co.za/index.php/sajip/article/vi...</td>\n",
              "      <td>article_batch_1.csv</td>\n",
              "      <td>Managing reality shock, Graduate engineers</td>\n",
              "      <td>articles</td>\n",
              "      <td>doaj</td>\n",
              "      <td>The objective of the study is an analysis of t...</td>\n",
              "    </tr>\n",
              "    <tr>\n",
              "      <th>3</th>\n",
              "      <td>A Review of Systems and Technologies for Smart...</td>\n",
              "      <td>http://www.mdpi.com/1996-1073/9/5/348</td>\n",
              "      <td>article_batch_1.csv</td>\n",
              "      <td>smart home, smart grid, energy management syst...</td>\n",
              "      <td>articles</td>\n",
              "      <td>doaj</td>\n",
              "      <td>In the actual era of smart homes and smart gri...</td>\n",
              "    </tr>\n",
              "    <tr>\n",
              "      <th>4</th>\n",
              "      <td>Functional testing of the vestibular ocular re...</td>\n",
              "      <td>http://journal.frontiersin.org/Journal/10.3389...</td>\n",
              "      <td>article_batch_1.csv</td>\n",
              "      <td>Semicircular Canals, Dynamic Visual Acuity, He...</td>\n",
              "      <td>articles</td>\n",
              "      <td>doaj</td>\n",
              "      <td>The experimental assessment of the vestibulo-o...</td>\n",
              "    </tr>\n",
              "  </tbody>\n",
              "</table>\n",
              "</div>\n",
              "      <button class=\"colab-df-convert\" onclick=\"convertToInteractive('df-d980296d-4ea7-4263-9093-eb03e26dc924')\"\n",
              "              title=\"Convert this dataframe to an interactive table.\"\n",
              "              style=\"display:none;\">\n",
              "        \n",
              "  <svg xmlns=\"http://www.w3.org/2000/svg\" height=\"24px\"viewBox=\"0 0 24 24\"\n",
              "       width=\"24px\">\n",
              "    <path d=\"M0 0h24v24H0V0z\" fill=\"none\"/>\n",
              "    <path d=\"M18.56 5.44l.94 2.06.94-2.06 2.06-.94-2.06-.94-.94-2.06-.94 2.06-2.06.94zm-11 1L8.5 8.5l.94-2.06 2.06-.94-2.06-.94L8.5 2.5l-.94 2.06-2.06.94zm10 10l.94 2.06.94-2.06 2.06-.94-2.06-.94-.94-2.06-.94 2.06-2.06.94z\"/><path d=\"M17.41 7.96l-1.37-1.37c-.4-.4-.92-.59-1.43-.59-.52 0-1.04.2-1.43.59L10.3 9.45l-7.72 7.72c-.78.78-.78 2.05 0 2.83L4 21.41c.39.39.9.59 1.41.59.51 0 1.02-.2 1.41-.59l7.78-7.78 2.81-2.81c.8-.78.8-2.07 0-2.86zM5.41 20L4 18.59l7.72-7.72 1.47 1.35L5.41 20z\"/>\n",
              "  </svg>\n",
              "      </button>\n",
              "      \n",
              "  <style>\n",
              "    .colab-df-container {\n",
              "      display:flex;\n",
              "      flex-wrap:wrap;\n",
              "      gap: 12px;\n",
              "    }\n",
              "\n",
              "    .colab-df-convert {\n",
              "      background-color: #E8F0FE;\n",
              "      border: none;\n",
              "      border-radius: 50%;\n",
              "      cursor: pointer;\n",
              "      display: none;\n",
              "      fill: #1967D2;\n",
              "      height: 32px;\n",
              "      padding: 0 0 0 0;\n",
              "      width: 32px;\n",
              "    }\n",
              "\n",
              "    .colab-df-convert:hover {\n",
              "      background-color: #E2EBFA;\n",
              "      box-shadow: 0px 1px 2px rgba(60, 64, 67, 0.3), 0px 1px 3px 1px rgba(60, 64, 67, 0.15);\n",
              "      fill: #174EA6;\n",
              "    }\n",
              "\n",
              "    [theme=dark] .colab-df-convert {\n",
              "      background-color: #3B4455;\n",
              "      fill: #D2E3FC;\n",
              "    }\n",
              "\n",
              "    [theme=dark] .colab-df-convert:hover {\n",
              "      background-color: #434B5C;\n",
              "      box-shadow: 0px 1px 3px 1px rgba(0, 0, 0, 0.15);\n",
              "      filter: drop-shadow(0px 1px 2px rgba(0, 0, 0, 0.3));\n",
              "      fill: #FFFFFF;\n",
              "    }\n",
              "  </style>\n",
              "\n",
              "      <script>\n",
              "        const buttonEl =\n",
              "          document.querySelector('#df-d980296d-4ea7-4263-9093-eb03e26dc924 button.colab-df-convert');\n",
              "        buttonEl.style.display =\n",
              "          google.colab.kernel.accessAllowed ? 'block' : 'none';\n",
              "\n",
              "        async function convertToInteractive(key) {\n",
              "          const element = document.querySelector('#df-d980296d-4ea7-4263-9093-eb03e26dc924');\n",
              "          const dataTable =\n",
              "            await google.colab.kernel.invokeFunction('convertToInteractive',\n",
              "                                                     [key], {});\n",
              "          if (!dataTable) return;\n",
              "\n",
              "          const docLinkHtml = 'Like what you see? Visit the ' +\n",
              "            '<a target=\"_blank\" href=https://colab.research.google.com/notebooks/data_table.ipynb>data table notebook</a>'\n",
              "            + ' to learn more about interactive tables.';\n",
              "          element.innerHTML = '';\n",
              "          dataTable['output_type'] = 'display_data';\n",
              "          await google.colab.output.renderOutput(dataTable, element);\n",
              "          const docLink = document.createElement('div');\n",
              "          docLink.innerHTML = docLinkHtml;\n",
              "          element.appendChild(docLink);\n",
              "        }\n",
              "      </script>\n",
              "    </div>\n",
              "  </div>\n",
              "  "
            ]
          },
          "metadata": {},
          "execution_count": 10
        }
      ]
    },
    {
      "cell_type": "code",
      "execution_count": 11,
      "metadata": {
        "id": "anFJPGMc6Tzo",
        "colab": {
          "base_uri": "https://localhost:8080/",
          "height": 206
        },
        "outputId": "78733cc1-e53f-4f23-c744-08ad1955c579"
      },
      "outputs": [
        {
          "output_type": "execute_result",
          "data": {
            "text/plain": [
              "                                               title  \\\n",
              "0  Crystal structure of apatite type Ca2.49Nd7.51...   \n",
              "1  Genetic Programming for Medicinal Plant Family...   \n",
              "2  Managing reality shock: Expectations versus ex...   \n",
              "3  A Review of Systems and Technologies for Smart...   \n",
              "4  Functional testing of the vestibular ocular re...   \n",
              "\n",
              "                                             content  \n",
              "0  The title compound, Ca2+xNd8–x(SiO4)6O2–0.5x (...  \n",
              "1  Information about medicinal plants that is ava...  \n",
              "2  The objective of the study is an analysis of t...  \n",
              "3  In the actual era of smart homes and smart gri...  \n",
              "4  The experimental assessment of the vestibulo-o...  "
            ],
            "text/html": [
              "\n",
              "  <div id=\"df-8829cba7-12e0-4319-9df3-f2843822174a\">\n",
              "    <div class=\"colab-df-container\">\n",
              "      <div>\n",
              "<style scoped>\n",
              "    .dataframe tbody tr th:only-of-type {\n",
              "        vertical-align: middle;\n",
              "    }\n",
              "\n",
              "    .dataframe tbody tr th {\n",
              "        vertical-align: top;\n",
              "    }\n",
              "\n",
              "    .dataframe thead th {\n",
              "        text-align: right;\n",
              "    }\n",
              "</style>\n",
              "<table border=\"1\" class=\"dataframe\">\n",
              "  <thead>\n",
              "    <tr style=\"text-align: right;\">\n",
              "      <th></th>\n",
              "      <th>title</th>\n",
              "      <th>content</th>\n",
              "    </tr>\n",
              "  </thead>\n",
              "  <tbody>\n",
              "    <tr>\n",
              "      <th>0</th>\n",
              "      <td>Crystal structure of apatite type Ca2.49Nd7.51...</td>\n",
              "      <td>The title compound, Ca2+xNd8–x(SiO4)6O2–0.5x (...</td>\n",
              "    </tr>\n",
              "    <tr>\n",
              "      <th>1</th>\n",
              "      <td>Genetic Programming for Medicinal Plant Family...</td>\n",
              "      <td>Information about medicinal plants that is ava...</td>\n",
              "    </tr>\n",
              "    <tr>\n",
              "      <th>2</th>\n",
              "      <td>Managing reality shock: Expectations versus ex...</td>\n",
              "      <td>The objective of the study is an analysis of t...</td>\n",
              "    </tr>\n",
              "    <tr>\n",
              "      <th>3</th>\n",
              "      <td>A Review of Systems and Technologies for Smart...</td>\n",
              "      <td>In the actual era of smart homes and smart gri...</td>\n",
              "    </tr>\n",
              "    <tr>\n",
              "      <th>4</th>\n",
              "      <td>Functional testing of the vestibular ocular re...</td>\n",
              "      <td>The experimental assessment of the vestibulo-o...</td>\n",
              "    </tr>\n",
              "  </tbody>\n",
              "</table>\n",
              "</div>\n",
              "      <button class=\"colab-df-convert\" onclick=\"convertToInteractive('df-8829cba7-12e0-4319-9df3-f2843822174a')\"\n",
              "              title=\"Convert this dataframe to an interactive table.\"\n",
              "              style=\"display:none;\">\n",
              "        \n",
              "  <svg xmlns=\"http://www.w3.org/2000/svg\" height=\"24px\"viewBox=\"0 0 24 24\"\n",
              "       width=\"24px\">\n",
              "    <path d=\"M0 0h24v24H0V0z\" fill=\"none\"/>\n",
              "    <path d=\"M18.56 5.44l.94 2.06.94-2.06 2.06-.94-2.06-.94-.94-2.06-.94 2.06-2.06.94zm-11 1L8.5 8.5l.94-2.06 2.06-.94-2.06-.94L8.5 2.5l-.94 2.06-2.06.94zm10 10l.94 2.06.94-2.06 2.06-.94-2.06-.94-.94-2.06-.94 2.06-2.06.94z\"/><path d=\"M17.41 7.96l-1.37-1.37c-.4-.4-.92-.59-1.43-.59-.52 0-1.04.2-1.43.59L10.3 9.45l-7.72 7.72c-.78.78-.78 2.05 0 2.83L4 21.41c.39.39.9.59 1.41.59.51 0 1.02-.2 1.41-.59l7.78-7.78 2.81-2.81c.8-.78.8-2.07 0-2.86zM5.41 20L4 18.59l7.72-7.72 1.47 1.35L5.41 20z\"/>\n",
              "  </svg>\n",
              "      </button>\n",
              "      \n",
              "  <style>\n",
              "    .colab-df-container {\n",
              "      display:flex;\n",
              "      flex-wrap:wrap;\n",
              "      gap: 12px;\n",
              "    }\n",
              "\n",
              "    .colab-df-convert {\n",
              "      background-color: #E8F0FE;\n",
              "      border: none;\n",
              "      border-radius: 50%;\n",
              "      cursor: pointer;\n",
              "      display: none;\n",
              "      fill: #1967D2;\n",
              "      height: 32px;\n",
              "      padding: 0 0 0 0;\n",
              "      width: 32px;\n",
              "    }\n",
              "\n",
              "    .colab-df-convert:hover {\n",
              "      background-color: #E2EBFA;\n",
              "      box-shadow: 0px 1px 2px rgba(60, 64, 67, 0.3), 0px 1px 3px 1px rgba(60, 64, 67, 0.15);\n",
              "      fill: #174EA6;\n",
              "    }\n",
              "\n",
              "    [theme=dark] .colab-df-convert {\n",
              "      background-color: #3B4455;\n",
              "      fill: #D2E3FC;\n",
              "    }\n",
              "\n",
              "    [theme=dark] .colab-df-convert:hover {\n",
              "      background-color: #434B5C;\n",
              "      box-shadow: 0px 1px 3px 1px rgba(0, 0, 0, 0.15);\n",
              "      filter: drop-shadow(0px 1px 2px rgba(0, 0, 0, 0.3));\n",
              "      fill: #FFFFFF;\n",
              "    }\n",
              "  </style>\n",
              "\n",
              "      <script>\n",
              "        const buttonEl =\n",
              "          document.querySelector('#df-8829cba7-12e0-4319-9df3-f2843822174a button.colab-df-convert');\n",
              "        buttonEl.style.display =\n",
              "          google.colab.kernel.accessAllowed ? 'block' : 'none';\n",
              "\n",
              "        async function convertToInteractive(key) {\n",
              "          const element = document.querySelector('#df-8829cba7-12e0-4319-9df3-f2843822174a');\n",
              "          const dataTable =\n",
              "            await google.colab.kernel.invokeFunction('convertToInteractive',\n",
              "                                                     [key], {});\n",
              "          if (!dataTable) return;\n",
              "\n",
              "          const docLinkHtml = 'Like what you see? Visit the ' +\n",
              "            '<a target=\"_blank\" href=https://colab.research.google.com/notebooks/data_table.ipynb>data table notebook</a>'\n",
              "            + ' to learn more about interactive tables.';\n",
              "          element.innerHTML = '';\n",
              "          dataTable['output_type'] = 'display_data';\n",
              "          await google.colab.output.renderOutput(dataTable, element);\n",
              "          const docLink = document.createElement('div');\n",
              "          docLink.innerHTML = docLinkHtml;\n",
              "          element.appendChild(docLink);\n",
              "        }\n",
              "      </script>\n",
              "    </div>\n",
              "  </div>\n",
              "  "
            ]
          },
          "metadata": {},
          "execution_count": 11
        }
      ],
      "source": [
        "df = df[['title','content']]\n",
        "df.head()"
      ]
    },
    {
      "cell_type": "code",
      "execution_count": 12,
      "metadata": {
        "id": "coZY7RP_6Tzo"
      },
      "outputs": [],
      "source": [
        "df['tokenized_title'] = df.apply(lambda row: nltk.word_tokenize(str(row['title'])), axis=1)\n",
        "df['count_title'] = df.apply(lambda row: len(row['tokenized_title']), axis=1)\n",
        "df['tokenized_content'] = df.apply(lambda row: nltk.word_tokenize(str(row['content'])), axis=1)\n",
        "df['count_content'] = df.apply(lambda row: len(row['tokenized_content']), axis=1)"
      ]
    },
    {
      "cell_type": "code",
      "execution_count": null,
      "metadata": {
        "id": "8DikYr4e6Tzp",
        "colab": {
          "base_uri": "https://localhost:8080/",
          "height": 424
        },
        "outputId": "6dcc88a4-513b-4f7c-8b7d-6eb88880d956"
      },
      "outputs": [
        {
          "output_type": "execute_result",
          "data": {
            "text/plain": [
              "                                               title  \\\n",
              "0  Crystal structure of apatite type Ca2.49Nd7.51...   \n",
              "1  Genetic Programming for Medicinal Plant Family...   \n",
              "2  Managing reality shock: Expectations versus ex...   \n",
              "3  A Review of Systems and Technologies for Smart...   \n",
              "4  Functional testing of the vestibular ocular re...   \n",
              "\n",
              "                                             content  \\\n",
              "0  The title compound, Ca2+xNd8–x(SiO4)6O2–0.5x (...   \n",
              "1  Information about medicinal plants that is ava...   \n",
              "2  The objective of the study is an analysis of t...   \n",
              "3  In the actual era of smart homes and smart gri...   \n",
              "4  The experimental assessment of the vestibulo-o...   \n",
              "\n",
              "                                     tokenized_title  count_title  \\\n",
              "0  [Crystal, structure, of, apatite, type, Ca2.49...           10   \n",
              "1  [Genetic, Programming, for, Medicinal, Plant, ...            8   \n",
              "2  [Managing, reality, shock, :, Expectations, ve...           10   \n",
              "3  [A, Review, of, Systems, and, Technologies, fo...           12   \n",
              "4  [Functional, testing, of, the, vestibular, ocu...           10   \n",
              "\n",
              "                                   tokenized_content  count_content  \n",
              "0  [The, title, compound, ,, Ca2+xNd8–x, (, SiO4,...            141  \n",
              "1  [Information, about, medicinal, plants, that, ...            253  \n",
              "2  [The, objective, of, the, study, is, an, analy...            112  \n",
              "3  [In, the, actual, era, of, smart, homes, and, ...            134  \n",
              "4  [The, experimental, assessment, of, the, vesti...            204  "
            ],
            "text/html": [
              "\n",
              "  <div id=\"df-008c482f-e28d-4aaa-a5cf-be44b5472ea1\">\n",
              "    <div class=\"colab-df-container\">\n",
              "      <div>\n",
              "<style scoped>\n",
              "    .dataframe tbody tr th:only-of-type {\n",
              "        vertical-align: middle;\n",
              "    }\n",
              "\n",
              "    .dataframe tbody tr th {\n",
              "        vertical-align: top;\n",
              "    }\n",
              "\n",
              "    .dataframe thead th {\n",
              "        text-align: right;\n",
              "    }\n",
              "</style>\n",
              "<table border=\"1\" class=\"dataframe\">\n",
              "  <thead>\n",
              "    <tr style=\"text-align: right;\">\n",
              "      <th></th>\n",
              "      <th>title</th>\n",
              "      <th>content</th>\n",
              "      <th>tokenized_title</th>\n",
              "      <th>count_title</th>\n",
              "      <th>tokenized_content</th>\n",
              "      <th>count_content</th>\n",
              "    </tr>\n",
              "  </thead>\n",
              "  <tbody>\n",
              "    <tr>\n",
              "      <th>0</th>\n",
              "      <td>Crystal structure of apatite type Ca2.49Nd7.51...</td>\n",
              "      <td>The title compound, Ca2+xNd8–x(SiO4)6O2–0.5x (...</td>\n",
              "      <td>[Crystal, structure, of, apatite, type, Ca2.49...</td>\n",
              "      <td>10</td>\n",
              "      <td>[The, title, compound, ,, Ca2+xNd8–x, (, SiO4,...</td>\n",
              "      <td>141</td>\n",
              "    </tr>\n",
              "    <tr>\n",
              "      <th>1</th>\n",
              "      <td>Genetic Programming for Medicinal Plant Family...</td>\n",
              "      <td>Information about medicinal plants that is ava...</td>\n",
              "      <td>[Genetic, Programming, for, Medicinal, Plant, ...</td>\n",
              "      <td>8</td>\n",
              "      <td>[Information, about, medicinal, plants, that, ...</td>\n",
              "      <td>253</td>\n",
              "    </tr>\n",
              "    <tr>\n",
              "      <th>2</th>\n",
              "      <td>Managing reality shock: Expectations versus ex...</td>\n",
              "      <td>The objective of the study is an analysis of t...</td>\n",
              "      <td>[Managing, reality, shock, :, Expectations, ve...</td>\n",
              "      <td>10</td>\n",
              "      <td>[The, objective, of, the, study, is, an, analy...</td>\n",
              "      <td>112</td>\n",
              "    </tr>\n",
              "    <tr>\n",
              "      <th>3</th>\n",
              "      <td>A Review of Systems and Technologies for Smart...</td>\n",
              "      <td>In the actual era of smart homes and smart gri...</td>\n",
              "      <td>[A, Review, of, Systems, and, Technologies, fo...</td>\n",
              "      <td>12</td>\n",
              "      <td>[In, the, actual, era, of, smart, homes, and, ...</td>\n",
              "      <td>134</td>\n",
              "    </tr>\n",
              "    <tr>\n",
              "      <th>4</th>\n",
              "      <td>Functional testing of the vestibular ocular re...</td>\n",
              "      <td>The experimental assessment of the vestibulo-o...</td>\n",
              "      <td>[Functional, testing, of, the, vestibular, ocu...</td>\n",
              "      <td>10</td>\n",
              "      <td>[The, experimental, assessment, of, the, vesti...</td>\n",
              "      <td>204</td>\n",
              "    </tr>\n",
              "  </tbody>\n",
              "</table>\n",
              "</div>\n",
              "      <button class=\"colab-df-convert\" onclick=\"convertToInteractive('df-008c482f-e28d-4aaa-a5cf-be44b5472ea1')\"\n",
              "              title=\"Convert this dataframe to an interactive table.\"\n",
              "              style=\"display:none;\">\n",
              "        \n",
              "  <svg xmlns=\"http://www.w3.org/2000/svg\" height=\"24px\"viewBox=\"0 0 24 24\"\n",
              "       width=\"24px\">\n",
              "    <path d=\"M0 0h24v24H0V0z\" fill=\"none\"/>\n",
              "    <path d=\"M18.56 5.44l.94 2.06.94-2.06 2.06-.94-2.06-.94-.94-2.06-.94 2.06-2.06.94zm-11 1L8.5 8.5l.94-2.06 2.06-.94-2.06-.94L8.5 2.5l-.94 2.06-2.06.94zm10 10l.94 2.06.94-2.06 2.06-.94-2.06-.94-.94-2.06-.94 2.06-2.06.94z\"/><path d=\"M17.41 7.96l-1.37-1.37c-.4-.4-.92-.59-1.43-.59-.52 0-1.04.2-1.43.59L10.3 9.45l-7.72 7.72c-.78.78-.78 2.05 0 2.83L4 21.41c.39.39.9.59 1.41.59.51 0 1.02-.2 1.41-.59l7.78-7.78 2.81-2.81c.8-.78.8-2.07 0-2.86zM5.41 20L4 18.59l7.72-7.72 1.47 1.35L5.41 20z\"/>\n",
              "  </svg>\n",
              "      </button>\n",
              "      \n",
              "  <style>\n",
              "    .colab-df-container {\n",
              "      display:flex;\n",
              "      flex-wrap:wrap;\n",
              "      gap: 12px;\n",
              "    }\n",
              "\n",
              "    .colab-df-convert {\n",
              "      background-color: #E8F0FE;\n",
              "      border: none;\n",
              "      border-radius: 50%;\n",
              "      cursor: pointer;\n",
              "      display: none;\n",
              "      fill: #1967D2;\n",
              "      height: 32px;\n",
              "      padding: 0 0 0 0;\n",
              "      width: 32px;\n",
              "    }\n",
              "\n",
              "    .colab-df-convert:hover {\n",
              "      background-color: #E2EBFA;\n",
              "      box-shadow: 0px 1px 2px rgba(60, 64, 67, 0.3), 0px 1px 3px 1px rgba(60, 64, 67, 0.15);\n",
              "      fill: #174EA6;\n",
              "    }\n",
              "\n",
              "    [theme=dark] .colab-df-convert {\n",
              "      background-color: #3B4455;\n",
              "      fill: #D2E3FC;\n",
              "    }\n",
              "\n",
              "    [theme=dark] .colab-df-convert:hover {\n",
              "      background-color: #434B5C;\n",
              "      box-shadow: 0px 1px 3px 1px rgba(0, 0, 0, 0.15);\n",
              "      filter: drop-shadow(0px 1px 2px rgba(0, 0, 0, 0.3));\n",
              "      fill: #FFFFFF;\n",
              "    }\n",
              "  </style>\n",
              "\n",
              "      <script>\n",
              "        const buttonEl =\n",
              "          document.querySelector('#df-008c482f-e28d-4aaa-a5cf-be44b5472ea1 button.colab-df-convert');\n",
              "        buttonEl.style.display =\n",
              "          google.colab.kernel.accessAllowed ? 'block' : 'none';\n",
              "\n",
              "        async function convertToInteractive(key) {\n",
              "          const element = document.querySelector('#df-008c482f-e28d-4aaa-a5cf-be44b5472ea1');\n",
              "          const dataTable =\n",
              "            await google.colab.kernel.invokeFunction('convertToInteractive',\n",
              "                                                     [key], {});\n",
              "          if (!dataTable) return;\n",
              "\n",
              "          const docLinkHtml = 'Like what you see? Visit the ' +\n",
              "            '<a target=\"_blank\" href=https://colab.research.google.com/notebooks/data_table.ipynb>data table notebook</a>'\n",
              "            + ' to learn more about interactive tables.';\n",
              "          element.innerHTML = '';\n",
              "          dataTable['output_type'] = 'display_data';\n",
              "          await google.colab.output.renderOutput(dataTable, element);\n",
              "          const docLink = document.createElement('div');\n",
              "          docLink.innerHTML = docLinkHtml;\n",
              "          element.appendChild(docLink);\n",
              "        }\n",
              "      </script>\n",
              "    </div>\n",
              "  </div>\n",
              "  "
            ]
          },
          "metadata": {},
          "execution_count": 14
        }
      ],
      "source": [
        "df.head()"
      ]
    },
    {
      "cell_type": "code",
      "execution_count": 13,
      "metadata": {
        "id": "VV_U4wU-6Tzp"
      },
      "outputs": [],
      "source": [
        "# Tokenize todo el contenido de 'title'\n",
        "all_tokens_title = []\n",
        "for t in df['tokenized_title']:\n",
        "    all_tokens_title.extend(t)"
      ]
    },
    {
      "cell_type": "code",
      "execution_count": 14,
      "metadata": {
        "id": "yALdmZRW6Tzp",
        "colab": {
          "base_uri": "https://localhost:8080/"
        },
        "outputId": "9b5b31f8-dc58-4f0b-efb2-dbd5485e898c"
      },
      "outputs": [
        {
          "output_type": "stream",
          "name": "stdout",
          "text": [
            "all_tokens_title = 820776\n"
          ]
        }
      ],
      "source": [
        "print(\"all_tokens_title =\",len(all_tokens_title))"
      ]
    },
    {
      "cell_type": "code",
      "execution_count": 15,
      "metadata": {
        "id": "5qwonUWo6Tzp",
        "colab": {
          "base_uri": "https://localhost:8080/"
        },
        "outputId": "516d4fff-75ce-4254-bb86-70d6b408d1f3"
      },
      "outputs": [
        {
          "output_type": "stream",
          "name": "stdout",
          "text": [
            "Size BoW_title= 108032\n"
          ]
        }
      ],
      "source": [
        "# analisis de frecuencia en palabras de 'title'\n",
        "fdist_title = nltk.FreqDist(all_tokens_title)\n",
        "print('Size BoW_title=',len(fdist_title))\n",
        "topwordstitle = fdist_title.most_common(20)"
      ]
    },
    {
      "cell_type": "code",
      "execution_count": 16,
      "metadata": {
        "id": "gFY75V1E6Tzq",
        "colab": {
          "base_uri": "https://localhost:8080/",
          "height": 605
        },
        "outputId": "dca7d974-ea59-4982-d16f-97f3c33bffed"
      },
      "outputs": [
        {
          "output_type": "display_data",
          "data": {
            "text/plain": [
              "<Figure size 1080x720 with 1 Axes>"
            ],
            "image/png": "[encoded data removed]"
          },
          "metadata": {
            "needs_background": "light"
          }
        }
      ],
      "source": [
        "x,y = zip(*topwordstitle)\n",
        "plt.figure(figsize=(15,10))\n",
        "plt.bar(x,y)\n",
        "plt.xticks(rotation=90)\n",
        "plt.show()"
      ]
    },
    {
      "cell_type": "code",
      "execution_count": 17,
      "metadata": {
        "id": "CikkFIFw6Tzq"
      },
      "outputs": [],
      "source": [
        "# analisis de frecuencia en palabras de 'content'\n",
        "all_tokens_content = []\n",
        "for t in df['tokenized_content']:\n",
        "    all_tokens_content.extend(t)"
      ]
    },
    {
      "cell_type": "code",
      "execution_count": 18,
      "metadata": {
        "id": "sddTjW3t6Tzq",
        "colab": {
          "base_uri": "https://localhost:8080/"
        },
        "outputId": "e41c79b1-4d46-4060-d016-9134f7eaa8aa"
      },
      "outputs": [
        {
          "output_type": "stream",
          "name": "stdout",
          "text": [
            "all_tokens_content = 11458604\n"
          ]
        }
      ],
      "source": [
        "print(\"all_tokens_content =\",len(all_tokens_content))"
      ]
    },
    {
      "cell_type": "code",
      "execution_count": 19,
      "metadata": {
        "id": "Y4NDKSTe6Tzq",
        "colab": {
          "base_uri": "https://localhost:8080/"
        },
        "outputId": "8d7e6a54-ce81-43ff-ce13-4db3d1215e92"
      },
      "outputs": [
        {
          "output_type": "stream",
          "name": "stdout",
          "text": [
            "Size BoW_content= 359329\n"
          ]
        }
      ],
      "source": [
        "# analisis de frecuencia en palabras de 'content'\n",
        "fdist_content = nltk.FreqDist(all_tokens_content)\n",
        "print('Size BoW_content=',len(fdist_content))\n",
        "topwordscontent = fdist_content.most_common(20)"
      ]
    },
    {
      "cell_type": "code",
      "execution_count": 20,
      "metadata": {
        "id": "kgr_-_hp6Tzq",
        "colab": {
          "base_uri": "https://localhost:8080/",
          "height": 608
        },
        "outputId": "2a9630ea-e876-42c0-86d0-1270833846f6"
      },
      "outputs": [
        {
          "output_type": "display_data",
          "data": {
            "text/plain": [
              "<Figure size 1080x720 with 1 Axes>"
            ],
            "image/png": "[encoded data removed]"
          },
          "metadata": {
            "needs_background": "light"
          }
        }
      ],
      "source": [
        "x,y = zip(*topwordscontent)\n",
        "plt.figure(figsize=(15,10))\n",
        "plt.bar(x,y)\n",
        "plt.xticks(rotation=90)\n",
        "plt.show()"
      ]
    },
    {
      "cell_type": "code",
      "execution_count": 21,
      "metadata": {
        "id": "wf3wUxw76Tzq",
        "colab": {
          "base_uri": "https://localhost:8080/"
        },
        "outputId": "76c00b40-b313-4816-dd58-85abace68797"
      },
      "outputs": [
        {
          "output_type": "stream",
          "name": "stdout",
          "text": [
            "179\n",
            "{'these', 'y', \"mustn't\", 'out', 'between', 'me', 'your', 'mustn', \"you've\", 'couldn', 'ours', \"needn't\", \"hasn't\", 'weren', 'as', 'here', 'just', 'there', 'didn', 'isn', 'him', \"shan't\", 'which', 'at', 'have', 'the', 'haven', 'nor', \"haven't\", 'do', 'until', 'himself', 'has', 'should', \"doesn't\", \"mightn't\", 'hadn', 'doesn', 'it', 'she', 'ain', 'but', 'during', \"won't\", \"it's\", 'very', \"shouldn't\", 'did', 'after', \"you're\", 'don', 'further', 'yourselves', 'what', 'both', 'who', 'if', 'been', 'all', 'our', 'yours', 'some', 'having', 'yourself', 'now', 'wouldn', \"she's\", 'from', 'any', 'against', 'then', \"you'd\", 'was', 'be', 'am', 'being', 'to', 'when', 'had', 'he', 'o', 'can', 'above', 'shouldn', 'you', 'won', 's', 'again', 'doing', \"wasn't\", 'those', 'other', 'its', 'few', 'myself', 'once', 'their', 'before', 'his', 'hers', 'or', 'will', 're', 'this', \"should've\", 've', 'a', 'for', 'll', 'are', 'hasn', 'mightn', 'ourselves', 'wasn', 'no', 'themselves', 'off', 'not', 'same', 'down', 'and', \"don't\", 'd', 'in', 'too', 'itself', 'so', 'each', 't', 'an', 'that', 'into', 'where', \"couldn't\", 'how', \"you'll\", 'below', 'herself', 'own', 'aren', 'about', 'my', 'most', 'whom', 'while', 'with', 'does', 'why', 'of', \"weren't\", 'them', 'over', 'because', 'is', 'm', 'needn', \"aren't\", \"isn't\", 'were', 'such', \"wouldn't\", 'only', 'by', 'theirs', 'on', 'we', 'ma', 'her', 'i', 'than', 'through', 'up', 'they', 'under', 'more', \"didn't\", \"hadn't\", \"that'll\", 'shan'}\n"
          ]
        }
      ],
      "source": [
        "# stopwords en nltk\n",
        "from nltk.corpus import stopwords\n",
        " \n",
        "stop_words_nltk = set(stopwords.words('english'))\n",
        "print(len(stop_words_nltk))\n",
        "print(stop_words_nltk)"
      ]
    },
    {
      "cell_type": "code",
      "execution_count": 22,
      "metadata": {
        "id": "nKZxNe7x6Tzq",
        "colab": {
          "base_uri": "https://localhost:8080/",
          "height": 648
        },
        "outputId": "d48e3bbc-a689-402e-f705-33c008eda12e"
      },
      "outputs": [
        {
          "output_type": "stream",
          "name": "stdout",
          "text": [
            "Size of new BoW title = 80375\n"
          ]
        },
        {
          "output_type": "display_data",
          "data": {
            "text/plain": [
              "<Figure size 1080x720 with 1 Axes>"
            ],
            "image/png": "[encoded data removed]"
          },
          "metadata": {
            "needs_background": "light"
          }
        }
      ],
      "source": [
        "# TOKENIZAR con nltk, \n",
        "# ELIMINAR tokens de long = 1\n",
        "# ELIMINAR caracteres que no sean alfanumericos\n",
        "# REMOVER stop words\n",
        "# graficar los 20 términos más frecuentes:\n",
        "\n",
        "# ya tokenizado en all_tokens_title o all_tokens_content\n",
        "tokens = [w.lower() for w in all_tokens_title if len(w)>1]\n",
        "tokens = [re.sub(r'[^A-Za-z0-9]+','',w) for w in tokens]\n",
        "tokens = [w for w in tokens if w not in stop_words_nltk]\n",
        "\n",
        "fdist = nltk.FreqDist(tokens)\n",
        "topwords = fdist.most_common(20)\n",
        "print('Size of new BoW title =',len(fdist))\n",
        "x,y = zip(*topwords)\n",
        "plt.figure(figsize=(15,10))\n",
        "plt.bar(x,y)\n",
        "plt.xticks(rotation=90)\n",
        "plt.show()"
      ]
    },
    {
      "cell_type": "code",
      "execution_count": 23,
      "metadata": {
        "id": "QiQ7QH2V6Tzr",
        "colab": {
          "base_uri": "https://localhost:8080/",
          "height": 635
        },
        "outputId": "335a7b04-9483-47be-cf98-21e761293faa"
      },
      "outputs": [
        {
          "output_type": "stream",
          "name": "stdout",
          "text": [
            "Size of new BoW title = 61444\n"
          ]
        },
        {
          "output_type": "display_data",
          "data": {
            "text/plain": [
              "<Figure size 1080x720 with 1 Axes>"
            ],
            "image/png": "[encoded data removed]"
          },
          "metadata": {
            "needs_background": "light"
          }
        }
      ],
      "source": [
        "# Stemming con NLTK\n",
        "\n",
        "from nltk.stem import PorterStemmer\n",
        "from nltk.stem import LancasterStemmer\n",
        "\n",
        "porter = PorterStemmer()\n",
        "lancaster = LancasterStemmer()\n",
        "\n",
        "#tokens = [porter.stem(w) for w in tokens]\n",
        "tokens = [lancaster.stem(w) for w in tokens]\n",
        "\n",
        "fdist = nltk.FreqDist(tokens)\n",
        "topwords = fdist.most_common(20)\n",
        "print('Size of new BoW title =',len(fdist))\n",
        "x,y = zip(*topwords)\n",
        "plt.figure(figsize=(15,10))\n",
        "plt.bar(x,y)\n",
        "plt.xticks(rotation=90)\n",
        "plt.show()"
      ]
    },
    {
      "cell_type": "code",
      "source": [
        "import nltk"
      ],
      "metadata": {
        "id": "gaGsPWFf1FXZ"
      },
      "execution_count": 24,
      "outputs": []
    },
    {
      "cell_type": "code",
      "execution_count": 26,
      "metadata": {
        "id": "SFIf2GRW6Tzs",
        "colab": {
          "base_uri": "https://localhost:8080/",
          "height": 623
        },
        "outputId": "4b5495d2-72b5-484f-b29c-ba8422090152"
      },
      "outputs": [
        {
          "output_type": "stream",
          "name": "stdout",
          "text": [
            "Size of new BoW title = 233778\n"
          ]
        },
        {
          "output_type": "display_data",
          "data": {
            "text/plain": [
              "<Figure size 1080x720 with 1 Axes>"
            ],
            "image/png": "[encoded data removed]"
          },
          "metadata": {
            "needs_background": "light"
          }
        }
      ],
      "source": [
        "# algunas funciones de mejoras para la tokenización:\n",
        "tokens = [re.sub(r'[^A-Za-z0-9]+','',w) for w in all_tokens_content]\n",
        "tokens = [w.lower() for w in tokens if len(w)>1]\n",
        "tokens = [w for w in tokens if w.isalpha()]\n",
        "fdist = nltk.FreqDist(tokens)\n",
        "topwords = fdist.most_common(20)\n",
        "print('Size of new BoW title =',len(fdist))\n",
        "x,y = zip(*topwords)\n",
        "plt.figure(figsize=(15,10))\n",
        "plt.bar(x,y)\n",
        "plt.xticks(rotation=90)\n",
        "plt.show()"
      ]
    },
    {
      "cell_type": "code",
      "execution_count": null,
      "metadata": {
        "id": "B9cs-pay6Tzs"
      },
      "outputs": [],
      "source": []
    }
  ],
  "metadata": {
    "kernelspec": {
      "display_name": "Python 3.10.6 64-bit",
      "language": "python",
      "name": "python3"
    },
    "language_info": {
      "codemirror_mode": {
        "name": "ipython",
        "version": 3
      },
      "file_extension": ".py",
      "mimetype": "text/x-python",
      "name": "python",
      "nbconvert_exporter": "python",
      "pygments_lexer": "ipython3",
      "version": "3.10.6"
    },
    "vscode": {
      "interpreter": {
        "hash": "aee8b7b246df8f9039afb4144a1f6fd8d2ca17a180786b69acc140d282b71a49"
      }
    },
    "colab": {
      "provenance": [],
      "include_colab_link": true
    }
  },
  "nbformat": 4,
  "nbformat_minor": 0
}