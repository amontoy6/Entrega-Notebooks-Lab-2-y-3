{
  "cells": [
    {
      "cell_type": "markdown",
      "metadata": {
        "id": "view-in-github",
        "colab_type": "text"
      },
      "source": [
        "<a href=\"https://colab.research.google.com/github/amontoy6/Entrega-Notebooks-Lab-2-y-3/blob/main/lab4_pandas_google_colab.ipynb\" target=\"_parent\"><img src=\"https://colab.research.google.com/assets/colab-badge.svg\" alt=\"Open In Colab\"/></a>"
      ]
    },
    {
      "cell_type": "code",
      "execution_count": 1,
      "metadata": {
        "id": "fC5r71H5WkFu"
      },
      "outputs": [],
      "source": [
        "#\n",
        "# Ana Maria Montoya Mesa\n",
        "# Universidad EAFIT \n",
        "# 2023-1\n",
        "#"
      ]
    },
    {
      "cell_type": "code",
      "execution_count": 2,
      "metadata": {
        "id": "mM2mjs9IW1D8",
        "colab": {
          "base_uri": "https://localhost:8080/"
        },
        "outputId": "a9fa1001-02a2-444e-cd0e-5280c783734a"
      },
      "outputs": [
        {
          "output_type": "stream",
          "name": "stdout",
          "text": [
            "Mounted at /content/gdrive\n"
          ]
        }
      ],
      "source": [
        "#configuración en google colab\n",
        "from google.colab import drive\n",
        "drive.mount('/content/gdrive')"
      ]
    },
    {
      "cell_type": "code",
      "execution_count": 3,
      "metadata": {
        "id": "E1y5-rtrWkFy",
        "colab": {
          "base_uri": "https://localhost:8080/"
        },
        "outputId": "6ba5be24-c8fd-43fb-f824-48143bb99d34"
      },
      "outputs": [
        {
          "output_type": "stream",
          "name": "stdout",
          "text": [
            "Looking in indexes: https://pypi.org/simple, https://us-python.pkg.dev/colab-wheels/public/simple/\n",
            "Requirement already satisfied: nltk in /usr/local/lib/python3.9/dist-packages (3.8.1)\n",
            "Requirement already satisfied: tqdm in /usr/local/lib/python3.9/dist-packages (from nltk) (4.65.0)\n",
            "Requirement already satisfied: joblib in /usr/local/lib/python3.9/dist-packages (from nltk) (1.1.1)\n",
            "Requirement already satisfied: click in /usr/local/lib/python3.9/dist-packages (from nltk) (8.1.3)\n",
            "Requirement already satisfied: regex>=2021.8.3 in /usr/local/lib/python3.9/dist-packages (from nltk) (2022.10.31)\n",
            "Looking in indexes: https://pypi.org/simple, https://us-python.pkg.dev/colab-wheels/public/simple/\n",
            "Requirement already satisfied: pandas in /usr/local/lib/python3.9/dist-packages (1.4.4)\n",
            "Requirement already satisfied: pytz>=2020.1 in /usr/local/lib/python3.9/dist-packages (from pandas) (2022.7.1)\n",
            "Requirement already satisfied: numpy>=1.18.5 in /usr/local/lib/python3.9/dist-packages (from pandas) (1.22.4)\n",
            "Requirement already satisfied: python-dateutil>=2.8.1 in /usr/local/lib/python3.9/dist-packages (from pandas) (2.8.2)\n",
            "Requirement already satisfied: six>=1.5 in /usr/local/lib/python3.9/dist-packages (from python-dateutil>=2.8.1->pandas) (1.15.0)\n",
            "Looking in indexes: https://pypi.org/simple, https://us-python.pkg.dev/colab-wheels/public/simple/\n",
            "Requirement already satisfied: matplotlib in /usr/local/lib/python3.9/dist-packages (3.7.1)\n",
            "Requirement already satisfied: contourpy>=1.0.1 in /usr/local/lib/python3.9/dist-packages (from matplotlib) (1.0.7)\n",
            "Requirement already satisfied: kiwisolver>=1.0.1 in /usr/local/lib/python3.9/dist-packages (from matplotlib) (1.4.4)\n",
            "Requirement already satisfied: numpy>=1.20 in /usr/local/lib/python3.9/dist-packages (from matplotlib) (1.22.4)\n",
            "Requirement already satisfied: packaging>=20.0 in /usr/local/lib/python3.9/dist-packages (from matplotlib) (23.0)\n",
            "Requirement already satisfied: pyparsing>=2.3.1 in /usr/local/lib/python3.9/dist-packages (from matplotlib) (3.0.9)\n",
            "Requirement already satisfied: pillow>=6.2.0 in /usr/local/lib/python3.9/dist-packages (from matplotlib) (8.4.0)\n",
            "Requirement already satisfied: importlib-resources>=3.2.0 in /usr/local/lib/python3.9/dist-packages (from matplotlib) (5.12.0)\n",
            "Requirement already satisfied: fonttools>=4.22.0 in /usr/local/lib/python3.9/dist-packages (from matplotlib) (4.39.0)\n",
            "Requirement already satisfied: cycler>=0.10 in /usr/local/lib/python3.9/dist-packages (from matplotlib) (0.11.0)\n",
            "Requirement already satisfied: python-dateutil>=2.7 in /usr/local/lib/python3.9/dist-packages (from matplotlib) (2.8.2)\n",
            "Requirement already satisfied: zipp>=3.1.0 in /usr/local/lib/python3.9/dist-packages (from importlib-resources>=3.2.0->matplotlib) (3.15.0)\n",
            "Requirement already satisfied: six>=1.5 in /usr/local/lib/python3.9/dist-packages (from python-dateutil>=2.7->matplotlib) (1.15.0)\n"
          ]
        }
      ],
      "source": [
        "# dependencias que eventualmente requerirá instalar:\n",
        "!pip install nltk\n",
        "!pip install pandas\n",
        "!pip install matplotlib"
      ]
    },
    {
      "cell_type": "code",
      "execution_count": 4,
      "metadata": {
        "id": "mkso6uS_WkF1"
      },
      "outputs": [],
      "source": [
        "# cargar las librerias necesarias\n",
        "## 1. nltk para 'procesamiento natural del lenguaje'\n",
        "## 2. pandas para procesamiento de dataframes, muy usado en preparación de datos\n",
        "## 3. re - expresiones regulares\n",
        "## 4. numpy, codecs, etc - otras"
      ]
    },
    {
      "cell_type": "code",
      "execution_count": null,
      "metadata": {
        "id": "5vC4mSzHWkF5"
      },
      "outputs": [],
      "source": [
        "import nltk\n",
        "import pandas as pd\n",
        "import numpy as np\n",
        "import re\n",
        "import codecs\n",
        "import matplotlib.pyplot as plt"
      ]
    },
    {
      "cell_type": "code",
      "execution_count": null,
      "metadata": {
        "id": "oeXuYyo4WkF8"
      },
      "outputs": [],
      "source": [
        "# directorios (path) de entrada y salida:\n",
        "# \n",
        "path_in=\"gdrive/MyDrive/Maestria/st1800-231/datasets/doaj_1.csv\"\n",
        "path_out=\"gdrive/MyDrive/st1800-231/out/\"\n",
        "filename='doaj_1.csv'"
      ]
    },
    {
      "cell_type": "code",
      "execution_count": null,
      "metadata": {
        "id": "yG_7yh70WkF_",
        "colab": {
          "base_uri": "https://localhost:8080/"
        },
        "outputId": "0c9c68f6-a571-4c2f-86b1-938a40601b31"
      },
      "outputs": [
        {
          "output_type": "stream",
          "name": "stderr",
          "text": [
            "[nltk_data] Downloading package punkt to /root/nltk_data...\n",
            "[nltk_data]   Package punkt is already up-to-date!\n",
            "[nltk_data] Downloading package stopwords to /root/nltk_data...\n",
            "[nltk_data]   Package stopwords is already up-to-date!\n"
          ]
        },
        {
          "output_type": "execute_result",
          "data": {
            "text/plain": [
              "True"
            ]
          },
          "metadata": {},
          "execution_count": 20
        }
      ],
      "source": [
        "# corpus de nltk para 'tokenizer' y 'stopwords'\n",
        "nltk.download('punkt')\n",
        "nltk.download('stopwords')"
      ]
    },
    {
      "cell_type": "code",
      "execution_count": null,
      "metadata": {
        "id": "GCJT3NW2WkGB",
        "colab": {
          "base_uri": "https://localhost:8080/",
          "height": 563
        },
        "outputId": "dcc3bdd8-d492-4e11-d89c-ddce0608317e"
      },
      "outputs": [
        {
          "output_type": "execute_result",
          "data": {
            "text/plain": [
              "                                               title  \\\n",
              "0  Crystal structure of apatite type Ca2.49Nd7.51...   \n",
              "1  Genetic Programming for Medicinal Plant Family...   \n",
              "2  Managing reality shock: Expectations versus ex...   \n",
              "3  A Review of Systems and Technologies for Smart...   \n",
              "4  Functional testing of the vestibular ocular re...   \n",
              "\n",
              "                                                 url                 path  \\\n",
              "0  http://scripts.iucr.org/cgi-bin/paper?S2056989...  article_batch_1.csv   \n",
              "1  http://journals.itb.ac.id/index.php/jictra/art...  article_batch_1.csv   \n",
              "2  https://sajip.co.za/index.php/sajip/article/vi...  article_batch_1.csv   \n",
              "3              http://www.mdpi.com/1996-1073/9/5/348  article_batch_1.csv   \n",
              "4  http://journal.frontiersin.org/Journal/10.3389...  article_batch_1.csv   \n",
              "\n",
              "                                            keywords  category source  \\\n",
              "0  crystal structure, apatite structure type, cal...  articles   doaj   \n",
              "1                                                NaN  articles   doaj   \n",
              "2         Managing reality shock, Graduate engineers  articles   doaj   \n",
              "3  smart home, smart grid, energy management syst...  articles   doaj   \n",
              "4  Semicircular Canals, Dynamic Visual Acuity, He...  articles   doaj   \n",
              "\n",
              "                                             content  \n",
              "0  The title compound, Ca2+xNd8–x(SiO4)6O2–0.5x (...  \n",
              "1  Information about medicinal plants that is ava...  \n",
              "2  The objective of the study is an analysis of t...  \n",
              "3  In the actual era of smart homes and smart gri...  \n",
              "4  The experimental assessment of the vestibulo-o...  "
            ],
            "text/html": [
              "\n",
              "  <div id=\"df-0f9ecdf4-98bf-4d47-9365-5e4f6ec1f75c\">\n",
              "    <div class=\"colab-df-container\">\n",
              "      <div>\n",
              "<style scoped>\n",
              "    .dataframe tbody tr th:only-of-type {\n",
              "        vertical-align: middle;\n",
              "    }\n",
              "\n",
              "    .dataframe tbody tr th {\n",
              "        vertical-align: top;\n",
              "    }\n",
              "\n",
              "    .dataframe thead th {\n",
              "        text-align: right;\n",
              "    }\n",
              "</style>\n",
              "<table border=\"1\" class=\"dataframe\">\n",
              "  <thead>\n",
              "    <tr style=\"text-align: right;\">\n",
              "      <th></th>\n",
              "      <th>title</th>\n",
              "      <th>url</th>\n",
              "      <th>path</th>\n",
              "      <th>keywords</th>\n",
              "      <th>category</th>\n",
              "      <th>source</th>\n",
              "      <th>content</th>\n",
              "    </tr>\n",
              "  </thead>\n",
              "  <tbody>\n",
              "    <tr>\n",
              "      <th>0</th>\n",
              "      <td>Crystal structure of apatite type Ca2.49Nd7.51...</td>\n",
              "      <td>http://scripts.iucr.org/cgi-bin/paper?S2056989...</td>\n",
              "      <td>article_batch_1.csv</td>\n",
              "      <td>crystal structure, apatite structure type, cal...</td>\n",
              "      <td>articles</td>\n",
              "      <td>doaj</td>\n",
              "      <td>The title compound, Ca2+xNd8–x(SiO4)6O2–0.5x (...</td>\n",
              "    </tr>\n",
              "    <tr>\n",
              "      <th>1</th>\n",
              "      <td>Genetic Programming for Medicinal Plant Family...</td>\n",
              "      <td>http://journals.itb.ac.id/index.php/jictra/art...</td>\n",
              "      <td>article_batch_1.csv</td>\n",
              "      <td>NaN</td>\n",
              "      <td>articles</td>\n",
              "      <td>doaj</td>\n",
              "      <td>Information about medicinal plants that is ava...</td>\n",
              "    </tr>\n",
              "    <tr>\n",
              "      <th>2</th>\n",
              "      <td>Managing reality shock: Expectations versus ex...</td>\n",
              "      <td>https://sajip.co.za/index.php/sajip/article/vi...</td>\n",
              "      <td>article_batch_1.csv</td>\n",
              "      <td>Managing reality shock, Graduate engineers</td>\n",
              "      <td>articles</td>\n",
              "      <td>doaj</td>\n",
              "      <td>The objective of the study is an analysis of t...</td>\n",
              "    </tr>\n",
              "    <tr>\n",
              "      <th>3</th>\n",
              "      <td>A Review of Systems and Technologies for Smart...</td>\n",
              "      <td>http://www.mdpi.com/1996-1073/9/5/348</td>\n",
              "      <td>article_batch_1.csv</td>\n",
              "      <td>smart home, smart grid, energy management syst...</td>\n",
              "      <td>articles</td>\n",
              "      <td>doaj</td>\n",
              "      <td>In the actual era of smart homes and smart gri...</td>\n",
              "    </tr>\n",
              "    <tr>\n",
              "      <th>4</th>\n",
              "      <td>Functional testing of the vestibular ocular re...</td>\n",
              "      <td>http://journal.frontiersin.org/Journal/10.3389...</td>\n",
              "      <td>article_batch_1.csv</td>\n",
              "      <td>Semicircular Canals, Dynamic Visual Acuity, He...</td>\n",
              "      <td>articles</td>\n",
              "      <td>doaj</td>\n",
              "      <td>The experimental assessment of the vestibulo-o...</td>\n",
              "    </tr>\n",
              "  </tbody>\n",
              "</table>\n",
              "</div>\n",
              "      <button class=\"colab-df-convert\" onclick=\"convertToInteractive('df-0f9ecdf4-98bf-4d47-9365-5e4f6ec1f75c')\"\n",
              "              title=\"Convert this dataframe to an interactive table.\"\n",
              "              style=\"display:none;\">\n",
              "        \n",
              "  <svg xmlns=\"http://www.w3.org/2000/svg\" height=\"24px\"viewBox=\"0 0 24 24\"\n",
              "       width=\"24px\">\n",
              "    <path d=\"M0 0h24v24H0V0z\" fill=\"none\"/>\n",
              "    <path d=\"M18.56 5.44l.94 2.06.94-2.06 2.06-.94-2.06-.94-.94-2.06-.94 2.06-2.06.94zm-11 1L8.5 8.5l.94-2.06 2.06-.94-2.06-.94L8.5 2.5l-.94 2.06-2.06.94zm10 10l.94 2.06.94-2.06 2.06-.94-2.06-.94-.94-2.06-.94 2.06-2.06.94z\"/><path d=\"M17.41 7.96l-1.37-1.37c-.4-.4-.92-.59-1.43-.59-.52 0-1.04.2-1.43.59L10.3 9.45l-7.72 7.72c-.78.78-.78 2.05 0 2.83L4 21.41c.39.39.9.59 1.41.59.51 0 1.02-.2 1.41-.59l7.78-7.78 2.81-2.81c.8-.78.8-2.07 0-2.86zM5.41 20L4 18.59l7.72-7.72 1.47 1.35L5.41 20z\"/>\n",
              "  </svg>\n",
              "      </button>\n",
              "      \n",
              "  <style>\n",
              "    .colab-df-container {\n",
              "      display:flex;\n",
              "      flex-wrap:wrap;\n",
              "      gap: 12px;\n",
              "    }\n",
              "\n",
              "    .colab-df-convert {\n",
              "      background-color: #E8F0FE;\n",
              "      border: none;\n",
              "      border-radius: 50%;\n",
              "      cursor: pointer;\n",
              "      display: none;\n",
              "      fill: #1967D2;\n",
              "      height: 32px;\n",
              "      padding: 0 0 0 0;\n",
              "      width: 32px;\n",
              "    }\n",
              "\n",
              "    .colab-df-convert:hover {\n",
              "      background-color: #E2EBFA;\n",
              "      box-shadow: 0px 1px 2px rgba(60, 64, 67, 0.3), 0px 1px 3px 1px rgba(60, 64, 67, 0.15);\n",
              "      fill: #174EA6;\n",
              "    }\n",
              "\n",
              "    [theme=dark] .colab-df-convert {\n",
              "      background-color: #3B4455;\n",
              "      fill: #D2E3FC;\n",
              "    }\n",
              "\n",
              "    [theme=dark] .colab-df-convert:hover {\n",
              "      background-color: #434B5C;\n",
              "      box-shadow: 0px 1px 3px 1px rgba(0, 0, 0, 0.15);\n",
              "      filter: drop-shadow(0px 1px 2px rgba(0, 0, 0, 0.3));\n",
              "      fill: #FFFFFF;\n",
              "    }\n",
              "  </style>\n",
              "\n",
              "      <script>\n",
              "        const buttonEl =\n",
              "          document.querySelector('#df-0f9ecdf4-98bf-4d47-9365-5e4f6ec1f75c button.colab-df-convert');\n",
              "        buttonEl.style.display =\n",
              "          google.colab.kernel.accessAllowed ? 'block' : 'none';\n",
              "\n",
              "        async function convertToInteractive(key) {\n",
              "          const element = document.querySelector('#df-0f9ecdf4-98bf-4d47-9365-5e4f6ec1f75c');\n",
              "          const dataTable =\n",
              "            await google.colab.kernel.invokeFunction('convertToInteractive',\n",
              "                                                     [key], {});\n",
              "          if (!dataTable) return;\n",
              "\n",
              "          const docLinkHtml = 'Like what you see? Visit the ' +\n",
              "            '<a target=\"_blank\" href=https://colab.research.google.com/notebooks/data_table.ipynb>data table notebook</a>'\n",
              "            + ' to learn more about interactive tables.';\n",
              "          element.innerHTML = '';\n",
              "          dataTable['output_type'] = 'display_data';\n",
              "          await google.colab.output.renderOutput(dataTable, element);\n",
              "          const docLink = document.createElement('div');\n",
              "          docLink.innerHTML = docLinkHtml;\n",
              "          element.appendChild(docLink);\n",
              "        }\n",
              "      </script>\n",
              "    </div>\n",
              "  </div>\n",
              "  "
            ]
          },
          "metadata": {},
          "execution_count": 25
        }
      ],
      "source": [
        "# abrir un archivo con pandas desde aws s3\n",
        "#df = pd.read_csv('s3://emontoyapublic/doaj_1.csv',delimiter=',')\n",
        "df = pd.read_csv('gdrive/MyDrive/Maestria/st1800-231/datasets/doaj_1.csv',delimiter=',')\n",
        "df.head()\n"
      ]
    },
    {
      "cell_type": "code",
      "source": [
        "!pip3 install nltk\n",
        "!pip3 install pandas"
      ],
      "metadata": {
        "colab": {
          "base_uri": "https://localhost:8080/"
        },
        "id": "OHPtINvyBzsr",
        "outputId": "9673ab93-6548-47a9-d010-e072ac831b07"
      },
      "execution_count": null,
      "outputs": [
        {
          "output_type": "stream",
          "name": "stdout",
          "text": [
            "Looking in indexes: https://pypi.org/simple, https://us-python.pkg.dev/colab-wheels/public/simple/\n",
            "Requirement already satisfied: nltk in /usr/local/lib/python3.9/dist-packages (3.7)\n",
            "Requirement already satisfied: joblib in /usr/local/lib/python3.9/dist-packages (from nltk) (1.2.0)\n",
            "Requirement already satisfied: regex>=2021.8.3 in /usr/local/lib/python3.9/dist-packages (from nltk) (2022.6.2)\n",
            "Requirement already satisfied: click in /usr/local/lib/python3.9/dist-packages (from nltk) (8.1.3)\n",
            "Requirement already satisfied: tqdm in /usr/local/lib/python3.9/dist-packages (from nltk) (4.65.0)\n",
            "Looking in indexes: https://pypi.org/simple, https://us-python.pkg.dev/colab-wheels/public/simple/\n",
            "Requirement already satisfied: pandas in /usr/local/lib/python3.9/dist-packages (1.3.5)\n",
            "Requirement already satisfied: python-dateutil>=2.7.3 in /usr/local/lib/python3.9/dist-packages (from pandas) (2.8.2)\n",
            "Requirement already satisfied: pytz>=2017.3 in /usr/local/lib/python3.9/dist-packages (from pandas) (2022.7.1)\n",
            "Requirement already satisfied: numpy>=1.17.3 in /usr/local/lib/python3.9/dist-packages (from pandas) (1.22.4)\n",
            "Requirement already satisfied: six>=1.5 in /usr/local/lib/python3.9/dist-packages (from python-dateutil>=2.7.3->pandas) (1.15.0)\n"
          ]
        }
      ]
    },
    {
      "cell_type": "code",
      "source": [],
      "metadata": {
        "id": "Xi4aWd_vCO7U"
      },
      "execution_count": null,
      "outputs": []
    },
    {
      "cell_type": "code",
      "source": [
        "df = df[['title','content']]\n",
        "df.head()"
      ],
      "metadata": {
        "colab": {
          "base_uri": "https://localhost:8080/",
          "height": 206
        },
        "id": "PJC0FJqz4g2m",
        "outputId": "4601e6e3-3b90-4147-80b9-12c9289323dc"
      },
      "execution_count": null,
      "outputs": [
        {
          "output_type": "execute_result",
          "data": {
            "text/plain": [
              "                                               title  \\\n",
              "0  Crystal structure of apatite type Ca2.49Nd7.51...   \n",
              "1  Genetic Programming for Medicinal Plant Family...   \n",
              "2  Managing reality shock: Expectations versus ex...   \n",
              "3  A Review of Systems and Technologies for Smart...   \n",
              "4  Functional testing of the vestibular ocular re...   \n",
              "\n",
              "                                             content  \n",
              "0  The title compound, Ca2+xNd8–x(SiO4)6O2–0.5x (...  \n",
              "1  Information about medicinal plants that is ava...  \n",
              "2  The objective of the study is an analysis of t...  \n",
              "3  In the actual era of smart homes and smart gri...  \n",
              "4  The experimental assessment of the vestibulo-o...  "
            ],
            "text/html": [
              "\n",
              "  <div id=\"df-5ac59b26-dd6a-454f-9fd5-a1a5a2475858\">\n",
              "    <div class=\"colab-df-container\">\n",
              "      <div>\n",
              "<style scoped>\n",
              "    .dataframe tbody tr th:only-of-type {\n",
              "        vertical-align: middle;\n",
              "    }\n",
              "\n",
              "    .dataframe tbody tr th {\n",
              "        vertical-align: top;\n",
              "    }\n",
              "\n",
              "    .dataframe thead th {\n",
              "        text-align: right;\n",
              "    }\n",
              "</style>\n",
              "<table border=\"1\" class=\"dataframe\">\n",
              "  <thead>\n",
              "    <tr style=\"text-align: right;\">\n",
              "      <th></th>\n",
              "      <th>title</th>\n",
              "      <th>content</th>\n",
              "    </tr>\n",
              "  </thead>\n",
              "  <tbody>\n",
              "    <tr>\n",
              "      <th>0</th>\n",
              "      <td>Crystal structure of apatite type Ca2.49Nd7.51...</td>\n",
              "      <td>The title compound, Ca2+xNd8–x(SiO4)6O2–0.5x (...</td>\n",
              "    </tr>\n",
              "    <tr>\n",
              "      <th>1</th>\n",
              "      <td>Genetic Programming for Medicinal Plant Family...</td>\n",
              "      <td>Information about medicinal plants that is ava...</td>\n",
              "    </tr>\n",
              "    <tr>\n",
              "      <th>2</th>\n",
              "      <td>Managing reality shock: Expectations versus ex...</td>\n",
              "      <td>The objective of the study is an analysis of t...</td>\n",
              "    </tr>\n",
              "    <tr>\n",
              "      <th>3</th>\n",
              "      <td>A Review of Systems and Technologies for Smart...</td>\n",
              "      <td>In the actual era of smart homes and smart gri...</td>\n",
              "    </tr>\n",
              "    <tr>\n",
              "      <th>4</th>\n",
              "      <td>Functional testing of the vestibular ocular re...</td>\n",
              "      <td>The experimental assessment of the vestibulo-o...</td>\n",
              "    </tr>\n",
              "  </tbody>\n",
              "</table>\n",
              "</div>\n",
              "      <button class=\"colab-df-convert\" onclick=\"convertToInteractive('df-5ac59b26-dd6a-454f-9fd5-a1a5a2475858')\"\n",
              "              title=\"Convert this dataframe to an interactive table.\"\n",
              "              style=\"display:none;\">\n",
              "        \n",
              "  <svg xmlns=\"http://www.w3.org/2000/svg\" height=\"24px\"viewBox=\"0 0 24 24\"\n",
              "       width=\"24px\">\n",
              "    <path d=\"M0 0h24v24H0V0z\" fill=\"none\"/>\n",
              "    <path d=\"M18.56 5.44l.94 2.06.94-2.06 2.06-.94-2.06-.94-.94-2.06-.94 2.06-2.06.94zm-11 1L8.5 8.5l.94-2.06 2.06-.94-2.06-.94L8.5 2.5l-.94 2.06-2.06.94zm10 10l.94 2.06.94-2.06 2.06-.94-2.06-.94-.94-2.06-.94 2.06-2.06.94z\"/><path d=\"M17.41 7.96l-1.37-1.37c-.4-.4-.92-.59-1.43-.59-.52 0-1.04.2-1.43.59L10.3 9.45l-7.72 7.72c-.78.78-.78 2.05 0 2.83L4 21.41c.39.39.9.59 1.41.59.51 0 1.02-.2 1.41-.59l7.78-7.78 2.81-2.81c.8-.78.8-2.07 0-2.86zM5.41 20L4 18.59l7.72-7.72 1.47 1.35L5.41 20z\"/>\n",
              "  </svg>\n",
              "      </button>\n",
              "      \n",
              "  <style>\n",
              "    .colab-df-container {\n",
              "      display:flex;\n",
              "      flex-wrap:wrap;\n",
              "      gap: 12px;\n",
              "    }\n",
              "\n",
              "    .colab-df-convert {\n",
              "      background-color: #E8F0FE;\n",
              "      border: none;\n",
              "      border-radius: 50%;\n",
              "      cursor: pointer;\n",
              "      display: none;\n",
              "      fill: #1967D2;\n",
              "      height: 32px;\n",
              "      padding: 0 0 0 0;\n",
              "      width: 32px;\n",
              "    }\n",
              "\n",
              "    .colab-df-convert:hover {\n",
              "      background-color: #E2EBFA;\n",
              "      box-shadow: 0px 1px 2px rgba(60, 64, 67, 0.3), 0px 1px 3px 1px rgba(60, 64, 67, 0.15);\n",
              "      fill: #174EA6;\n",
              "    }\n",
              "\n",
              "    [theme=dark] .colab-df-convert {\n",
              "      background-color: #3B4455;\n",
              "      fill: #D2E3FC;\n",
              "    }\n",
              "\n",
              "    [theme=dark] .colab-df-convert:hover {\n",
              "      background-color: #434B5C;\n",
              "      box-shadow: 0px 1px 3px 1px rgba(0, 0, 0, 0.15);\n",
              "      filter: drop-shadow(0px 1px 2px rgba(0, 0, 0, 0.3));\n",
              "      fill: #FFFFFF;\n",
              "    }\n",
              "  </style>\n",
              "\n",
              "      <script>\n",
              "        const buttonEl =\n",
              "          document.querySelector('#df-5ac59b26-dd6a-454f-9fd5-a1a5a2475858 button.colab-df-convert');\n",
              "        buttonEl.style.display =\n",
              "          google.colab.kernel.accessAllowed ? 'block' : 'none';\n",
              "\n",
              "        async function convertToInteractive(key) {\n",
              "          const element = document.querySelector('#df-5ac59b26-dd6a-454f-9fd5-a1a5a2475858');\n",
              "          const dataTable =\n",
              "            await google.colab.kernel.invokeFunction('convertToInteractive',\n",
              "                                                     [key], {});\n",
              "          if (!dataTable) return;\n",
              "\n",
              "          const docLinkHtml = 'Like what you see? Visit the ' +\n",
              "            '<a target=\"_blank\" href=https://colab.research.google.com/notebooks/data_table.ipynb>data table notebook</a>'\n",
              "            + ' to learn more about interactive tables.';\n",
              "          element.innerHTML = '';\n",
              "          dataTable['output_type'] = 'display_data';\n",
              "          await google.colab.output.renderOutput(dataTable, element);\n",
              "          const docLink = document.createElement('div');\n",
              "          docLink.innerHTML = docLinkHtml;\n",
              "          element.appendChild(docLink);\n",
              "        }\n",
              "      </script>\n",
              "    </div>\n",
              "  </div>\n",
              "  "
            ]
          },
          "metadata": {},
          "execution_count": 26
        }
      ]
    },
    {
      "cell_type": "code",
      "execution_count": null,
      "metadata": {
        "id": "mb36p8EgWkGH"
      },
      "outputs": [],
      "source": [
        "df['tokenized_title'] = df.apply(lambda row: nltk.word_tokenize(str(row['title'])), axis=1)\n",
        "df['count_title'] = df.apply(lambda row: len(row['tokenized_title']), axis=1)\n",
        "df['tokenized_content'] = df.apply(lambda row: nltk.word_tokenize(str(row['content'])), axis=1)\n",
        "df['count_content'] = df.apply(lambda row: len(row['tokenized_content']), axis=1)"
      ]
    },
    {
      "cell_type": "code",
      "execution_count": null,
      "metadata": {
        "id": "nx1NEuRfWkGJ",
        "colab": {
          "base_uri": "https://localhost:8080/",
          "height": 424
        },
        "outputId": "533c0dc2-f256-44df-afe2-74cc125a1054"
      },
      "outputs": [
        {
          "output_type": "execute_result",
          "data": {
            "text/plain": [
              "                                               title  \\\n",
              "0  Crystal structure of apatite type Ca2.49Nd7.51...   \n",
              "1  Genetic Programming for Medicinal Plant Family...   \n",
              "2  Managing reality shock: Expectations versus ex...   \n",
              "3  A Review of Systems and Technologies for Smart...   \n",
              "4  Functional testing of the vestibular ocular re...   \n",
              "\n",
              "                                             content  \\\n",
              "0  The title compound, Ca2+xNd8–x(SiO4)6O2–0.5x (...   \n",
              "1  Information about medicinal plants that is ava...   \n",
              "2  The objective of the study is an analysis of t...   \n",
              "3  In the actual era of smart homes and smart gri...   \n",
              "4  The experimental assessment of the vestibulo-o...   \n",
              "\n",
              "                                     tokenized_title  count_title  \\\n",
              "0  [Crystal, structure, of, apatite, type, Ca2.49...           10   \n",
              "1  [Genetic, Programming, for, Medicinal, Plant, ...            8   \n",
              "2  [Managing, reality, shock, :, Expectations, ve...           10   \n",
              "3  [A, Review, of, Systems, and, Technologies, fo...           12   \n",
              "4  [Functional, testing, of, the, vestibular, ocu...           10   \n",
              "\n",
              "                                   tokenized_content  count_content  \n",
              "0  [The, title, compound, ,, Ca2+xNd8–x, (, SiO4,...            141  \n",
              "1  [Information, about, medicinal, plants, that, ...            253  \n",
              "2  [The, objective, of, the, study, is, an, analy...            112  \n",
              "3  [In, the, actual, era, of, smart, homes, and, ...            134  \n",
              "4  [The, experimental, assessment, of, the, vesti...            204  "
            ],
            "text/html": [
              "\n",
              "  <div id=\"df-148d2ebb-2191-449b-ad9e-b9d3fee59049\">\n",
              "    <div class=\"colab-df-container\">\n",
              "      <div>\n",
              "<style scoped>\n",
              "    .dataframe tbody tr th:only-of-type {\n",
              "        vertical-align: middle;\n",
              "    }\n",
              "\n",
              "    .dataframe tbody tr th {\n",
              "        vertical-align: top;\n",
              "    }\n",
              "\n",
              "    .dataframe thead th {\n",
              "        text-align: right;\n",
              "    }\n",
              "</style>\n",
              "<table border=\"1\" class=\"dataframe\">\n",
              "  <thead>\n",
              "    <tr style=\"text-align: right;\">\n",
              "      <th></th>\n",
              "      <th>title</th>\n",
              "      <th>content</th>\n",
              "      <th>tokenized_title</th>\n",
              "      <th>count_title</th>\n",
              "      <th>tokenized_content</th>\n",
              "      <th>count_content</th>\n",
              "    </tr>\n",
              "  </thead>\n",
              "  <tbody>\n",
              "    <tr>\n",
              "      <th>0</th>\n",
              "      <td>Crystal structure of apatite type Ca2.49Nd7.51...</td>\n",
              "      <td>The title compound, Ca2+xNd8–x(SiO4)6O2–0.5x (...</td>\n",
              "      <td>[Crystal, structure, of, apatite, type, Ca2.49...</td>\n",
              "      <td>10</td>\n",
              "      <td>[The, title, compound, ,, Ca2+xNd8–x, (, SiO4,...</td>\n",
              "      <td>141</td>\n",
              "    </tr>\n",
              "    <tr>\n",
              "      <th>1</th>\n",
              "      <td>Genetic Programming for Medicinal Plant Family...</td>\n",
              "      <td>Information about medicinal plants that is ava...</td>\n",
              "      <td>[Genetic, Programming, for, Medicinal, Plant, ...</td>\n",
              "      <td>8</td>\n",
              "      <td>[Information, about, medicinal, plants, that, ...</td>\n",
              "      <td>253</td>\n",
              "    </tr>\n",
              "    <tr>\n",
              "      <th>2</th>\n",
              "      <td>Managing reality shock: Expectations versus ex...</td>\n",
              "      <td>The objective of the study is an analysis of t...</td>\n",
              "      <td>[Managing, reality, shock, :, Expectations, ve...</td>\n",
              "      <td>10</td>\n",
              "      <td>[The, objective, of, the, study, is, an, analy...</td>\n",
              "      <td>112</td>\n",
              "    </tr>\n",
              "    <tr>\n",
              "      <th>3</th>\n",
              "      <td>A Review of Systems and Technologies for Smart...</td>\n",
              "      <td>In the actual era of smart homes and smart gri...</td>\n",
              "      <td>[A, Review, of, Systems, and, Technologies, fo...</td>\n",
              "      <td>12</td>\n",
              "      <td>[In, the, actual, era, of, smart, homes, and, ...</td>\n",
              "      <td>134</td>\n",
              "    </tr>\n",
              "    <tr>\n",
              "      <th>4</th>\n",
              "      <td>Functional testing of the vestibular ocular re...</td>\n",
              "      <td>The experimental assessment of the vestibulo-o...</td>\n",
              "      <td>[Functional, testing, of, the, vestibular, ocu...</td>\n",
              "      <td>10</td>\n",
              "      <td>[The, experimental, assessment, of, the, vesti...</td>\n",
              "      <td>204</td>\n",
              "    </tr>\n",
              "  </tbody>\n",
              "</table>\n",
              "</div>\n",
              "      <button class=\"colab-df-convert\" onclick=\"convertToInteractive('df-148d2ebb-2191-449b-ad9e-b9d3fee59049')\"\n",
              "              title=\"Convert this dataframe to an interactive table.\"\n",
              "              style=\"display:none;\">\n",
              "        \n",
              "  <svg xmlns=\"http://www.w3.org/2000/svg\" height=\"24px\"viewBox=\"0 0 24 24\"\n",
              "       width=\"24px\">\n",
              "    <path d=\"M0 0h24v24H0V0z\" fill=\"none\"/>\n",
              "    <path d=\"M18.56 5.44l.94 2.06.94-2.06 2.06-.94-2.06-.94-.94-2.06-.94 2.06-2.06.94zm-11 1L8.5 8.5l.94-2.06 2.06-.94-2.06-.94L8.5 2.5l-.94 2.06-2.06.94zm10 10l.94 2.06.94-2.06 2.06-.94-2.06-.94-.94-2.06-.94 2.06-2.06.94z\"/><path d=\"M17.41 7.96l-1.37-1.37c-.4-.4-.92-.59-1.43-.59-.52 0-1.04.2-1.43.59L10.3 9.45l-7.72 7.72c-.78.78-.78 2.05 0 2.83L4 21.41c.39.39.9.59 1.41.59.51 0 1.02-.2 1.41-.59l7.78-7.78 2.81-2.81c.8-.78.8-2.07 0-2.86zM5.41 20L4 18.59l7.72-7.72 1.47 1.35L5.41 20z\"/>\n",
              "  </svg>\n",
              "      </button>\n",
              "      \n",
              "  <style>\n",
              "    .colab-df-container {\n",
              "      display:flex;\n",
              "      flex-wrap:wrap;\n",
              "      gap: 12px;\n",
              "    }\n",
              "\n",
              "    .colab-df-convert {\n",
              "      background-color: #E8F0FE;\n",
              "      border: none;\n",
              "      border-radius: 50%;\n",
              "      cursor: pointer;\n",
              "      display: none;\n",
              "      fill: #1967D2;\n",
              "      height: 32px;\n",
              "      padding: 0 0 0 0;\n",
              "      width: 32px;\n",
              "    }\n",
              "\n",
              "    .colab-df-convert:hover {\n",
              "      background-color: #E2EBFA;\n",
              "      box-shadow: 0px 1px 2px rgba(60, 64, 67, 0.3), 0px 1px 3px 1px rgba(60, 64, 67, 0.15);\n",
              "      fill: #174EA6;\n",
              "    }\n",
              "\n",
              "    [theme=dark] .colab-df-convert {\n",
              "      background-color: #3B4455;\n",
              "      fill: #D2E3FC;\n",
              "    }\n",
              "\n",
              "    [theme=dark] .colab-df-convert:hover {\n",
              "      background-color: #434B5C;\n",
              "      box-shadow: 0px 1px 3px 1px rgba(0, 0, 0, 0.15);\n",
              "      filter: drop-shadow(0px 1px 2px rgba(0, 0, 0, 0.3));\n",
              "      fill: #FFFFFF;\n",
              "    }\n",
              "  </style>\n",
              "\n",
              "      <script>\n",
              "        const buttonEl =\n",
              "          document.querySelector('#df-148d2ebb-2191-449b-ad9e-b9d3fee59049 button.colab-df-convert');\n",
              "        buttonEl.style.display =\n",
              "          google.colab.kernel.accessAllowed ? 'block' : 'none';\n",
              "\n",
              "        async function convertToInteractive(key) {\n",
              "          const element = document.querySelector('#df-148d2ebb-2191-449b-ad9e-b9d3fee59049');\n",
              "          const dataTable =\n",
              "            await google.colab.kernel.invokeFunction('convertToInteractive',\n",
              "                                                     [key], {});\n",
              "          if (!dataTable) return;\n",
              "\n",
              "          const docLinkHtml = 'Like what you see? Visit the ' +\n",
              "            '<a target=\"_blank\" href=https://colab.research.google.com/notebooks/data_table.ipynb>data table notebook</a>'\n",
              "            + ' to learn more about interactive tables.';\n",
              "          element.innerHTML = '';\n",
              "          dataTable['output_type'] = 'display_data';\n",
              "          await google.colab.output.renderOutput(dataTable, element);\n",
              "          const docLink = document.createElement('div');\n",
              "          docLink.innerHTML = docLinkHtml;\n",
              "          element.appendChild(docLink);\n",
              "        }\n",
              "      </script>\n",
              "    </div>\n",
              "  </div>\n",
              "  "
            ]
          },
          "metadata": {},
          "execution_count": 28
        }
      ],
      "source": [
        "df.head()"
      ]
    },
    {
      "cell_type": "code",
      "execution_count": null,
      "metadata": {
        "id": "Ow39C3jfWkGM"
      },
      "outputs": [],
      "source": [
        "# Tokenize todo el contenido de 'title'\n",
        "all_tokens_title = []\n",
        "for t in df['tokenized_title']:\n",
        "    all_tokens_title.extend(t)"
      ]
    },
    {
      "cell_type": "code",
      "execution_count": null,
      "metadata": {
        "id": "f0AiRCb0WkGO",
        "colab": {
          "base_uri": "https://localhost:8080/"
        },
        "outputId": "9083cd67-c51d-4833-8263-485f020e8cd0"
      },
      "outputs": [
        {
          "output_type": "stream",
          "name": "stdout",
          "text": [
            "all_tokens_title = 820776\n"
          ]
        }
      ],
      "source": [
        "print(\"all_tokens_title =\",len(all_tokens_title))"
      ]
    },
    {
      "cell_type": "code",
      "execution_count": null,
      "metadata": {
        "id": "19bKvPCrWkGQ",
        "colab": {
          "base_uri": "https://localhost:8080/"
        },
        "outputId": "7d3b929b-6c04-4499-87d7-b8c9ae32fc04"
      },
      "outputs": [
        {
          "output_type": "stream",
          "name": "stdout",
          "text": [
            "Size BoW_title= 108032\n"
          ]
        }
      ],
      "source": [
        "# analisis de frecuencia en palabras de 'title'\n",
        "fdist_title = nltk.FreqDist(all_tokens_title)\n",
        "print('Size BoW_title=',len(fdist_title))\n",
        "topwordstitle = fdist_title.most_common(20)"
      ]
    },
    {
      "cell_type": "code",
      "execution_count": null,
      "metadata": {
        "id": "8CcbZumHWkGT",
        "colab": {
          "base_uri": "https://localhost:8080/",
          "height": 605
        },
        "outputId": "52d52fb8-f7ed-41a0-a26f-f4a90351326d"
      },
      "outputs": [
        {
          "output_type": "display_data",
          "data": {
            "text/plain": [
              "<Figure size 1080x720 with 1 Axes>"
            ],
            "image/png": "[encoded data removed]"
          },
          "metadata": {
            "needs_background": "light"
          }
        }
      ],
      "source": [
        "x,y = zip(*topwordstitle)\n",
        "plt.figure(figsize=(15,10))\n",
        "plt.bar(x,y)\n",
        "plt.xticks(rotation=90)\n",
        "plt.show()"
      ]
    },
    {
      "cell_type": "code",
      "execution_count": null,
      "metadata": {
        "id": "IoRYIpQaWkGX"
      },
      "outputs": [],
      "source": [
        "# analisis de frecuencia en palabras de 'content'\n",
        "all_tokens_content = []\n",
        "for t in df['tokenized_content']:\n",
        "    all_tokens_content.extend(t)"
      ]
    },
    {
      "cell_type": "code",
      "execution_count": null,
      "metadata": {
        "id": "g9Lpl1wfWkGZ",
        "colab": {
          "base_uri": "https://localhost:8080/"
        },
        "outputId": "05633804-27c0-4cb6-d0de-76f7cda1d0c0"
      },
      "outputs": [
        {
          "output_type": "stream",
          "name": "stdout",
          "text": [
            "all_tokens_content = 11458618\n"
          ]
        }
      ],
      "source": [
        "print(\"all_tokens_content =\",len(all_tokens_content))"
      ]
    },
    {
      "cell_type": "code",
      "execution_count": null,
      "metadata": {
        "id": "3xR2zzp9WkGb",
        "colab": {
          "base_uri": "https://localhost:8080/"
        },
        "outputId": "d35456e9-0baa-4458-8928-be599a7e806f"
      },
      "outputs": [
        {
          "output_type": "stream",
          "name": "stdout",
          "text": [
            "Size BoW_content= 359326\n"
          ]
        }
      ],
      "source": [
        "# analisis de frecuencia en palabras de 'content'\n",
        "fdist_content = nltk.FreqDist(all_tokens_content)\n",
        "print('Size BoW_content=',len(fdist_content))\n",
        "topwordscontent = fdist_content.most_common(20)"
      ]
    },
    {
      "cell_type": "code",
      "execution_count": null,
      "metadata": {
        "id": "iPk-KjLUWkGe",
        "colab": {
          "base_uri": "https://localhost:8080/",
          "height": 608
        },
        "outputId": "f069c7b1-c359-4de4-8579-df1b3f3792e7"
      },
      "outputs": [
        {
          "output_type": "display_data",
          "data": {
            "text/plain": [
              "<Figure size 1080x720 with 1 Axes>"
            ],
            "image/png": "[encoded data removed]"
          },
          "metadata": {
            "needs_background": "light"
          }
        }
      ],
      "source": [
        "x,y = zip(*topwordscontent)\n",
        "plt.figure(figsize=(15,10))\n",
        "plt.bar(x,y)\n",
        "plt.xticks(rotation=90)\n",
        "plt.show()"
      ]
    },
    {
      "cell_type": "code",
      "execution_count": null,
      "metadata": {
        "id": "2pa53Wo2WkGg",
        "colab": {
          "base_uri": "https://localhost:8080/"
        },
        "outputId": "c9fed822-01cf-4bc8-c0d1-8a7f9a11cd43"
      },
      "outputs": [
        {
          "output_type": "stream",
          "name": "stdout",
          "text": [
            "179\n",
            "{'wasn', 'only', 'weren', 'some', 'most', 'ma', 'couldn', 'his', 'up', 'will', 'out', 'hers', \"should've\", 'against', 'o', 'where', \"shouldn't\", 'it', 'they', 'shouldn', 'into', 'for', 'all', 'does', \"you'd\", 'above', 'further', \"she's\", 'having', \"wasn't\", 'm', 'on', 'do', 'or', \"haven't\", 'me', 'll', 'which', 'you', 'these', 'himself', 've', \"it's\", 'an', 'not', 'those', 'herself', 'any', 'yours', \"shan't\", 'a', 'who', 'such', 'is', 'd', \"couldn't\", \"you'll\", 'themselves', 'was', 'can', 'shan', \"aren't\", 'about', 'ain', 'mustn', 'isn', 'ourselves', 'between', 'just', 'both', 'more', 'with', 'why', 'theirs', 'each', \"doesn't\", 'that', \"didn't\", 'we', 'off', 'at', 'of', 'had', 'has', \"hasn't\", 'yourselves', 'have', 't', 'too', 'than', 'aren', \"mustn't\", 'our', 'wouldn', 'few', 'so', 'been', 'by', \"needn't\", 'yourself', 'don', 'while', 'needn', 'ours', 'own', 'hadn', 'what', 'did', 'here', 'same', 'i', 'because', 'itself', 'to', 'y', 'your', \"weren't\", 'myself', \"don't\", \"isn't\", \"hadn't\", 'doesn', 'are', 'and', 'after', \"won't\", 'its', 'as', 'over', \"you've\", 'once', 'until', 'through', \"mightn't\", 'him', 'be', 'am', 'the', 'hasn', 'her', \"you're\", 'from', 'were', 'during', 'should', 'haven', 'didn', 'under', 'when', \"that'll\", 'again', 'but', 'he', 'doing', 'below', 'she', 'then', 'won', 's', 'before', 'very', 'their', 'other', 'if', 'being', \"wouldn't\", 'mightn', 'now', 'nor', 'them', 'there', 'down', 'no', 'in', 'whom', 're', 'my', 'how', 'this'}\n"
          ]
        }
      ],
      "source": [
        "# stopwords en nltk\n",
        "from nltk.corpus import stopwords\n",
        " \n",
        "stop_words_nltk = set(stopwords.words('english'))\n",
        "print(len(stop_words_nltk))\n",
        "print(stop_words_nltk)"
      ]
    },
    {
      "cell_type": "code",
      "execution_count": null,
      "metadata": {
        "id": "JgIbnOvoWkGi",
        "colab": {
          "base_uri": "https://localhost:8080/",
          "height": 648
        },
        "outputId": "37bb7735-135d-43d5-ea37-8ff6ba915624"
      },
      "outputs": [
        {
          "output_type": "stream",
          "name": "stdout",
          "text": [
            "Size of new BoW title = 80375\n"
          ]
        },
        {
          "output_type": "display_data",
          "data": {
            "text/plain": [
              "<Figure size 1080x720 with 1 Axes>"
            ],
            "image/png": "[encoded data removed]"
          },
          "metadata": {
            "needs_background": "light"
          }
        }
      ],
      "source": [
        "# TOKENIZAR con nltk, \n",
        "# ELIMINAR tokens de long = 1\n",
        "# ELIMINAR caracteres que no sean alfanumericos\n",
        "# REMOVER stop words\n",
        "# graficar los 20 términos más frecuentes:\n",
        "\n",
        "# ya tokenizado en all_tokens_title o all_tokens_content\n",
        "tokens = [w.lower() for w in all_tokens_title if len(w)>1]\n",
        "tokens = [re.sub(r'[^A-Za-z0-9]+','',w) for w in tokens]\n",
        "tokens = [w for w in tokens if w not in stop_words_nltk]\n",
        "\n",
        "fdist = nltk.FreqDist(tokens)\n",
        "topwords = fdist.most_common(20)\n",
        "print('Size of new BoW title =',len(fdist))\n",
        "x,y = zip(*topwords)\n",
        "plt.figure(figsize=(15,10))\n",
        "plt.bar(x,y)\n",
        "plt.xticks(rotation=90)\n",
        "plt.show()"
      ]
    },
    {
      "cell_type": "code",
      "execution_count": null,
      "metadata": {
        "id": "rcY1AD8sWkGl",
        "colab": {
          "base_uri": "https://localhost:8080/",
          "height": 635
        },
        "outputId": "dfb08276-067c-4b38-dc3f-6db9cb81b79f"
      },
      "outputs": [
        {
          "output_type": "stream",
          "name": "stdout",
          "text": [
            "Size of new BoW title = 61444\n"
          ]
        },
        {
          "output_type": "display_data",
          "data": {
            "text/plain": [
              "<Figure size 1080x720 with 1 Axes>"
            ],
            "image/png": "[encoded data removed]"
          },
          "metadata": {
            "needs_background": "light"
          }
        }
      ],
      "source": [
        "# Stemming con NLTK\n",
        "\n",
        "from nltk.stem import PorterStemmer\n",
        "from nltk.stem import LancasterStemmer\n",
        "\n",
        "porter = PorterStemmer()\n",
        "lancaster = LancasterStemmer()\n",
        "\n",
        "#tokens = [porter.stem(w) for w in tokens]\n",
        "tokens = [lancaster.stem(w) for w in tokens]\n",
        "\n",
        "fdist = nltk.FreqDist(tokens)\n",
        "topwords = fdist.most_common(20)\n",
        "print('Size of new BoW title =',len(fdist))\n",
        "x,y = zip(*topwords)\n",
        "plt.figure(figsize=(15,10))\n",
        "plt.bar(x,y)\n",
        "plt.xticks(rotation=90)\n",
        "plt.show()"
      ]
    },
    {
      "cell_type": "code",
      "execution_count": null,
      "metadata": {
        "id": "WBA3xKgoaob4",
        "colab": {
          "base_uri": "https://localhost:8080/"
        },
        "outputId": "2825b191-ca81-4095-eaa6-27bbfd1915b8"
      },
      "outputs": [
        {
          "output_type": "stream",
          "name": "stderr",
          "text": [
            "[nltk_data] Downloading package wordnet to /root/nltk_data...\n"
          ]
        },
        {
          "output_type": "execute_result",
          "data": {
            "text/plain": [
              "True"
            ]
          },
          "metadata": {},
          "execution_count": 40
        }
      ],
      "source": [
        "import nltk\n",
        "nltk.download('wordnet')"
      ]
    },
    {
      "cell_type": "code",
      "source": [
        "from nltk.stem import WordNetLemmatizer"
      ],
      "metadata": {
        "id": "FT3YCpGEGGCi"
      },
      "execution_count": null,
      "outputs": []
    },
    {
      "cell_type": "code",
      "execution_count": null,
      "metadata": {
        "id": "H7z0Tup3WkGn"
      },
      "outputs": [],
      "source": [
        "# Lemmatization con NLTK\n",
        "\n",
        "from nltk.stem import WordNetLemmatizer\n",
        "\n",
        "wordnet_lemmatizer = WordNetLemmatizer()\n",
        "def prep_text(text):\n",
        "    tokens = nltk.word_tokenize(str(text))\n",
        "    tokens = [w.lower() for w in tokens if len(w)>1]\n",
        "    tokens = [re.sub(r'[^A-Za-z0-9]+','',w) for w in tokens]\n",
        "    tokens = [re.sub('((www.[^s]+)|(https?://[^s]+))',' ',w) for w in tokens]\n",
        "    tokens = [re.sub(r'http\\S+', '', w)for w in tokens]\n",
        "    tokens = [w for w in tokens if w not in stop_words_nltk]\n",
        "    tokens = [lancaster.stem(w) for w in tokens]\n",
        "    tokens = [wordnet_lemmatizer.lemmatize(w) for w in tokens]"
      ]
    },
    {
      "cell_type": "code",
      "execution_count": null,
      "metadata": {
        "id": "DGJ2yR85WkGs"
      },
      "outputs": [],
      "source": []
    }
  ],
  "metadata": {
    "colab": {
      "provenance": [],
      "include_colab_link": true
    },
    "kernelspec": {
      "display_name": "Python 3.10.6 64-bit",
      "language": "python",
      "name": "python3"
    },
    "language_info": {
      "codemirror_mode": {
        "name": "ipython",
        "version": 3
      },
      "file_extension": ".py",
      "mimetype": "text/x-python",
      "name": "python",
      "nbconvert_exporter": "python",
      "pygments_lexer": "ipython3",
      "version": "3.10.6"
    },
    "vscode": {
      "interpreter": {
        "hash": "aee8b7b246df8f9039afb4144a1f6fd8d2ca17a180786b69acc140d282b71a49"
      }
    }
  },
  "nbformat": 4,
  "nbformat_minor": 0
}