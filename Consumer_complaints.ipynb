{
  "cells": [
    {
      "cell_type": "markdown",
      "metadata": {
        "id": "view-in-github",
        "colab_type": "text"
      },
      "source": [
        "<a href=\"https://colab.research.google.com/github/amontoy6/Entrega-Notebooks-Lab-2-y-3/blob/main/Consumer_complaints.ipynb\" target=\"_parent\"><img src=\"https://colab.research.google.com/assets/colab-badge.svg\" alt=\"Open In Colab\"/></a>"
      ]
    },
    {
      "cell_type": "code",
      "execution_count": null,
      "metadata": {
        "id": "yxqu8AVmtBa2"
      },
      "outputs": [],
      "source": [
        "#analisis de sentimientos en reclamaciones:\n",
        "# datasets download: https://files.consumerfinance.gov/ccdb/complaints.csv.zip"
      ]
    },
    {
      "cell_type": "code",
      "execution_count": null,
      "metadata": {
        "colab": {
          "base_uri": "https://localhost:8080/"
        },
        "id": "KrwXfYdvtBa4",
        "outputId": "c5cfd488-0676-46d1-acef-35e2d526cd47"
      },
      "outputs": [
        {
          "output_type": "stream",
          "name": "stdout",
          "text": [
            "Mounted at /content/gdrive\n"
          ]
        }
      ],
      "source": [
        "#configuración en google colab de spark y pyspark\n",
        "from google.colab import drive\n",
        "drive.mount('/content/gdrive')"
      ]
    },
    {
      "cell_type": "code",
      "execution_count": null,
      "metadata": {
        "colab": {
          "base_uri": "https://localhost:8080/"
        },
        "id": "7MD2Jh66tBa5",
        "outputId": "1937b573-f58b-4358-e5a7-042c5321900a"
      },
      "outputs": [
        {
          "output_type": "execute_result",
          "data": {
            "text/plain": [
              "['Archive:  complaints.csv.zip', '  inflating: complaints.csv          ']"
            ]
          },
          "metadata": {},
          "execution_count": 2
        }
      ],
      "source": [
        "!wget -q https://files.consumerfinance.gov/ccdb/complaints.csv.zip\n",
        "!!unzip complaints.csv.zip"
      ]
    },
    {
      "cell_type": "code",
      "execution_count": null,
      "metadata": {
        "colab": {
          "base_uri": "https://localhost:8080/",
          "height": 722
        },
        "id": "7olUj5ANtBa5",
        "outputId": "891f029e-8e1e-48a1-8ff2-3e8713b00fb2"
      },
      "outputs": [
        {
          "output_type": "stream",
          "name": "stderr",
          "text": [
            "<ipython-input-3-11ed8a2b87ea>:3: DtypeWarning: Columns (9) have mixed types. Specify dtype option on import or set low_memory=False.\n",
            "  df = pd.read_csv('complaints.csv')\n"
          ]
        },
        {
          "output_type": "execute_result",
          "data": {
            "text/plain": [
              "    Date received                                            Product  \\\n",
              "45     2020-10-28                                    Debt collection   \n",
              "90     2020-10-29                                    Debt collection   \n",
              "124    2020-07-27  Money transfer, virtual currency, or money ser...   \n",
              "127    2020-10-31                                           Mortgage   \n",
              "129    2020-10-31                                    Debt collection   \n",
              "\n",
              "                    Sub-product  \\\n",
              "45                I do not know   \n",
              "90                 Medical debt   \n",
              "124    Mobile or digital wallet   \n",
              "127  Conventional home mortgage   \n",
              "129            Credit card debt   \n",
              "\n",
              "                                                 Issue  \\\n",
              "45                               Communication tactics   \n",
              "90                   Attempts to collect debt not owed   \n",
              "124                           Unexpected or other fees   \n",
              "127  Applying for a mortgage or refinancing an exis...   \n",
              "129                  Attempts to collect debt not owed   \n",
              "\n",
              "                             Sub-issue  \\\n",
              "45          Frequent or repeated calls   \n",
              "90                   Debt is not yours   \n",
              "124                                NaN   \n",
              "127                                NaN   \n",
              "129  Debt was result of identity theft   \n",
              "\n",
              "                          Consumer complaint narrative  \\\n",
              "45                                      STOP ALL CALLS   \n",
              "90   Original creditor : XXXX XXXX XXXX XXXX  XXXX ...   \n",
              "124  On XX/XX/2020, I sold a bike using XXXX XXXX. ...   \n",
              "127  This year we decided to research home loan ref...   \n",
              "129  Debt Validation and Complaint against Discover...   \n",
              "\n",
              "    Company public response                          Company State ZIP code  \\\n",
              "45                      NaN                Lending Club Corp    FL  33309.0   \n",
              "90                      NaN  Dynamic Recovery Solutions, LLC    NJ   8322.0   \n",
              "124                     NaN             Paypal Holdings, Inc    TX  76137.0   \n",
              "127                     NaN             JPMORGAN CHASE & CO.    CA  92506.0   \n",
              "129                     NaN                    DISCOVER BANK    IL  60601.0   \n",
              "\n",
              "              Tags Consumer consent provided? Submitted via  \\\n",
              "45             NaN           Consent provided           Web   \n",
              "90             NaN           Consent provided           Web   \n",
              "124            NaN           Consent provided           Web   \n",
              "127            NaN           Consent provided           Web   \n",
              "129  Servicemember           Consent provided           Web   \n",
              "\n",
              "    Date sent to company     Company response to consumer Timely response?  \\\n",
              "45            2020-10-28  Closed with non-monetary relief               No   \n",
              "90            2020-10-29  Closed with non-monetary relief              Yes   \n",
              "124           2020-07-27  Closed with non-monetary relief              Yes   \n",
              "127           2020-10-31      Closed with monetary relief              Yes   \n",
              "129           2020-10-31  Closed with non-monetary relief              Yes   \n",
              "\n",
              "    Consumer disputed?  Complaint ID  \n",
              "45                 NaN       4485088  \n",
              "90                 NaN       4496460  \n",
              "124                NaN       5018142  \n",
              "127                NaN       4499046  \n",
              "129                NaN       4499231  "
            ],
            "text/html": [
              "\n",
              "  <div id=\"df-4fa04ca8-54b1-4b15-9f16-1094b2c8731c\">\n",
              "    <div class=\"colab-df-container\">\n",
              "      <div>\n",
              "<style scoped>\n",
              "    .dataframe tbody tr th:only-of-type {\n",
              "        vertical-align: middle;\n",
              "    }\n",
              "\n",
              "    .dataframe tbody tr th {\n",
              "        vertical-align: top;\n",
              "    }\n",
              "\n",
              "    .dataframe thead th {\n",
              "        text-align: right;\n",
              "    }\n",
              "</style>\n",
              "<table border=\"1\" class=\"dataframe\">\n",
              "  <thead>\n",
              "    <tr style=\"text-align: right;\">\n",
              "      <th></th>\n",
              "      <th>Date received</th>\n",
              "      <th>Product</th>\n",
              "      <th>Sub-product</th>\n",
              "      <th>Issue</th>\n",
              "      <th>Sub-issue</th>\n",
              "      <th>Consumer complaint narrative</th>\n",
              "      <th>Company public response</th>\n",
              "      <th>Company</th>\n",
              "      <th>State</th>\n",
              "      <th>ZIP code</th>\n",
              "      <th>Tags</th>\n",
              "      <th>Consumer consent provided?</th>\n",
              "      <th>Submitted via</th>\n",
              "      <th>Date sent to company</th>\n",
              "      <th>Company response to consumer</th>\n",
              "      <th>Timely response?</th>\n",
              "      <th>Consumer disputed?</th>\n",
              "      <th>Complaint ID</th>\n",
              "    </tr>\n",
              "  </thead>\n",
              "  <tbody>\n",
              "    <tr>\n",
              "      <th>45</th>\n",
              "      <td>2020-10-28</td>\n",
              "      <td>Debt collection</td>\n",
              "      <td>I do not know</td>\n",
              "      <td>Communication tactics</td>\n",
              "      <td>Frequent or repeated calls</td>\n",
              "      <td>STOP ALL CALLS</td>\n",
              "      <td>NaN</td>\n",
              "      <td>Lending Club Corp</td>\n",
              "      <td>FL</td>\n",
              "      <td>33309.0</td>\n",
              "      <td>NaN</td>\n",
              "      <td>Consent provided</td>\n",
              "      <td>Web</td>\n",
              "      <td>2020-10-28</td>\n",
              "      <td>Closed with non-monetary relief</td>\n",
              "      <td>No</td>\n",
              "      <td>NaN</td>\n",
              "      <td>4485088</td>\n",
              "    </tr>\n",
              "    <tr>\n",
              "      <th>90</th>\n",
              "      <td>2020-10-29</td>\n",
              "      <td>Debt collection</td>\n",
              "      <td>Medical debt</td>\n",
              "      <td>Attempts to collect debt not owed</td>\n",
              "      <td>Debt is not yours</td>\n",
              "      <td>Original creditor : XXXX XXXX XXXX XXXX  XXXX ...</td>\n",
              "      <td>NaN</td>\n",
              "      <td>Dynamic Recovery Solutions, LLC</td>\n",
              "      <td>NJ</td>\n",
              "      <td>8322.0</td>\n",
              "      <td>NaN</td>\n",
              "      <td>Consent provided</td>\n",
              "      <td>Web</td>\n",
              "      <td>2020-10-29</td>\n",
              "      <td>Closed with non-monetary relief</td>\n",
              "      <td>Yes</td>\n",
              "      <td>NaN</td>\n",
              "      <td>4496460</td>\n",
              "    </tr>\n",
              "    <tr>\n",
              "      <th>124</th>\n",
              "      <td>2020-07-27</td>\n",
              "      <td>Money transfer, virtual currency, or money ser...</td>\n",
              "      <td>Mobile or digital wallet</td>\n",
              "      <td>Unexpected or other fees</td>\n",
              "      <td>NaN</td>\n",
              "      <td>On XX/XX/2020, I sold a bike using XXXX XXXX. ...</td>\n",
              "      <td>NaN</td>\n",
              "      <td>Paypal Holdings, Inc</td>\n",
              "      <td>TX</td>\n",
              "      <td>76137.0</td>\n",
              "      <td>NaN</td>\n",
              "      <td>Consent provided</td>\n",
              "      <td>Web</td>\n",
              "      <td>2020-07-27</td>\n",
              "      <td>Closed with non-monetary relief</td>\n",
              "      <td>Yes</td>\n",
              "      <td>NaN</td>\n",
              "      <td>5018142</td>\n",
              "    </tr>\n",
              "    <tr>\n",
              "      <th>127</th>\n",
              "      <td>2020-10-31</td>\n",
              "      <td>Mortgage</td>\n",
              "      <td>Conventional home mortgage</td>\n",
              "      <td>Applying for a mortgage or refinancing an exis...</td>\n",
              "      <td>NaN</td>\n",
              "      <td>This year we decided to research home loan ref...</td>\n",
              "      <td>NaN</td>\n",
              "      <td>JPMORGAN CHASE &amp; CO.</td>\n",
              "      <td>CA</td>\n",
              "      <td>92506.0</td>\n",
              "      <td>NaN</td>\n",
              "      <td>Consent provided</td>\n",
              "      <td>Web</td>\n",
              "      <td>2020-10-31</td>\n",
              "      <td>Closed with monetary relief</td>\n",
              "      <td>Yes</td>\n",
              "      <td>NaN</td>\n",
              "      <td>4499046</td>\n",
              "    </tr>\n",
              "    <tr>\n",
              "      <th>129</th>\n",
              "      <td>2020-10-31</td>\n",
              "      <td>Debt collection</td>\n",
              "      <td>Credit card debt</td>\n",
              "      <td>Attempts to collect debt not owed</td>\n",
              "      <td>Debt was result of identity theft</td>\n",
              "      <td>Debt Validation and Complaint against Discover...</td>\n",
              "      <td>NaN</td>\n",
              "      <td>DISCOVER BANK</td>\n",
              "      <td>IL</td>\n",
              "      <td>60601.0</td>\n",
              "      <td>Servicemember</td>\n",
              "      <td>Consent provided</td>\n",
              "      <td>Web</td>\n",
              "      <td>2020-10-31</td>\n",
              "      <td>Closed with non-monetary relief</td>\n",
              "      <td>Yes</td>\n",
              "      <td>NaN</td>\n",
              "      <td>4499231</td>\n",
              "    </tr>\n",
              "  </tbody>\n",
              "</table>\n",
              "</div>\n",
              "      <button class=\"colab-df-convert\" onclick=\"convertToInteractive('df-4fa04ca8-54b1-4b15-9f16-1094b2c8731c')\"\n",
              "              title=\"Convert this dataframe to an interactive table.\"\n",
              "              style=\"display:none;\">\n",
              "        \n",
              "  <svg xmlns=\"http://www.w3.org/2000/svg\" height=\"24px\"viewBox=\"0 0 24 24\"\n",
              "       width=\"24px\">\n",
              "    <path d=\"M0 0h24v24H0V0z\" fill=\"none\"/>\n",
              "    <path d=\"M18.56 5.44l.94 2.06.94-2.06 2.06-.94-2.06-.94-.94-2.06-.94 2.06-2.06.94zm-11 1L8.5 8.5l.94-2.06 2.06-.94-2.06-.94L8.5 2.5l-.94 2.06-2.06.94zm10 10l.94 2.06.94-2.06 2.06-.94-2.06-.94-.94-2.06-.94 2.06-2.06.94z\"/><path d=\"M17.41 7.96l-1.37-1.37c-.4-.4-.92-.59-1.43-.59-.52 0-1.04.2-1.43.59L10.3 9.45l-7.72 7.72c-.78.78-.78 2.05 0 2.83L4 21.41c.39.39.9.59 1.41.59.51 0 1.02-.2 1.41-.59l7.78-7.78 2.81-2.81c.8-.78.8-2.07 0-2.86zM5.41 20L4 18.59l7.72-7.72 1.47 1.35L5.41 20z\"/>\n",
              "  </svg>\n",
              "      </button>\n",
              "      \n",
              "  <style>\n",
              "    .colab-df-container {\n",
              "      display:flex;\n",
              "      flex-wrap:wrap;\n",
              "      gap: 12px;\n",
              "    }\n",
              "\n",
              "    .colab-df-convert {\n",
              "      background-color: #E8F0FE;\n",
              "      border: none;\n",
              "      border-radius: 50%;\n",
              "      cursor: pointer;\n",
              "      display: none;\n",
              "      fill: #1967D2;\n",
              "      height: 32px;\n",
              "      padding: 0 0 0 0;\n",
              "      width: 32px;\n",
              "    }\n",
              "\n",
              "    .colab-df-convert:hover {\n",
              "      background-color: #E2EBFA;\n",
              "      box-shadow: 0px 1px 2px rgba(60, 64, 67, 0.3), 0px 1px 3px 1px rgba(60, 64, 67, 0.15);\n",
              "      fill: #174EA6;\n",
              "    }\n",
              "\n",
              "    [theme=dark] .colab-df-convert {\n",
              "      background-color: #3B4455;\n",
              "      fill: #D2E3FC;\n",
              "    }\n",
              "\n",
              "    [theme=dark] .colab-df-convert:hover {\n",
              "      background-color: #434B5C;\n",
              "      box-shadow: 0px 1px 3px 1px rgba(0, 0, 0, 0.15);\n",
              "      filter: drop-shadow(0px 1px 2px rgba(0, 0, 0, 0.3));\n",
              "      fill: #FFFFFF;\n",
              "    }\n",
              "  </style>\n",
              "\n",
              "      <script>\n",
              "        const buttonEl =\n",
              "          document.querySelector('#df-4fa04ca8-54b1-4b15-9f16-1094b2c8731c button.colab-df-convert');\n",
              "        buttonEl.style.display =\n",
              "          google.colab.kernel.accessAllowed ? 'block' : 'none';\n",
              "\n",
              "        async function convertToInteractive(key) {\n",
              "          const element = document.querySelector('#df-4fa04ca8-54b1-4b15-9f16-1094b2c8731c');\n",
              "          const dataTable =\n",
              "            await google.colab.kernel.invokeFunction('convertToInteractive',\n",
              "                                                     [key], {});\n",
              "          if (!dataTable) return;\n",
              "\n",
              "          const docLinkHtml = 'Like what you see? Visit the ' +\n",
              "            '<a target=\"_blank\" href=https://colab.research.google.com/notebooks/data_table.ipynb>data table notebook</a>'\n",
              "            + ' to learn more about interactive tables.';\n",
              "          element.innerHTML = '';\n",
              "          dataTable['output_type'] = 'display_data';\n",
              "          await google.colab.output.renderOutput(dataTable, element);\n",
              "          const docLink = document.createElement('div');\n",
              "          docLink.innerHTML = docLinkHtml;\n",
              "          element.appendChild(docLink);\n",
              "        }\n",
              "      </script>\n",
              "    </div>\n",
              "  </div>\n",
              "  "
            ]
          },
          "metadata": {},
          "execution_count": 3
        }
      ],
      "source": [
        "#exploración de datos:\n",
        "import pandas as pd\n",
        "df = pd.read_csv('complaints.csv')\n",
        "df = df[pd.notnull(df['Consumer complaint narrative'])]\n",
        "df.head()"
      ]
    },
    {
      "cell_type": "code",
      "execution_count": null,
      "metadata": {
        "colab": {
          "base_uri": "https://localhost:8080/"
        },
        "id": "9QEja1MKtBa5",
        "outputId": "3c144620-3983-4ff3-df39-0a135c50a84b"
      },
      "outputs": [
        {
          "output_type": "execute_result",
          "data": {
            "text/plain": [
              "Date received                   976684\n",
              "Product                         976684\n",
              "Sub-product                     924512\n",
              "Issue                           976684\n",
              "Sub-issue                       793300\n",
              "Consumer complaint narrative    976684\n",
              "Company public response         458995\n",
              "Company                         976684\n",
              "State                           968754\n",
              "ZIP code                        968488\n",
              "Tags                            148813\n",
              "Consumer consent provided?      976684\n",
              "Submitted via                   976684\n",
              "Date sent to company            976684\n",
              "Company response to consumer    976683\n",
              "Timely response?                976684\n",
              "Consumer disputed?              164062\n",
              "Complaint ID                    976684\n",
              "dtype: int64"
            ]
          },
          "metadata": {},
          "execution_count": 4
        }
      ],
      "source": [
        "df.count()"
      ]
    },
    {
      "cell_type": "code",
      "execution_count": null,
      "metadata": {
        "colab": {
          "base_uri": "https://localhost:8080/",
          "height": 206
        },
        "id": "rTLuKPFItBa6",
        "outputId": "8f9fef04-0256-4e32-8cea-057ec623c0f4"
      },
      "outputs": [
        {
          "output_type": "execute_result",
          "data": {
            "text/plain": [
              "                                               Product  \\\n",
              "45                                     Debt collection   \n",
              "90                                     Debt collection   \n",
              "124  Money transfer, virtual currency, or money ser...   \n",
              "127                                           Mortgage   \n",
              "129                                    Debt collection   \n",
              "\n",
              "                          Consumer_complaint_narrative  category_id  \n",
              "45                                      STOP ALL CALLS            0  \n",
              "90   Original creditor : XXXX XXXX XXXX XXXX  XXXX ...            0  \n",
              "124  On XX/XX/2020, I sold a bike using XXXX XXXX. ...            1  \n",
              "127  This year we decided to research home loan ref...            2  \n",
              "129  Debt Validation and Complaint against Discover...            0  "
            ],
            "text/html": [
              "\n",
              "  <div id=\"df-b9d5f8cf-125e-4ec7-84d7-0af852837138\">\n",
              "    <div class=\"colab-df-container\">\n",
              "      <div>\n",
              "<style scoped>\n",
              "    .dataframe tbody tr th:only-of-type {\n",
              "        vertical-align: middle;\n",
              "    }\n",
              "\n",
              "    .dataframe tbody tr th {\n",
              "        vertical-align: top;\n",
              "    }\n",
              "\n",
              "    .dataframe thead th {\n",
              "        text-align: right;\n",
              "    }\n",
              "</style>\n",
              "<table border=\"1\" class=\"dataframe\">\n",
              "  <thead>\n",
              "    <tr style=\"text-align: right;\">\n",
              "      <th></th>\n",
              "      <th>Product</th>\n",
              "      <th>Consumer_complaint_narrative</th>\n",
              "      <th>category_id</th>\n",
              "    </tr>\n",
              "  </thead>\n",
              "  <tbody>\n",
              "    <tr>\n",
              "      <th>45</th>\n",
              "      <td>Debt collection</td>\n",
              "      <td>STOP ALL CALLS</td>\n",
              "      <td>0</td>\n",
              "    </tr>\n",
              "    <tr>\n",
              "      <th>90</th>\n",
              "      <td>Debt collection</td>\n",
              "      <td>Original creditor : XXXX XXXX XXXX XXXX  XXXX ...</td>\n",
              "      <td>0</td>\n",
              "    </tr>\n",
              "    <tr>\n",
              "      <th>124</th>\n",
              "      <td>Money transfer, virtual currency, or money ser...</td>\n",
              "      <td>On XX/XX/2020, I sold a bike using XXXX XXXX. ...</td>\n",
              "      <td>1</td>\n",
              "    </tr>\n",
              "    <tr>\n",
              "      <th>127</th>\n",
              "      <td>Mortgage</td>\n",
              "      <td>This year we decided to research home loan ref...</td>\n",
              "      <td>2</td>\n",
              "    </tr>\n",
              "    <tr>\n",
              "      <th>129</th>\n",
              "      <td>Debt collection</td>\n",
              "      <td>Debt Validation and Complaint against Discover...</td>\n",
              "      <td>0</td>\n",
              "    </tr>\n",
              "  </tbody>\n",
              "</table>\n",
              "</div>\n",
              "      <button class=\"colab-df-convert\" onclick=\"convertToInteractive('df-b9d5f8cf-125e-4ec7-84d7-0af852837138')\"\n",
              "              title=\"Convert this dataframe to an interactive table.\"\n",
              "              style=\"display:none;\">\n",
              "        \n",
              "  <svg xmlns=\"http://www.w3.org/2000/svg\" height=\"24px\"viewBox=\"0 0 24 24\"\n",
              "       width=\"24px\">\n",
              "    <path d=\"M0 0h24v24H0V0z\" fill=\"none\"/>\n",
              "    <path d=\"M18.56 5.44l.94 2.06.94-2.06 2.06-.94-2.06-.94-.94-2.06-.94 2.06-2.06.94zm-11 1L8.5 8.5l.94-2.06 2.06-.94-2.06-.94L8.5 2.5l-.94 2.06-2.06.94zm10 10l.94 2.06.94-2.06 2.06-.94-2.06-.94-.94-2.06-.94 2.06-2.06.94z\"/><path d=\"M17.41 7.96l-1.37-1.37c-.4-.4-.92-.59-1.43-.59-.52 0-1.04.2-1.43.59L10.3 9.45l-7.72 7.72c-.78.78-.78 2.05 0 2.83L4 21.41c.39.39.9.59 1.41.59.51 0 1.02-.2 1.41-.59l7.78-7.78 2.81-2.81c.8-.78.8-2.07 0-2.86zM5.41 20L4 18.59l7.72-7.72 1.47 1.35L5.41 20z\"/>\n",
              "  </svg>\n",
              "      </button>\n",
              "      \n",
              "  <style>\n",
              "    .colab-df-container {\n",
              "      display:flex;\n",
              "      flex-wrap:wrap;\n",
              "      gap: 12px;\n",
              "    }\n",
              "\n",
              "    .colab-df-convert {\n",
              "      background-color: #E8F0FE;\n",
              "      border: none;\n",
              "      border-radius: 50%;\n",
              "      cursor: pointer;\n",
              "      display: none;\n",
              "      fill: #1967D2;\n",
              "      height: 32px;\n",
              "      padding: 0 0 0 0;\n",
              "      width: 32px;\n",
              "    }\n",
              "\n",
              "    .colab-df-convert:hover {\n",
              "      background-color: #E2EBFA;\n",
              "      box-shadow: 0px 1px 2px rgba(60, 64, 67, 0.3), 0px 1px 3px 1px rgba(60, 64, 67, 0.15);\n",
              "      fill: #174EA6;\n",
              "    }\n",
              "\n",
              "    [theme=dark] .colab-df-convert {\n",
              "      background-color: #3B4455;\n",
              "      fill: #D2E3FC;\n",
              "    }\n",
              "\n",
              "    [theme=dark] .colab-df-convert:hover {\n",
              "      background-color: #434B5C;\n",
              "      box-shadow: 0px 1px 3px 1px rgba(0, 0, 0, 0.15);\n",
              "      filter: drop-shadow(0px 1px 2px rgba(0, 0, 0, 0.3));\n",
              "      fill: #FFFFFF;\n",
              "    }\n",
              "  </style>\n",
              "\n",
              "      <script>\n",
              "        const buttonEl =\n",
              "          document.querySelector('#df-b9d5f8cf-125e-4ec7-84d7-0af852837138 button.colab-df-convert');\n",
              "        buttonEl.style.display =\n",
              "          google.colab.kernel.accessAllowed ? 'block' : 'none';\n",
              "\n",
              "        async function convertToInteractive(key) {\n",
              "          const element = document.querySelector('#df-b9d5f8cf-125e-4ec7-84d7-0af852837138');\n",
              "          const dataTable =\n",
              "            await google.colab.kernel.invokeFunction('convertToInteractive',\n",
              "                                                     [key], {});\n",
              "          if (!dataTable) return;\n",
              "\n",
              "          const docLinkHtml = 'Like what you see? Visit the ' +\n",
              "            '<a target=\"_blank\" href=https://colab.research.google.com/notebooks/data_table.ipynb>data table notebook</a>'\n",
              "            + ' to learn more about interactive tables.';\n",
              "          element.innerHTML = '';\n",
              "          dataTable['output_type'] = 'display_data';\n",
              "          await google.colab.output.renderOutput(dataTable, element);\n",
              "          const docLink = document.createElement('div');\n",
              "          docLink.innerHTML = docLinkHtml;\n",
              "          element.appendChild(docLink);\n",
              "        }\n",
              "      </script>\n",
              "    </div>\n",
              "  </div>\n",
              "  "
            ]
          },
          "metadata": {},
          "execution_count": 5
        }
      ],
      "source": [
        "from io import StringIO\n",
        "col = ['Product', 'Consumer complaint narrative']\n",
        "df = df[col]\n",
        "df = df[pd.notnull(df['Consumer complaint narrative'])]\n",
        "df.columns = ['Product', 'Consumer_complaint_narrative']\n",
        "df['category_id'] = df['Product'].factorize()[0]\n",
        "category_id_df = df[['Product', 'category_id']].drop_duplicates().sort_values('category_id')\n",
        "category_to_id = dict(category_id_df.values)\n",
        "id_to_category = dict(category_id_df[['category_id', 'Product']].values)\n",
        "df.head()"
      ]
    },
    {
      "cell_type": "code",
      "execution_count": null,
      "metadata": {
        "id": "VKXfLkGrtBa6"
      },
      "outputs": [],
      "source": [
        "df = df.head(1000)"
      ]
    },
    {
      "cell_type": "code",
      "execution_count": null,
      "metadata": {
        "colab": {
          "base_uri": "https://localhost:8080/",
          "height": 424
        },
        "id": "esxRO64RtBa6",
        "outputId": "eaba8207-386b-4717-a56f-3ab170556126"
      },
      "outputs": [
        {
          "output_type": "execute_result",
          "data": {
            "text/plain": [
              "                                                Product  \\\n",
              "45                                      Debt collection   \n",
              "90                                      Debt collection   \n",
              "124   Money transfer, virtual currency, or money ser...   \n",
              "127                                            Mortgage   \n",
              "129                                     Debt collection   \n",
              "...                                                 ...   \n",
              "7763                        Credit card or prepaid card   \n",
              "7772                                    Debt collection   \n",
              "7776  Credit reporting, credit repair services, or o...   \n",
              "7778                                    Debt collection   \n",
              "7780  Credit reporting, credit repair services, or o...   \n",
              "\n",
              "                           Consumer_complaint_narrative  category_id  \n",
              "45                                       STOP ALL CALLS            0  \n",
              "90    Original creditor : XXXX XXXX XXXX XXXX  XXXX ...            0  \n",
              "124   On XX/XX/2020, I sold a bike using XXXX XXXX. ...            1  \n",
              "127   This year we decided to research home loan ref...            2  \n",
              "129   Debt Validation and Complaint against Discover...            0  \n",
              "...                                                 ...          ...  \n",
              "7763  Chase credit card opened and used without my k...            3  \n",
              "7772  Pinnacle Credit Service is attempting to colle...            0  \n",
              "7776  Trans Union, XXXX and XXXX  are ignoring my re...            4  \n",
              "7778  There is a medical Debit on my credit that i h...            0  \n",
              "7780  During a time of XXXX BBva compass allowed som...            4  \n",
              "\n",
              "[1000 rows x 3 columns]"
            ],
            "text/html": [
              "\n",
              "  <div id=\"df-6150cf2b-1615-4b9d-91a4-5c51d97dc239\">\n",
              "    <div class=\"colab-df-container\">\n",
              "      <div>\n",
              "<style scoped>\n",
              "    .dataframe tbody tr th:only-of-type {\n",
              "        vertical-align: middle;\n",
              "    }\n",
              "\n",
              "    .dataframe tbody tr th {\n",
              "        vertical-align: top;\n",
              "    }\n",
              "\n",
              "    .dataframe thead th {\n",
              "        text-align: right;\n",
              "    }\n",
              "</style>\n",
              "<table border=\"1\" class=\"dataframe\">\n",
              "  <thead>\n",
              "    <tr style=\"text-align: right;\">\n",
              "      <th></th>\n",
              "      <th>Product</th>\n",
              "      <th>Consumer_complaint_narrative</th>\n",
              "      <th>category_id</th>\n",
              "    </tr>\n",
              "  </thead>\n",
              "  <tbody>\n",
              "    <tr>\n",
              "      <th>45</th>\n",
              "      <td>Debt collection</td>\n",
              "      <td>STOP ALL CALLS</td>\n",
              "      <td>0</td>\n",
              "    </tr>\n",
              "    <tr>\n",
              "      <th>90</th>\n",
              "      <td>Debt collection</td>\n",
              "      <td>Original creditor : XXXX XXXX XXXX XXXX  XXXX ...</td>\n",
              "      <td>0</td>\n",
              "    </tr>\n",
              "    <tr>\n",
              "      <th>124</th>\n",
              "      <td>Money transfer, virtual currency, or money ser...</td>\n",
              "      <td>On XX/XX/2020, I sold a bike using XXXX XXXX. ...</td>\n",
              "      <td>1</td>\n",
              "    </tr>\n",
              "    <tr>\n",
              "      <th>127</th>\n",
              "      <td>Mortgage</td>\n",
              "      <td>This year we decided to research home loan ref...</td>\n",
              "      <td>2</td>\n",
              "    </tr>\n",
              "    <tr>\n",
              "      <th>129</th>\n",
              "      <td>Debt collection</td>\n",
              "      <td>Debt Validation and Complaint against Discover...</td>\n",
              "      <td>0</td>\n",
              "    </tr>\n",
              "    <tr>\n",
              "      <th>...</th>\n",
              "      <td>...</td>\n",
              "      <td>...</td>\n",
              "      <td>...</td>\n",
              "    </tr>\n",
              "    <tr>\n",
              "      <th>7763</th>\n",
              "      <td>Credit card or prepaid card</td>\n",
              "      <td>Chase credit card opened and used without my k...</td>\n",
              "      <td>3</td>\n",
              "    </tr>\n",
              "    <tr>\n",
              "      <th>7772</th>\n",
              "      <td>Debt collection</td>\n",
              "      <td>Pinnacle Credit Service is attempting to colle...</td>\n",
              "      <td>0</td>\n",
              "    </tr>\n",
              "    <tr>\n",
              "      <th>7776</th>\n",
              "      <td>Credit reporting, credit repair services, or o...</td>\n",
              "      <td>Trans Union, XXXX and XXXX  are ignoring my re...</td>\n",
              "      <td>4</td>\n",
              "    </tr>\n",
              "    <tr>\n",
              "      <th>7778</th>\n",
              "      <td>Debt collection</td>\n",
              "      <td>There is a medical Debit on my credit that i h...</td>\n",
              "      <td>0</td>\n",
              "    </tr>\n",
              "    <tr>\n",
              "      <th>7780</th>\n",
              "      <td>Credit reporting, credit repair services, or o...</td>\n",
              "      <td>During a time of XXXX BBva compass allowed som...</td>\n",
              "      <td>4</td>\n",
              "    </tr>\n",
              "  </tbody>\n",
              "</table>\n",
              "<p>1000 rows × 3 columns</p>\n",
              "</div>\n",
              "      <button class=\"colab-df-convert\" onclick=\"convertToInteractive('df-6150cf2b-1615-4b9d-91a4-5c51d97dc239')\"\n",
              "              title=\"Convert this dataframe to an interactive table.\"\n",
              "              style=\"display:none;\">\n",
              "        \n",
              "  <svg xmlns=\"http://www.w3.org/2000/svg\" height=\"24px\"viewBox=\"0 0 24 24\"\n",
              "       width=\"24px\">\n",
              "    <path d=\"M0 0h24v24H0V0z\" fill=\"none\"/>\n",
              "    <path d=\"M18.56 5.44l.94 2.06.94-2.06 2.06-.94-2.06-.94-.94-2.06-.94 2.06-2.06.94zm-11 1L8.5 8.5l.94-2.06 2.06-.94-2.06-.94L8.5 2.5l-.94 2.06-2.06.94zm10 10l.94 2.06.94-2.06 2.06-.94-2.06-.94-.94-2.06-.94 2.06-2.06.94z\"/><path d=\"M17.41 7.96l-1.37-1.37c-.4-.4-.92-.59-1.43-.59-.52 0-1.04.2-1.43.59L10.3 9.45l-7.72 7.72c-.78.78-.78 2.05 0 2.83L4 21.41c.39.39.9.59 1.41.59.51 0 1.02-.2 1.41-.59l7.78-7.78 2.81-2.81c.8-.78.8-2.07 0-2.86zM5.41 20L4 18.59l7.72-7.72 1.47 1.35L5.41 20z\"/>\n",
              "  </svg>\n",
              "      </button>\n",
              "      \n",
              "  <style>\n",
              "    .colab-df-container {\n",
              "      display:flex;\n",
              "      flex-wrap:wrap;\n",
              "      gap: 12px;\n",
              "    }\n",
              "\n",
              "    .colab-df-convert {\n",
              "      background-color: #E8F0FE;\n",
              "      border: none;\n",
              "      border-radius: 50%;\n",
              "      cursor: pointer;\n",
              "      display: none;\n",
              "      fill: #1967D2;\n",
              "      height: 32px;\n",
              "      padding: 0 0 0 0;\n",
              "      width: 32px;\n",
              "    }\n",
              "\n",
              "    .colab-df-convert:hover {\n",
              "      background-color: #E2EBFA;\n",
              "      box-shadow: 0px 1px 2px rgba(60, 64, 67, 0.3), 0px 1px 3px 1px rgba(60, 64, 67, 0.15);\n",
              "      fill: #174EA6;\n",
              "    }\n",
              "\n",
              "    [theme=dark] .colab-df-convert {\n",
              "      background-color: #3B4455;\n",
              "      fill: #D2E3FC;\n",
              "    }\n",
              "\n",
              "    [theme=dark] .colab-df-convert:hover {\n",
              "      background-color: #434B5C;\n",
              "      box-shadow: 0px 1px 3px 1px rgba(0, 0, 0, 0.15);\n",
              "      filter: drop-shadow(0px 1px 2px rgba(0, 0, 0, 0.3));\n",
              "      fill: #FFFFFF;\n",
              "    }\n",
              "  </style>\n",
              "\n",
              "      <script>\n",
              "        const buttonEl =\n",
              "          document.querySelector('#df-6150cf2b-1615-4b9d-91a4-5c51d97dc239 button.colab-df-convert');\n",
              "        buttonEl.style.display =\n",
              "          google.colab.kernel.accessAllowed ? 'block' : 'none';\n",
              "\n",
              "        async function convertToInteractive(key) {\n",
              "          const element = document.querySelector('#df-6150cf2b-1615-4b9d-91a4-5c51d97dc239');\n",
              "          const dataTable =\n",
              "            await google.colab.kernel.invokeFunction('convertToInteractive',\n",
              "                                                     [key], {});\n",
              "          if (!dataTable) return;\n",
              "\n",
              "          const docLinkHtml = 'Like what you see? Visit the ' +\n",
              "            '<a target=\"_blank\" href=https://colab.research.google.com/notebooks/data_table.ipynb>data table notebook</a>'\n",
              "            + ' to learn more about interactive tables.';\n",
              "          element.innerHTML = '';\n",
              "          dataTable['output_type'] = 'display_data';\n",
              "          await google.colab.output.renderOutput(dataTable, element);\n",
              "          const docLink = document.createElement('div');\n",
              "          docLink.innerHTML = docLinkHtml;\n",
              "          element.appendChild(docLink);\n",
              "        }\n",
              "      </script>\n",
              "    </div>\n",
              "  </div>\n",
              "  "
            ]
          },
          "metadata": {},
          "execution_count": 7
        }
      ],
      "source": [
        "df"
      ]
    },
    {
      "cell_type": "code",
      "execution_count": null,
      "metadata": {
        "colab": {
          "base_uri": "https://localhost:8080/",
          "height": 752
        },
        "id": "IgPgaOHdtBa7",
        "outputId": "0610bfe8-a8ec-4bc5-d6ed-b5e4ffb47c77"
      },
      "outputs": [
        {
          "output_type": "display_data",
          "data": {
            "text/plain": [
              "<Figure size 576x432 with 1 Axes>"
            ],
            "image/png": "[encoded data removed]"
          },
          "metadata": {
            "needs_background": "light"
          }
        }
      ],
      "source": [
        "import matplotlib.pyplot as plt\n",
        "fig = plt.figure(figsize=(8,6))\n",
        "df.groupby('Product').Consumer_complaint_narrative.count().plot.bar(ylim=0)\n",
        "plt.show()"
      ]
    },
    {
      "cell_type": "code",
      "execution_count": null,
      "metadata": {
        "colab": {
          "base_uri": "https://localhost:8080/"
        },
        "id": "-vrOtw7JtBa7",
        "outputId": "bcf2cf1d-a259-4907-8d21-6a00f75efafe"
      },
      "outputs": [
        {
          "output_type": "execute_result",
          "data": {
            "text/plain": [
              "Product\n",
              "Checking or savings account                                                      60\n",
              "Consumer Loan                                                                     3\n",
              "Credit card or prepaid card                                                      70\n",
              "Credit reporting                                                                  1\n",
              "Credit reporting, credit repair services, or other personal consumer reports    493\n",
              "Debt collection                                                                 190\n",
              "Money transfer, virtual currency, or money service                               33\n",
              "Mortgage                                                                         90\n",
              "Payday loan                                                                       2\n",
              "Payday loan, title loan, or personal loan                                        18\n",
              "Student loan                                                                     14\n",
              "Vehicle loan or lease                                                            26\n",
              "Name: Consumer_complaint_narrative, dtype: int64"
            ]
          },
          "metadata": {},
          "execution_count": 9
        }
      ],
      "source": [
        "df.groupby('Product').Consumer_complaint_narrative.count()"
      ]
    },
    {
      "cell_type": "code",
      "execution_count": null,
      "metadata": {
        "colab": {
          "base_uri": "https://localhost:8080/"
        },
        "id": "wPLbQ058tBa8",
        "outputId": "e1abd857-aaa0-4a6a-8250-7686acfc2e6b"
      },
      "outputs": [
        {
          "output_type": "execute_result",
          "data": {
            "text/plain": [
              "(1000, 4309)"
            ]
          },
          "metadata": {},
          "execution_count": 10
        }
      ],
      "source": [
        "from sklearn.feature_extraction.text import TfidfVectorizer\n",
        "tfidf = TfidfVectorizer(sublinear_tf=True, min_df=5, norm='l2', encoding='latin-1', ngram_range=(1, 2), stop_words='english')\n",
        "features = tfidf.fit_transform(df.Consumer_complaint_narrative).toarray()\n",
        "labels = df.category_id\n",
        "features.shape"
      ]
    },
    {
      "cell_type": "code",
      "execution_count": null,
      "metadata": {
        "colab": {
          "base_uri": "https://localhost:8080/"
        },
        "id": "tpxTh7lstBa8",
        "outputId": "aee1389e-202d-4a48-e127-498afa93fb61"
      },
      "outputs": [
        {
          "output_type": "execute_result",
          "data": {
            "text/plain": [
              "array([[0.        , 0.        , 0.        , ..., 0.        , 0.        ,\n",
              "        0.        ],\n",
              "       [0.07154101, 0.        , 0.        , ..., 0.        , 0.        ,\n",
              "        0.        ],\n",
              "       [0.09146139, 0.        , 0.        , ..., 0.        , 0.        ,\n",
              "        0.        ],\n",
              "       ...,\n",
              "       [0.        , 0.        , 0.        , ..., 0.        , 0.        ,\n",
              "        0.        ],\n",
              "       [0.10741117, 0.        , 0.        , ..., 0.        , 0.        ,\n",
              "        0.        ],\n",
              "       [0.        , 0.        , 0.        , ..., 0.        , 0.        ,\n",
              "        0.        ]])"
            ]
          },
          "metadata": {},
          "execution_count": 11
        }
      ],
      "source": [
        "features"
      ]
    },
    {
      "cell_type": "code",
      "execution_count": null,
      "metadata": {
        "colab": {
          "base_uri": "https://localhost:8080/"
        },
        "id": "Rv6vEkIetBa8",
        "outputId": "a2aa71f8-7a60-4d74-a215-8405e810b749"
      },
      "outputs": [
        {
          "output_type": "stream",
          "name": "stdout",
          "text": [
            "# 'Bank account or service':\n",
            "  . Most correlated unigrams:\n",
            ". does\n",
            ". zero\n",
            "  . Most correlated bigrams:\n",
            ". documents submitted\n",
            ". document evidence\n",
            "# 'Checking or savings account':\n",
            "  . Most correlated unigrams:\n",
            ". checking\n",
            ". pnc\n",
            "  . Most correlated bigrams:\n",
            ". direct deposit\n",
            ". checking account\n",
            "# 'Consumer Loan':\n",
            "  . Most correlated unigrams:\n",
            ". ca\n",
            ". financed\n",
            "  . Most correlated bigrams:\n",
            ". credit agency\n",
            ". reported xxxx\n",
            "# 'Credit card':\n",
            "  . Most correlated unigrams:\n",
            ". does\n",
            ". zero\n",
            "  . Most correlated bigrams:\n",
            ". documents submitted\n",
            ". document evidence\n",
            "# 'Credit card or prepaid card':\n",
            "  . Most correlated unigrams:\n",
            ". express\n",
            ". card\n",
            "  . Most correlated bigrams:\n",
            ". 200 00\n",
            ". credit card\n",
            "# 'Credit reporting':\n",
            "  . Most correlated unigrams:\n",
            ". responsible\n",
            ". lease\n",
            "  . Most correlated bigrams:\n",
            ". xx xx\n",
            ". xxxx xxxx\n",
            "# 'Credit reporting, credit repair services, or other personal consumer reports':\n",
            "  . Most correlated unigrams:\n",
            ". inquiries\n",
            ". report\n",
            "  . Most correlated bigrams:\n",
            ". credit bureaus\n",
            ". credit report\n",
            "# 'Debt collection':\n",
            "  . Most correlated unigrams:\n",
            ". owe\n",
            ". debt\n",
            "  . Most correlated bigrams:\n",
            ". debt does\n",
            ". collect debt\n",
            "# 'Money transfer, virtual currency, or money service':\n",
            "  . Most correlated unigrams:\n",
            ". paypal\n",
            ". transfer\n",
            "  . Most correlated bigrams:\n",
            ". paypal account\n",
            ". transfer money\n",
            "# 'Money transfers':\n",
            "  . Most correlated unigrams:\n",
            ". does\n",
            ". zero\n",
            "  . Most correlated bigrams:\n",
            ". documents submitted\n",
            ". document evidence\n",
            "# 'Mortgage':\n",
            "  . Most correlated unigrams:\n",
            ". escrow\n",
            ". mortgage\n",
            "  . Most correlated bigrams:\n",
            ". mortgage company\n",
            ". escrow account\n",
            "# 'Other financial service':\n",
            "  . Most correlated unigrams:\n",
            ". does\n",
            ". zero\n",
            "  . Most correlated bigrams:\n",
            ". documents submitted\n",
            ". document evidence\n",
            "# 'Payday loan':\n",
            "  . Most correlated unigrams:\n",
            ". discussing\n",
            ". payday\n",
            "  . Most correlated bigrams:\n",
            ". debt credit\n",
            ". payday loan\n",
            "# 'Payday loan, title loan, or personal loan':\n",
            "  . Most correlated unigrams:\n",
            ". loan\n",
            ". lending\n",
            "  . Most correlated bigrams:\n",
            ". auto finance\n",
            ". loan company\n",
            "# 'Prepaid card':\n",
            "  . Most correlated unigrams:\n",
            ". does\n",
            ". zero\n",
            "  . Most correlated bigrams:\n",
            ". documents submitted\n",
            ". document evidence\n",
            "# 'Student loan':\n",
            "  . Most correlated unigrams:\n",
            ". student\n",
            ". school\n",
            "  . Most correlated bigrams:\n",
            ". 16000 00\n",
            ". student loans\n",
            "# 'Vehicle loan or lease':\n",
            "  . Most correlated unigrams:\n",
            ". lease\n",
            ". car\n",
            "  . Most correlated bigrams:\n",
            ". payments time\n",
            ". covid 19\n",
            "# 'Virtual currency':\n",
            "  . Most correlated unigrams:\n",
            ". does\n",
            ". zero\n",
            "  . Most correlated bigrams:\n",
            ". documents submitted\n",
            ". document evidence\n"
          ]
        }
      ],
      "source": [
        "from sklearn.feature_selection import chi2\n",
        "import numpy as np\n",
        "N = 2\n",
        "for Product, category_id in sorted(category_to_id.items()):\n",
        "  features_chi2 = chi2(features, labels == category_id)\n",
        "  indices = np.argsort(features_chi2[0])\n",
        "  feature_names = np.array(tfidf.get_feature_names_out())[indices]\n",
        "  unigrams = [v for v in feature_names if len(v.split(' ')) == 1]\n",
        "  bigrams = [v for v in feature_names if len(v.split(' ')) == 2]\n",
        "  print(\"# '{}':\".format(Product))\n",
        "  print(\"  . Most correlated unigrams:\\n. {}\".format('\\n. '.join(unigrams[-N:])))\n",
        "  print(\"  . Most correlated bigrams:\\n. {}\".format('\\n. '.join(bigrams[-N:])))"
      ]
    },
    {
      "cell_type": "code",
      "execution_count": null,
      "metadata": {
        "id": "fwn-YhIitBa9"
      },
      "outputs": [],
      "source": [
        "# Naive Bayes Classifier: the one most suitable for word counts is the multinomial variant:\n",
        "from sklearn.model_selection import train_test_split\n",
        "\n",
        "from sklearn.feature_extraction.text import CountVectorizer\n",
        "\n",
        "from sklearn.feature_extraction.text import TfidfTransformer\n",
        "\n",
        "from sklearn.naive_bayes import MultinomialNB\n",
        "\n",
        "count_vect = CountVectorizer()\n",
        "\n",
        "X_train, X_test, y_train, y_test = train_test_split(df['Consumer_complaint_narrative'], df['Product'], random_state = 0)"
      ]
    },
    {
      "cell_type": "code",
      "execution_count": null,
      "metadata": {
        "colab": {
          "base_uri": "https://localhost:8080/"
        },
        "id": "EPsw5zaltBa-",
        "outputId": "719d6ddd-d006-40c0-ae9a-720ce975250c"
      },
      "outputs": [
        {
          "output_type": "execute_result",
          "data": {
            "text/plain": [
              "750"
            ]
          },
          "metadata": {},
          "execution_count": 15
        }
      ],
      "source": [
        "X_train.count()"
      ]
    },
    {
      "cell_type": "code",
      "execution_count": null,
      "metadata": {
        "colab": {
          "base_uri": "https://localhost:8080/"
        },
        "id": "xk3OeH7VtBa-",
        "outputId": "f29aa93b-52ce-45d5-cdab-468b0686f9e0"
      },
      "outputs": [
        {
          "output_type": "execute_result",
          "data": {
            "text/plain": [
              "23532    When I investigated my credit report, I realiz...\n",
              "20013    This is my 7th endeavor to tell you that I am ...\n",
              "9583     I submitted a dispute to experian twice reques...\n",
              "15132    This is not my debt this is result of identity...\n",
              "17151    My name is XXXX XXXX this complaint is not mad...\n",
              "                               ...                        \n",
              "13177    on XX/XX/2022 I was notified, not by synchrony...\n",
              "10531    Please take a look at the attached letters and...\n",
              "1013     Im submitting a complaint to you today to info...\n",
              "13385    I did not receive a statement or other notific...\n",
              "17442    Received call from unknown number this morning...\n",
              "Name: Consumer_complaint_narrative, Length: 250, dtype: object"
            ]
          },
          "metadata": {},
          "execution_count": 16
        }
      ],
      "source": [
        "X_test"
      ]
    },
    {
      "cell_type": "code",
      "execution_count": null,
      "metadata": {
        "colab": {
          "base_uri": "https://localhost:8080/"
        },
        "id": "5Z9KSP6FtBa_",
        "outputId": "2d21c85f-61a0-43fd-ca89-96277f591248"
      },
      "outputs": [
        {
          "output_type": "execute_result",
          "data": {
            "text/plain": [
              "750"
            ]
          },
          "metadata": {},
          "execution_count": 18
        }
      ],
      "source": [
        "y_train.count()"
      ]
    },
    {
      "cell_type": "code",
      "execution_count": null,
      "metadata": {
        "colab": {
          "base_uri": "https://localhost:8080/"
        },
        "id": "ucpaZRn7tBa_",
        "outputId": "8ad91bd9-185e-4389-8043-19ac6d027d24"
      },
      "outputs": [
        {
          "output_type": "execute_result",
          "data": {
            "text/plain": [
              "250"
            ]
          },
          "metadata": {},
          "execution_count": 19
        }
      ],
      "source": [
        "y_test.count()"
      ]
    },
    {
      "cell_type": "code",
      "execution_count": null,
      "metadata": {
        "id": "Lfs4McrstBa_"
      },
      "outputs": [],
      "source": [
        "#Term Frecuency - TF\n",
        "count_vect = CountVectorizer()\n",
        "X_train_counts = count_vect.fit_transform(X_train)"
      ]
    },
    {
      "cell_type": "code",
      "execution_count": null,
      "metadata": {
        "colab": {
          "base_uri": "https://localhost:8080/"
        },
        "id": "iaU2GopptBa_",
        "outputId": "cf23f5e5-1a36-4171-b8ad-bc9693cdb3e8"
      },
      "outputs": [
        {
          "output_type": "stream",
          "name": "stdout",
          "text": [
            "  (0, 3133)\t1\n",
            "  (0, 5700)\t1\n",
            "  (0, 1462)\t1\n",
            "  (0, 5963)\t10\n",
            "  (0, 6577)\t2\n",
            "  (0, 5965)\t1\n",
            "  (0, 3245)\t1\n",
            "  (0, 6386)\t1\n",
            "  (0, 5876)\t10\n",
            "  (0, 6320)\t1\n",
            "  (0, 4136)\t5\n",
            "  (0, 3114)\t2\n",
            "  (0, 5879)\t3\n",
            "  (0, 5084)\t1\n",
            "  (0, 4162)\t2\n",
            "  (0, 3061)\t1\n",
            "  (0, 4997)\t2\n",
            "  (0, 2707)\t1\n",
            "  (0, 3420)\t3\n",
            "  (0, 3176)\t3\n",
            "  (0, 3971)\t3\n",
            "  (0, 5036)\t4\n",
            "  (0, 679)\t2\n",
            "  (0, 2696)\t1\n",
            "  (0, 5874)\t3\n",
            "  :\t:\n",
            "  (749, 843)\t1\n",
            "  (749, 2100)\t1\n",
            "  (749, 3246)\t2\n",
            "  (749, 3406)\t1\n",
            "  (749, 798)\t1\n",
            "  (749, 430)\t1\n",
            "  (749, 3425)\t1\n",
            "  (749, 2939)\t1\n",
            "  (749, 5913)\t2\n",
            "  (749, 6515)\t1\n",
            "  (749, 5397)\t1\n",
            "  (749, 3982)\t2\n",
            "  (749, 4998)\t1\n",
            "  (749, 3591)\t1\n",
            "  (749, 986)\t1\n",
            "  (749, 2433)\t1\n",
            "  (749, 437)\t1\n",
            "  (749, 5142)\t1\n",
            "  (749, 4393)\t1\n",
            "  (749, 3209)\t3\n",
            "  (749, 5038)\t2\n",
            "  (749, 1439)\t1\n",
            "  (749, 3192)\t1\n",
            "  (749, 4872)\t1\n",
            "  (749, 6281)\t1\n"
          ]
        }
      ],
      "source": [
        "print(X_train_counts)"
      ]
    },
    {
      "cell_type": "code",
      "execution_count": null,
      "metadata": {
        "id": "w9xKCWgFtBbA"
      },
      "outputs": [],
      "source": [
        "tfidf_transformer = TfidfTransformer()\n",
        "\n",
        "X_train_tfidf = tfidf_transformer.fit_transform(X_train_counts)"
      ]
    },
    {
      "cell_type": "code",
      "execution_count": null,
      "metadata": {
        "colab": {
          "base_uri": "https://localhost:8080/"
        },
        "id": "GNlYkTYCtBbA",
        "outputId": "85667065-2fb7-4084-831a-416f43278573"
      },
      "outputs": [
        {
          "output_type": "stream",
          "name": "stdout",
          "text": [
            "  (0, 5914)\t0.05001318791350738\n",
            "  (0, 5888)\t0.01901391602806159\n",
            "  (0, 5878)\t0.06219581999693758\n",
            "  (0, 5826)\t0.09468063419961215\n",
            "  (0, 5778)\t0.6777526535370546\n",
            "  (0, 5737)\t0.02633192060973175\n",
            "  (0, 5685)\t0.04869497008473751\n",
            "  (0, 5599)\t0.2104500323174195\n",
            "  (0, 5338)\t0.05263226008217741\n",
            "  (0, 5292)\t0.09522867321881447\n",
            "  (0, 5266)\t0.036378333613326666\n",
            "  (0, 5264)\t0.04397299703650496\n",
            "  (0, 5142)\t0.14355826382904058\n",
            "  (0, 4871)\t0.08516445209708107\n",
            "  (0, 4861)\t0.06935928252223356\n",
            "  (0, 4578)\t0.05834172202351214\n",
            "  (0, 4564)\t0.066765881421572\n",
            "  (0, 4563)\t0.06629326673980634\n",
            "  (0, 4527)\t0.07113967486280148\n",
            "  (0, 4524)\t0.10107271575140807\n",
            "  (0, 4509)\t0.0925336468773986\n",
            "  (0, 4498)\t0.030469574684631424\n",
            "  (0, 4228)\t0.07313859107609534\n",
            "  (0, 4012)\t0.19603902410422502\n",
            "  (0, 3888)\t0.050536357875704034\n",
            "  :\t:\n",
            "  (749, 483)\t0.02322011642561865\n",
            "  (749, 474)\t0.06112242268481787\n",
            "  (749, 470)\t0.030492583215483784\n",
            "  (749, 451)\t0.09993020152253668\n",
            "  (749, 441)\t0.040084891750082216\n",
            "  (749, 434)\t0.10570257021159872\n",
            "  (749, 433)\t0.04126819474645174\n",
            "  (749, 431)\t0.03459812396897396\n",
            "  (749, 411)\t0.029844526146765245\n",
            "  (749, 410)\t0.029844526146765245\n",
            "  (749, 397)\t0.014783836090830775\n",
            "  (749, 372)\t0.026345236001952772\n",
            "  (749, 368)\t0.062454579447942436\n",
            "  (749, 298)\t0.031227289723971218\n",
            "  (749, 295)\t0.0464402328512373\n",
            "  (749, 294)\t0.058529638689434206\n",
            "  (749, 292)\t0.054535708895077535\n",
            "  (749, 289)\t0.0365048495539429\n",
            "  (749, 75)\t0.021637253498398186\n",
            "  (749, 73)\t0.025451036421557643\n",
            "  (749, 72)\t0.10092188670039848\n",
            "  (749, 68)\t0.024447880296385328\n",
            "  (749, 40)\t0.10992990428315512\n",
            "  (749, 27)\t0.029844526146765245\n",
            "  (749, 5)\t0.022371960006885617\n"
          ]
        }
      ],
      "source": [
        "print(X_train_tfidf)"
      ]
    },
    {
      "cell_type": "code",
      "execution_count": null,
      "metadata": {
        "colab": {
          "base_uri": "https://localhost:8080/"
        },
        "id": "foOhYb7CtBbA",
        "outputId": "203e6b01-4b21-45f8-8ccb-ba0228c23f2b"
      },
      "outputs": [
        {
          "output_type": "execute_result",
          "data": {
            "text/plain": [
              "750"
            ]
          },
          "metadata": {},
          "execution_count": 22
        }
      ],
      "source": [
        "y_train.count()"
      ]
    },
    {
      "cell_type": "code",
      "execution_count": null,
      "metadata": {
        "id": "QqTR9CpDtBbA"
      },
      "outputs": [],
      "source": [
        "clf = MultinomialNB().fit(X_train_tfidf, y_train)"
      ]
    },
    {
      "cell_type": "code",
      "execution_count": null,
      "metadata": {
        "colab": {
          "base_uri": "https://localhost:8080/"
        },
        "id": "q6raU97ptBbB",
        "outputId": "74146c25-7ae9-42f0-c445-b54dffb2e5ff"
      },
      "outputs": [
        {
          "output_type": "stream",
          "name": "stdout",
          "text": [
            "MultinomialNB()\n"
          ]
        }
      ],
      "source": [
        "print(clf)"
      ]
    },
    {
      "cell_type": "code",
      "execution_count": null,
      "metadata": {
        "colab": {
          "base_uri": "https://localhost:8080/"
        },
        "id": "luVhoe2YtBbB",
        "outputId": "be07ccc6-1e79-40f4-ea8a-7f2ae9cd612b"
      },
      "outputs": [
        {
          "output_type": "stream",
          "name": "stdout",
          "text": [
            "['Credit reporting, credit repair services, or other personal consumer reports']\n"
          ]
        }
      ],
      "source": [
        "print(clf.predict(count_vect.transform([\"This company refuses to provide me verification and validation of debt per my right under the FDCPA. I do not believe this debt is mine.\"])))"
      ]
    },
    {
      "cell_type": "markdown",
      "source": [
        "Multinomial NB X train"
      ],
      "metadata": {
        "id": "GhXyI4-mVhYl"
      }
    },
    {
      "cell_type": "code",
      "execution_count": null,
      "metadata": {
        "id": "XGXIMZMXtBbB"
      },
      "outputs": [],
      "source": [
        "# Naive Bayes Classifier: the one most suitable for word counts is the multinomial variant:\n",
        "from sklearn.model_selection import train_test_split\n",
        "\n",
        "from sklearn.feature_extraction.text import CountVectorizer\n",
        "\n",
        "from sklearn.feature_extraction.text import TfidfTransformer\n",
        "\n",
        "from sklearn.naive_bayes import MultinomialNB\n",
        "\n",
        "import pickle\n",
        "\n",
        "X_train, X_test, y_train, y_test = train_test_split(df['Consumer_complaint_narrative'], df['Product'], random_state = 0)\n",
        "\n",
        "count_vect = CountVectorizer()\n",
        "\n",
        "X_train_counts = count_vect.fit_transform(X_train)\n",
        "\n",
        "tfidf_transformer = TfidfTransformer()\n",
        "\n",
        "X_train_tfidf = tfidf_transformer.fit_transform(X_train_counts)\n",
        "\n",
        "clf = MultinomialNB().fit(X_train_tfidf, y_train)\n",
        "\n",
        "pickle.dump(clf,open(\"file.model\",\"wb\"))\n",
        "\n",
        "#clf = pickle.load(open(\"file.model\", 'rb'))\n",
        "#result = clf.score(X_test, Y_test)\n"
      ]
    },
    {
      "cell_type": "code",
      "execution_count": null,
      "metadata": {
        "colab": {
          "base_uri": "https://localhost:8080/"
        },
        "id": "vi0_igOKtBbC",
        "outputId": "b2fabce8-636f-44d2-f391-df87fe16b6ed"
      },
      "outputs": [
        {
          "output_type": "stream",
          "name": "stdout",
          "text": [
            "['Credit reporting, credit repair services, or other personal consumer reports']\n"
          ]
        }
      ],
      "source": [
        "#After fitting the training set, let’s make some predictions.\n",
        "print(clf.predict(count_vect.transform([\"This company refuses to provide me verification and validation of debt per my right under the FDCPA. I do not believe this debt is mine.\"])))"
      ]
    },
    {
      "cell_type": "code",
      "execution_count": null,
      "metadata": {
        "colab": {
          "base_uri": "https://localhost:8080/"
        },
        "id": "UYuut9vxtBbC",
        "outputId": "be28b931-1307-4c6e-ed47-8f0c97779788"
      },
      "outputs": [
        {
          "output_type": "stream",
          "name": "stdout",
          "text": [
            "['Credit reporting, credit repair services, or other personal consumer reports']\n"
          ]
        }
      ],
      "source": [
        "print(clf.predict(count_vect.transform([\"I am disputing the inaccurate information the Chex-Systems has on my credit report. I initially submitted a police report on XXXX/XXXX/16 and Chex Systems only deleted the items that I mentioned in the letter and not all \\n the items that were actually listed on the police report. In other words they wanted me to say word for word to them what items were fraudulent. The total disregard of the police report and what accounts that it states that are fraudulent. If they just had paid a little closer attention to the police report I would not been in this position now and they would n't have to research once again. I would like the reported information to be removed : XXXX XXXX XXXX\"])))"
      ]
    },
    {
      "cell_type": "code",
      "source": [
        "import pandas as pd\n",
        "import numpy as np\n",
        "from sklearn.feature_extraction.text import CountVectorizer\n",
        "from sklearn.model_selection import train_test_split\n",
        "from sklearn.naive_bayes import MultinomialNB\n",
        "from sklearn.metrics import accuracy_score\n",
        "from sklearn.metrics import classification_report\n",
        "from sklearn.metrics import f1_score"
      ],
      "metadata": {
        "id": "pevv2UYuOTTb"
      },
      "execution_count": null,
      "outputs": []
    },
    {
      "cell_type": "code",
      "source": [
        "pd.set_option('max_colwidth', 1000)"
      ],
      "metadata": {
        "id": "IJFTPQEpOruH"
      },
      "execution_count": null,
      "outputs": []
    },
    {
      "cell_type": "code",
      "source": [
        "df = pd.read_csv('complaints.csv')"
      ],
      "metadata": {
        "colab": {
          "base_uri": "https://localhost:8080/"
        },
        "id": "jBC23m4cOx9l",
        "outputId": "19e87f80-6382-4076-a8c6-98cfc94ac73e"
      },
      "execution_count": null,
      "outputs": [
        {
          "output_type": "stream",
          "name": "stderr",
          "text": [
            "<ipython-input-32-0eca3c9e12e5>:1: DtypeWarning: Columns (9) have mixed types. Specify dtype option on import or set low_memory=False.\n",
            "  df = pd.read_csv('complaints.csv')\n"
          ]
        }
      ]
    },
    {
      "cell_type": "code",
      "source": [
        "df.sample(3).T"
      ],
      "metadata": {
        "colab": {
          "base_uri": "https://localhost:8080/",
          "height": 1000
        },
        "id": "K5dDiZkTPW7T",
        "outputId": "3fefe47b-c67b-415d-8712-228cef591037"
      },
      "execution_count": null,
      "outputs": [
        {
          "output_type": "execute_result",
          "data": {
            "text/plain": [
              "                                                            1120822  \\\n",
              "Date received                                            2014-04-16   \n",
              "Product                                             Debt collection   \n",
              "Sub-product                                           I do not know   \n",
              "Issue                         Cont'd attempts collect debt not owed   \n",
              "Sub-issue                                          Debt is not mine   \n",
              "Consumer complaint narrative                                    NaN   \n",
              "Company public response                                         NaN   \n",
              "Company                            Amsher Collection Services, Inc.   \n",
              "State                                                            NY   \n",
              "ZIP code                                                      11106   \n",
              "Tags                                                            NaN   \n",
              "Consumer consent provided?                                      NaN   \n",
              "Submitted via                                                   Web   \n",
              "Date sent to company                                     2014-04-16   \n",
              "Company response to consumer        Closed with non-monetary relief   \n",
              "Timely response?                                                Yes   \n",
              "Consumer disputed?                                               No   \n",
              "Complaint ID                                                 811188   \n",
              "\n",
              "                                                                                                   2422192  \\\n",
              "Date received                                                                                   2020-04-20   \n",
              "Product                       Credit reporting, credit repair services, or other personal consumer reports   \n",
              "Sub-product                                                                               Credit reporting   \n",
              "Issue                                                                 Incorrect information on your report   \n",
              "Sub-issue                                                                         Account status incorrect   \n",
              "Consumer complaint narrative                                                                           NaN   \n",
              "Company public response                                                                                NaN   \n",
              "Company                                                                                      EQUIFAX, INC.   \n",
              "State                                                                                                   KS   \n",
              "ZIP code                                                                                           66062.0   \n",
              "Tags                                                                                                   NaN   \n",
              "Consumer consent provided?                                                            Consent not provided   \n",
              "Submitted via                                                                                          Web   \n",
              "Date sent to company                                                                            2020-04-20   \n",
              "Company response to consumer                                                       Closed with explanation   \n",
              "Timely response?                                                                                       Yes   \n",
              "Consumer disputed?                                                                                     NaN   \n",
              "Complaint ID                                                                                       4817543   \n",
              "\n",
              "                                                                                                                                                                                                                                                                                                                                                                                                                                                                                                                                                                                                   416442   \n",
              "Date received                                                                                                                                                                                                                                                                                                                                                                                                                                                                                                                                                                                   2016-04-07  \n",
              "Product                                                                                                                                                                                                                                                                                                                                                                                                                                                                                                                                                                                    Debt collection  \n",
              "Sub-product                                                                                                                                                                                                                                                                                                                                                                                                                                                                                                                                                                                        Medical  \n",
              "Issue                                                                                                                                                                                                                                                                                                                                                                                                                                                                                                                                                                      Disclosure verification of debt  \n",
              "Sub-issue                                                                                                                                                                                                                                                                                                                                                                                                                                                                                                                                                             Right to dispute notice not received  \n",
              "Consumer complaint narrative  Progressive Management Services refused to negotiate on this debt even though I told them I could n't make it to the next hospital where my XXXX condition would have been evaluated for free. ( VA hospital as I am a Veteran ) Also they are n't reporting the amount I have already paid to the {$1400.00}. I am still owing {$300.00} bout it 's being reported as a {$2000.00} debt. I told them I needed it paid so I could refinance my mortgage and she laughed at me when I asked her to negotiate. I feel this unfair, prejudice and unreasonable of this company.  \n",
              "Company public response                                                                                                                                                                                                                                                                                                                                                                                                                                                                                                           Company believes it acted appropriately as authorized by contract or law  \n",
              "Company                                                                                                                                                                                                                                                                                                                                                                                                                                                                                                                                                                                 R.M. Galicia, Inc.  \n",
              "State                                                                                                                                                                                                                                                                                                                                                                                                                                                                                                                                                                                                   CA  \n",
              "ZIP code                                                                                                                                                                                                                                                                                                                                                                                                                                                                                                                                                                                           91941.0  \n",
              "Tags                                                                                                                                                                                                                                                                                                                                                                                                                                                                                                                                                                         Older American, Servicemember  \n",
              "Consumer consent provided?                                                                                                                                                                                                                                                                                                                                                                                                                                                                                                                                                                Consent provided  \n",
              "Submitted via                                                                                                                                                                                                                                                                                                                                                                                                                                                                                                                                                                                          Web  \n",
              "Date sent to company                                                                                                                                                                                                                                                                                                                                                                                                                                                                                                                                                                            2016-04-07  \n",
              "Company response to consumer                                                                                                                                                                                                                                                                                                                                                                                                                                                                                                                                                       Closed with explanation  \n",
              "Timely response?                                                                                                                                                                                                                                                                                                                                                                                                                                                                                                                                                                                       Yes  \n",
              "Consumer disputed?                                                                                                                                                                                                                                                                                                                                                                                                                                                                                                                                                                                      No  \n",
              "Complaint ID                                                                                                                                                                                                                                                                                                                                                                                                                                                                                                                                                                                       1866887  "
            ],
            "text/html": [
              "\n",
              "  <div id=\"df-8b2fc359-e044-407d-9048-e64860719805\">\n",
              "    <div class=\"colab-df-container\">\n",
              "      <div>\n",
              "<style scoped>\n",
              "    .dataframe tbody tr th:only-of-type {\n",
              "        vertical-align: middle;\n",
              "    }\n",
              "\n",
              "    .dataframe tbody tr th {\n",
              "        vertical-align: top;\n",
              "    }\n",
              "\n",
              "    .dataframe thead th {\n",
              "        text-align: right;\n",
              "    }\n",
              "</style>\n",
              "<table border=\"1\" class=\"dataframe\">\n",
              "  <thead>\n",
              "    <tr style=\"text-align: right;\">\n",
              "      <th></th>\n",
              "      <th>1120822</th>\n",
              "      <th>2422192</th>\n",
              "      <th>416442</th>\n",
              "    </tr>\n",
              "  </thead>\n",
              "  <tbody>\n",
              "    <tr>\n",
              "      <th>Date received</th>\n",
              "      <td>2014-04-16</td>\n",
              "      <td>2020-04-20</td>\n",
              "      <td>2016-04-07</td>\n",
              "    </tr>\n",
              "    <tr>\n",
              "      <th>Product</th>\n",
              "      <td>Debt collection</td>\n",
              "      <td>Credit reporting, credit repair services, or other personal consumer reports</td>\n",
              "      <td>Debt collection</td>\n",
              "    </tr>\n",
              "    <tr>\n",
              "      <th>Sub-product</th>\n",
              "      <td>I do not know</td>\n",
              "      <td>Credit reporting</td>\n",
              "      <td>Medical</td>\n",
              "    </tr>\n",
              "    <tr>\n",
              "      <th>Issue</th>\n",
              "      <td>Cont'd attempts collect debt not owed</td>\n",
              "      <td>Incorrect information on your report</td>\n",
              "      <td>Disclosure verification of debt</td>\n",
              "    </tr>\n",
              "    <tr>\n",
              "      <th>Sub-issue</th>\n",
              "      <td>Debt is not mine</td>\n",
              "      <td>Account status incorrect</td>\n",
              "      <td>Right to dispute notice not received</td>\n",
              "    </tr>\n",
              "    <tr>\n",
              "      <th>Consumer complaint narrative</th>\n",
              "      <td>NaN</td>\n",
              "      <td>NaN</td>\n",
              "      <td>Progressive Management Services refused to negotiate on this debt even though I told them I could n't make it to the next hospital where my XXXX condition would have been evaluated for free. ( VA hospital as I am a Veteran ) Also they are n't reporting the amount I have already paid to the {$1400.00}. I am still owing {$300.00} bout it 's being reported as a {$2000.00} debt. I told them I needed it paid so I could refinance my mortgage and she laughed at me when I asked her to negotiate. I feel this unfair, prejudice and unreasonable of this company.</td>\n",
              "    </tr>\n",
              "    <tr>\n",
              "      <th>Company public response</th>\n",
              "      <td>NaN</td>\n",
              "      <td>NaN</td>\n",
              "      <td>Company believes it acted appropriately as authorized by contract or law</td>\n",
              "    </tr>\n",
              "    <tr>\n",
              "      <th>Company</th>\n",
              "      <td>Amsher Collection Services, Inc.</td>\n",
              "      <td>EQUIFAX, INC.</td>\n",
              "      <td>R.M. Galicia, Inc.</td>\n",
              "    </tr>\n",
              "    <tr>\n",
              "      <th>State</th>\n",
              "      <td>NY</td>\n",
              "      <td>KS</td>\n",
              "      <td>CA</td>\n",
              "    </tr>\n",
              "    <tr>\n",
              "      <th>ZIP code</th>\n",
              "      <td>11106</td>\n",
              "      <td>66062.0</td>\n",
              "      <td>91941.0</td>\n",
              "    </tr>\n",
              "    <tr>\n",
              "      <th>Tags</th>\n",
              "      <td>NaN</td>\n",
              "      <td>NaN</td>\n",
              "      <td>Older American, Servicemember</td>\n",
              "    </tr>\n",
              "    <tr>\n",
              "      <th>Consumer consent provided?</th>\n",
              "      <td>NaN</td>\n",
              "      <td>Consent not provided</td>\n",
              "      <td>Consent provided</td>\n",
              "    </tr>\n",
              "    <tr>\n",
              "      <th>Submitted via</th>\n",
              "      <td>Web</td>\n",
              "      <td>Web</td>\n",
              "      <td>Web</td>\n",
              "    </tr>\n",
              "    <tr>\n",
              "      <th>Date sent to company</th>\n",
              "      <td>2014-04-16</td>\n",
              "      <td>2020-04-20</td>\n",
              "      <td>2016-04-07</td>\n",
              "    </tr>\n",
              "    <tr>\n",
              "      <th>Company response to consumer</th>\n",
              "      <td>Closed with non-monetary relief</td>\n",
              "      <td>Closed with explanation</td>\n",
              "      <td>Closed with explanation</td>\n",
              "    </tr>\n",
              "    <tr>\n",
              "      <th>Timely response?</th>\n",
              "      <td>Yes</td>\n",
              "      <td>Yes</td>\n",
              "      <td>Yes</td>\n",
              "    </tr>\n",
              "    <tr>\n",
              "      <th>Consumer disputed?</th>\n",
              "      <td>No</td>\n",
              "      <td>NaN</td>\n",
              "      <td>No</td>\n",
              "    </tr>\n",
              "    <tr>\n",
              "      <th>Complaint ID</th>\n",
              "      <td>811188</td>\n",
              "      <td>4817543</td>\n",
              "      <td>1866887</td>\n",
              "    </tr>\n",
              "  </tbody>\n",
              "</table>\n",
              "</div>\n",
              "      <button class=\"colab-df-convert\" onclick=\"convertToInteractive('df-8b2fc359-e044-407d-9048-e64860719805')\"\n",
              "              title=\"Convert this dataframe to an interactive table.\"\n",
              "              style=\"display:none;\">\n",
              "        \n",
              "  <svg xmlns=\"http://www.w3.org/2000/svg\" height=\"24px\"viewBox=\"0 0 24 24\"\n",
              "       width=\"24px\">\n",
              "    <path d=\"M0 0h24v24H0V0z\" fill=\"none\"/>\n",
              "    <path d=\"M18.56 5.44l.94 2.06.94-2.06 2.06-.94-2.06-.94-.94-2.06-.94 2.06-2.06.94zm-11 1L8.5 8.5l.94-2.06 2.06-.94-2.06-.94L8.5 2.5l-.94 2.06-2.06.94zm10 10l.94 2.06.94-2.06 2.06-.94-2.06-.94-.94-2.06-.94 2.06-2.06.94z\"/><path d=\"M17.41 7.96l-1.37-1.37c-.4-.4-.92-.59-1.43-.59-.52 0-1.04.2-1.43.59L10.3 9.45l-7.72 7.72c-.78.78-.78 2.05 0 2.83L4 21.41c.39.39.9.59 1.41.59.51 0 1.02-.2 1.41-.59l7.78-7.78 2.81-2.81c.8-.78.8-2.07 0-2.86zM5.41 20L4 18.59l7.72-7.72 1.47 1.35L5.41 20z\"/>\n",
              "  </svg>\n",
              "      </button>\n",
              "      \n",
              "  <style>\n",
              "    .colab-df-container {\n",
              "      display:flex;\n",
              "      flex-wrap:wrap;\n",
              "      gap: 12px;\n",
              "    }\n",
              "\n",
              "    .colab-df-convert {\n",
              "      background-color: #E8F0FE;\n",
              "      border: none;\n",
              "      border-radius: 50%;\n",
              "      cursor: pointer;\n",
              "      display: none;\n",
              "      fill: #1967D2;\n",
              "      height: 32px;\n",
              "      padding: 0 0 0 0;\n",
              "      width: 32px;\n",
              "    }\n",
              "\n",
              "    .colab-df-convert:hover {\n",
              "      background-color: #E2EBFA;\n",
              "      box-shadow: 0px 1px 2px rgba(60, 64, 67, 0.3), 0px 1px 3px 1px rgba(60, 64, 67, 0.15);\n",
              "      fill: #174EA6;\n",
              "    }\n",
              "\n",
              "    [theme=dark] .colab-df-convert {\n",
              "      background-color: #3B4455;\n",
              "      fill: #D2E3FC;\n",
              "    }\n",
              "\n",
              "    [theme=dark] .colab-df-convert:hover {\n",
              "      background-color: #434B5C;\n",
              "      box-shadow: 0px 1px 3px 1px rgba(0, 0, 0, 0.15);\n",
              "      filter: drop-shadow(0px 1px 2px rgba(0, 0, 0, 0.3));\n",
              "      fill: #FFFFFF;\n",
              "    }\n",
              "  </style>\n",
              "\n",
              "      <script>\n",
              "        const buttonEl =\n",
              "          document.querySelector('#df-8b2fc359-e044-407d-9048-e64860719805 button.colab-df-convert');\n",
              "        buttonEl.style.display =\n",
              "          google.colab.kernel.accessAllowed ? 'block' : 'none';\n",
              "\n",
              "        async function convertToInteractive(key) {\n",
              "          const element = document.querySelector('#df-8b2fc359-e044-407d-9048-e64860719805');\n",
              "          const dataTable =\n",
              "            await google.colab.kernel.invokeFunction('convertToInteractive',\n",
              "                                                     [key], {});\n",
              "          if (!dataTable) return;\n",
              "\n",
              "          const docLinkHtml = 'Like what you see? Visit the ' +\n",
              "            '<a target=\"_blank\" href=https://colab.research.google.com/notebooks/data_table.ipynb>data table notebook</a>'\n",
              "            + ' to learn more about interactive tables.';\n",
              "          element.innerHTML = '';\n",
              "          dataTable['output_type'] = 'display_data';\n",
              "          await google.colab.output.renderOutput(dataTable, element);\n",
              "          const docLink = document.createElement('div');\n",
              "          docLink.innerHTML = docLinkHtml;\n",
              "          element.appendChild(docLink);\n",
              "        }\n",
              "      </script>\n",
              "    </div>\n",
              "  </div>\n",
              "  "
            ]
          },
          "metadata": {},
          "execution_count": 34
        }
      ]
    },
    {
      "cell_type": "code",
      "source": [
        "count_vec = CountVectorizer()\n",
        "bow = count_vec.fit_transform(df['Product'])\n",
        "bow = np.array(bow.todense())"
      ],
      "metadata": {
        "id": "4K9nl_H_QRYj"
      },
      "execution_count": null,
      "outputs": []
    },
    {
      "cell_type": "code",
      "source": [
        "X = bow\n",
        "y = df['Product']"
      ],
      "metadata": {
        "id": "e2idbxIIP4TD"
      },
      "execution_count": null,
      "outputs": []
    },
    {
      "cell_type": "code",
      "source": [
        "X_train, X_test, y_train, y_test = train_test_split(X, y, \n",
        "                                                    test_size=0.3, \n",
        "                                                    stratify=y)"
      ],
      "metadata": {
        "id": "n5gz_iULSvfl"
      },
      "execution_count": null,
      "outputs": []
    },
    {
      "cell_type": "code",
      "source": [
        "model = MultinomialNB().fit(X_train, y_train)"
      ],
      "metadata": {
        "id": "cTF5jsmJTAk5"
      },
      "execution_count": null,
      "outputs": []
    },
    {
      "cell_type": "code",
      "source": [
        "y_pred = model.predict(X_test)"
      ],
      "metadata": {
        "id": "3mWNksQZTXL6"
      },
      "execution_count": null,
      "outputs": []
    },
    {
      "cell_type": "code",
      "source": [
        "print('Accuracy:', accuracy_score(y_test, y_pred))\n",
        "print('F1 score:', f1_score(y_test, y_pred, average=\"macro\"))"
      ],
      "metadata": {
        "colab": {
          "base_uri": "https://localhost:8080/"
        },
        "id": "bQK5I2Z1Tb5T",
        "outputId": "5f724544-0fc2-4747-dd00-247ed26eddcd"
      },
      "execution_count": null,
      "outputs": [
        {
          "output_type": "stream",
          "name": "stdout",
          "text": [
            "Accuracy: 0.9985910872497681\n",
            "F1 score: 0.8881494828709169\n"
          ]
        }
      ]
    },
    {
      "cell_type": "code",
      "source": [
        "print(classification_report(y_test, y_pred))"
      ],
      "metadata": {
        "colab": {
          "base_uri": "https://localhost:8080/"
        },
        "id": "LfjScwz8TmUZ",
        "outputId": "aa441c7d-aa45-4a31-ef5b-742234db0283"
      },
      "execution_count": null,
      "outputs": [
        {
          "output_type": "stream",
          "name": "stderr",
          "text": [
            "/usr/local/lib/python3.9/dist-packages/sklearn/metrics/_classification.py:1344: UndefinedMetricWarning: Precision and F-score are ill-defined and being set to 0.0 in labels with no predicted samples. Use `zero_division` parameter to control this behavior.\n",
            "  _warn_prf(average, modifier, msg_start, len(result))\n",
            "/usr/local/lib/python3.9/dist-packages/sklearn/metrics/_classification.py:1344: UndefinedMetricWarning: Precision and F-score are ill-defined and being set to 0.0 in labels with no predicted samples. Use `zero_division` parameter to control this behavior.\n",
            "  _warn_prf(average, modifier, msg_start, len(result))\n"
          ]
        },
        {
          "output_type": "stream",
          "name": "stdout",
          "text": [
            "                                                                              precision    recall  f1-score   support\n",
            "\n",
            "                                                     Bank account or service       1.00      1.00      1.00     25862\n",
            "                                                 Checking or savings account       1.00      1.00      1.00     40594\n",
            "                                                               Consumer Loan       1.00      1.00      1.00      9480\n",
            "                                                                 Credit card       1.00      1.00      1.00     26757\n",
            "                                                 Credit card or prepaid card       0.97      1.00      0.99     43164\n",
            "                                                            Credit reporting       1.00      1.00      1.00     42129\n",
            "Credit reporting, credit repair services, or other personal consumer reports       1.00      1.00      1.00    341163\n",
            "                                                             Debt collection       1.00      1.00      1.00    126657\n",
            "                          Money transfer, virtual currency, or money service       1.00      1.00      1.00     12001\n",
            "                                                             Money transfers       1.00      1.00      1.00      1606\n",
            "                                                                    Mortgage       1.00      1.00      1.00    107866\n",
            "                                                     Other financial service       1.00      1.00      1.00       317\n",
            "                                                                 Payday loan       1.00      1.00      1.00      1663\n",
            "                                   Payday loan, title loan, or personal loan       1.00      1.00      1.00      6696\n",
            "                                                                Prepaid card       0.00      0.00      0.00      1146\n",
            "                                                                Student loan       1.00      1.00      1.00     20044\n",
            "                                                       Vehicle loan or lease       1.00      1.00      1.00      9792\n",
            "                                                            Virtual currency       0.00      0.00      0.00         5\n",
            "\n",
            "                                                                    accuracy                           1.00    816942\n",
            "                                                                   macro avg       0.89      0.89      0.89    816942\n",
            "                                                                weighted avg       1.00      1.00      1.00    816942\n",
            "\n"
          ]
        },
        {
          "output_type": "stream",
          "name": "stderr",
          "text": [
            "/usr/local/lib/python3.9/dist-packages/sklearn/metrics/_classification.py:1344: UndefinedMetricWarning: Precision and F-score are ill-defined and being set to 0.0 in labels with no predicted samples. Use `zero_division` parameter to control this behavior.\n",
            "  _warn_prf(average, modifier, msg_start, len(result))\n"
          ]
        }
      ]
    },
    {
      "cell_type": "code",
      "source": [],
      "metadata": {
        "id": "ad_IKketT_zI"
      },
      "execution_count": null,
      "outputs": []
    }
  ],
  "metadata": {
    "kernelspec": {
      "display_name": "Python 3.10.6 64-bit",
      "language": "python",
      "name": "python3"
    },
    "language_info": {
      "codemirror_mode": {
        "name": "ipython",
        "version": 3
      },
      "file_extension": ".py",
      "mimetype": "text/x-python",
      "name": "python",
      "nbconvert_exporter": "python",
      "pygments_lexer": "ipython3",
      "version": "3.10.6"
    },
    "vscode": {
      "interpreter": {
        "hash": "aee8b7b246df8f9039afb4144a1f6fd8d2ca17a180786b69acc140d282b71a49"
      }
    },
    "colab": {
      "provenance": [],
      "include_colab_link": true
    }
  },
  "nbformat": 4,
  "nbformat_minor": 0
}